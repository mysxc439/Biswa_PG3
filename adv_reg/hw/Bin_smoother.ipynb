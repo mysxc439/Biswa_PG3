{
 "cells": [
  {
   "cell_type": "code",
   "execution_count": 1,
   "id": "31f6dad4",
   "metadata": {},
   "outputs": [],
   "source": [
    "import numpy as np, pandas as pd, matplotlib.pyplot as plt\n",
    "from sklearn.model_selection import train_test_split"
   ]
  },
  {
   "cell_type": "code",
   "execution_count": 2,
   "id": "ae783f31",
   "metadata": {},
   "outputs": [],
   "source": [
    "class StepFunction:\n",
    "    def __init__(self, x, y):\n",
    "        \"\"\"\n",
    "        Initialize with breakpoints `x` and values `y`.\n",
    "        `x` should have length k+1 and `y` should have length k.\n",
    "        \"\"\"\n",
    "        if len(y) != len(x) - 1:\n",
    "            raise ValueError(\"Length of y must be one less than length of x\")\n",
    "        self.x = x\n",
    "        self.y = y\n",
    "\n",
    "    def predict(self, z):\n",
    "        # Predict step function value at z (scalar or array).\n",
    "        z = np.asarray(z)\n",
    "        result = np.zeros_like(z, dtype=float)\n",
    "        for i in range(len(self.y)):\n",
    "            result[(z >= self.x[i]) & (z < self.x[i + 1])] = self.y[i]\n",
    "        return result"
   ]
  },
  {
   "cell_type": "code",
   "execution_count": 3,
   "id": "c5b8a61a",
   "metadata": {},
   "outputs": [],
   "source": [
    "def Bin_smoothing(k, Train, Test, reg_func, test_size=0.2, random_state=None, plot=True):\n",
    "    # split the data into train and test sets\n",
    "    X_train, X_test, y_train, y_test = train_test_split(Train, Test, test_size=test_size, random_state=42)\n",
    "    \n",
    "    # Bin edges with dynamic allocation\n",
    "    bin_width = (max(X_train) - min(X_train)) / k\n",
    "    bins = np.linspace(min(X_train), max(X_train), k+1)\n",
    "    bin_means = []  # or we can use np.zeros(k) to preallocate\n",
    "\n",
    "    for i in range(k):\n",
    "        # Get the indices of the training data that fall into the current bin\n",
    "        indices = np.where((X_train >= bins[i]) & (X_train < bins[i+1]))[0]\n",
    "        if len(indices) > 0:\n",
    "            # Calculate the mean of Y values in this bin\n",
    "            bin_mean = np.mean(y_train[indices])\n",
    "        else:\n",
    "            # If no data points in this bin, use NaN or some other value\n",
    "            bin_mean = np.nan\n",
    "        bin_means.append(bin_mean)\n",
    "\n",
    "    # Handle NaN values in bin_means using forward and backward filling\n",
    "    nan_indices = np.where(np.isnan(bin_means))[0]\n",
    "    for idx in nan_indices:\n",
    "        # Find the nearest non-NaN value\n",
    "        left_val = bin_means[idx-1] if idx > 0 and not np.isnan(bin_means[idx-1]) else np.nan\n",
    "        right_val = bin_means[idx+1] if idx < len(bin_means)-1 and not np.isnan(bin_means[idx+1]) else np.nan\n",
    "        \n",
    "        if not np.isnan(left_val) and not np.isnan(right_val):\n",
    "            bin_means[idx] = (left_val + right_val) / 2\n",
    "        elif not np.isnan(left_val):\n",
    "            bin_means[idx] = left_val\n",
    "        elif not np.isnan(right_val):\n",
    "            bin_means[idx] = right_val\n",
    "\n",
    "    # Create step object \n",
    "    step_func = StepFunction(bins, bin_means)\n",
    "\n",
    "    # plot the regression function\n",
    "    if plot:\n",
    "        # scatter plot of the training data\n",
    "        plt.figure(figsize=(10, 6))\n",
    "        plt.scatter(X_train, y_train, marker='o', label='Train', color='blue')\n",
    "        plt.scatter(Test['X'], Test['Y'], marker='s', label='Test', color='orange')\n",
    "        # plot the true regression curve\n",
    "        x_curve = np.linspace(min(X_train), max(X_train), 500)\n",
    "        plt.plot(x_curve, reg_func(x_curve), color='red', label='Regression Curve')\n",
    "\n",
    "        # plot the step function\n",
    "        plt.plot(x_curve, step_func.predict(x_curve), color='green', label='Step Function')\n",
    "        for bin in bins:\n",
    "            plt.axvline(x=bin, color='gray', linestyle='--', alpha=0.5)\n",
    "        plt.xlabel('X')\n",
    "        plt.ylabel('Y')\n",
    "        plt.legend()\n",
    "        plt.title(f'Bin width = {bin_width}')\n",
    "        plt.show()\n",
    "\n",
    "    # Compute test and train errors\n",
    "    err_Train = np.mean((y_train - step_func.predict(X_train))**2)\n",
    "    err_Test = np.mean((y_test - step_func.predict(X_test))**2)\n",
    "    \n",
    "    return [err_Train, err_Test]"
   ]
  },
  {
   "cell_type": "code",
   "execution_count": 4,
   "id": "cf73e788",
   "metadata": {},
   "outputs": [],
   "source": [
    "# Define the regression function\n",
    "def reg(x):\n",
    "    return 5 * np.sin(x) + 23 * (np.cos(x))**2"
   ]
  },
  {
   "cell_type": "code",
   "execution_count": 5,
   "id": "af1937b4",
   "metadata": {},
   "outputs": [
    {
     "data": {
      "application/vnd.microsoft.datawrangler.viewer.v0+json": {
       "columns": [
        {
         "name": "index",
         "rawType": "int64",
         "type": "integer"
        },
        {
         "name": "k",
         "rawType": "int64",
         "type": "integer"
        },
        {
         "name": "Avg Train error",
         "rawType": "float64",
         "type": "float"
        },
        {
         "name": "Avg Test error",
         "rawType": "float64",
         "type": "float"
        }
       ],
       "ref": "8603c1f8-1578-45c4-99e2-9cb50e2c48e8",
       "rows": [
        [
         "0",
         "5",
         "86.83992431090584",
         "97.89418441661523"
        ],
        [
         "1",
         "10",
         "41.80862042654777",
         "53.37980278468369"
        ],
        [
         "2",
         "15",
         "30.712277788714424",
         "46.63730488630257"
        ],
        [
         "3",
         "20",
         "25.85491301635147",
         "42.854407871897884"
        ],
        [
         "4",
         "25",
         "23.118667403016378",
         "42.627166560080624"
        ],
        [
         "5",
         "30",
         "20.456536323855122",
         "45.549336859567184"
        ],
        [
         "6",
         "35",
         "19.11088253251638",
         "42.13496753814095"
        ],
        [
         "7",
         "40",
         "18.01370309341996",
         "43.241587017587555"
        ],
        [
         "8",
         "45",
         "16.783876040735546",
         "42.43384057790722"
        ],
        [
         "9",
         "50",
         "15.79879145587627",
         "43.60596456258899"
        ]
       ],
       "shape": {
        "columns": 3,
        "rows": 10
       }
      },
      "text/html": [
       "<div>\n",
       "<style scoped>\n",
       "    .dataframe tbody tr th:only-of-type {\n",
       "        vertical-align: middle;\n",
       "    }\n",
       "\n",
       "    .dataframe tbody tr th {\n",
       "        vertical-align: top;\n",
       "    }\n",
       "\n",
       "    .dataframe thead th {\n",
       "        text-align: right;\n",
       "    }\n",
       "</style>\n",
       "<table border=\"1\" class=\"dataframe\">\n",
       "  <thead>\n",
       "    <tr style=\"text-align: right;\">\n",
       "      <th></th>\n",
       "      <th>k</th>\n",
       "      <th>Avg Train error</th>\n",
       "      <th>Avg Test error</th>\n",
       "    </tr>\n",
       "  </thead>\n",
       "  <tbody>\n",
       "    <tr>\n",
       "      <th>0</th>\n",
       "      <td>5</td>\n",
       "      <td>86.839924</td>\n",
       "      <td>97.894184</td>\n",
       "    </tr>\n",
       "    <tr>\n",
       "      <th>1</th>\n",
       "      <td>10</td>\n",
       "      <td>41.808620</td>\n",
       "      <td>53.379803</td>\n",
       "    </tr>\n",
       "    <tr>\n",
       "      <th>2</th>\n",
       "      <td>15</td>\n",
       "      <td>30.712278</td>\n",
       "      <td>46.637305</td>\n",
       "    </tr>\n",
       "    <tr>\n",
       "      <th>3</th>\n",
       "      <td>20</td>\n",
       "      <td>25.854913</td>\n",
       "      <td>42.854408</td>\n",
       "    </tr>\n",
       "    <tr>\n",
       "      <th>4</th>\n",
       "      <td>25</td>\n",
       "      <td>23.118667</td>\n",
       "      <td>42.627167</td>\n",
       "    </tr>\n",
       "    <tr>\n",
       "      <th>5</th>\n",
       "      <td>30</td>\n",
       "      <td>20.456536</td>\n",
       "      <td>45.549337</td>\n",
       "    </tr>\n",
       "    <tr>\n",
       "      <th>6</th>\n",
       "      <td>35</td>\n",
       "      <td>19.110883</td>\n",
       "      <td>42.134968</td>\n",
       "    </tr>\n",
       "    <tr>\n",
       "      <th>7</th>\n",
       "      <td>40</td>\n",
       "      <td>18.013703</td>\n",
       "      <td>43.241587</td>\n",
       "    </tr>\n",
       "    <tr>\n",
       "      <th>8</th>\n",
       "      <td>45</td>\n",
       "      <td>16.783876</td>\n",
       "      <td>42.433841</td>\n",
       "    </tr>\n",
       "    <tr>\n",
       "      <th>9</th>\n",
       "      <td>50</td>\n",
       "      <td>15.798791</td>\n",
       "      <td>43.605965</td>\n",
       "    </tr>\n",
       "  </tbody>\n",
       "</table>\n",
       "</div>"
      ],
      "text/plain": [
       "    k  Avg Train error  Avg Test error\n",
       "0   5        86.839924       97.894184\n",
       "1  10        41.808620       53.379803\n",
       "2  15        30.712278       46.637305\n",
       "3  20        25.854913       42.854408\n",
       "4  25        23.118667       42.627167\n",
       "5  30        20.456536       45.549337\n",
       "6  35        19.110883       42.134968\n",
       "7  40        18.013703       43.241587\n",
       "8  45        16.783876       42.433841\n",
       "9  50        15.798791       43.605965"
      ]
     },
     "execution_count": 5,
     "metadata": {},
     "output_type": "execute_result"
    }
   ],
   "source": [
    "k = np.arange(5, 51, 5) # Number of bins\n",
    "Res = {ki: [] for ki in k}  # Dictionary to store results for each k\n",
    "R = 50 # Repeat the procedure 50 times\n",
    "\n",
    "for r in range(R):\n",
    "    np.random.seed(r)\n",
    "    # Simulating different data sets over different replication\n",
    "    X = np.random.uniform(5, 15, 100)\n",
    "    Y = reg(X) + np.random.normal(0, 5, 100)    \n",
    "    # compute the errors for different number of bins\n",
    "    for ki in k:\n",
    "        train_err, test_err = Bin_smoothing(ki, X, Y, reg(X),\n",
    "                                          plot=False, test_size=0.2,\n",
    "                                          random_state=r)\n",
    "        Res[ki].append([train_err, test_err])\n",
    "\n",
    "# Calculate mean errors for each k\n",
    "mean_errors = []\n",
    "for ki in k:\n",
    "    mean_train = np.mean([x[0] for x in Res[ki]])\n",
    "    mean_test = np.mean([x[1] for x in Res[ki]])\n",
    "    mean_errors.append([mean_train, mean_test])\n",
    "\n",
    "# Create the dataframe\n",
    "Res_df = pd.DataFrame(mean_errors, columns=['Avg Train error', 'Avg Test error'])\n",
    "Res_df.insert(loc=0, column='k', value=k)\n",
    "Res_df"
   ]
  },
  {
   "cell_type": "code",
   "execution_count": 6,
   "id": "ee1fdfbb",
   "metadata": {},
   "outputs": [
    {
     "data": {
      "text/plain": [
       "<matplotlib.legend.Legend at 0x2155e80c440>"
      ]
     },
     "execution_count": 6,
     "metadata": {},
     "output_type": "execute_result"
    },
    {
     "data": {
      "image/png": "[encoded data removed]",
      "text/plain": [
       "<Figure size 640x480 with 1 Axes>"
      ]
     },
     "metadata": {},
     "output_type": "display_data"
    }
   ],
   "source": [
    "# figsize = figure()\n",
    "plt.plot(Res_df['k'], Res_df['Avg Train error'],label='Avg Train error')\n",
    "plt.plot(Res_df['k'], Res_df['Avg Test error'],label='Avg Test error')\n",
    "plt.xlabel('k, number of bins', fontsize=20); plt.ylabel('Error', fontsize = 20)\n",
    "plt.title('Plot of Average Train error vs Average Test error')\n",
    "plt.legend()"
   ]
  }
 ],
 "metadata": {
  "kernelspec": {
   "display_name": "Python 3",
   "language": "python",
   "name": "python3"
  },
  "language_info": {
   "codemirror_mode": {
    "name": "ipython",
    "version": 3
   },
   "file_extension": ".py",
   "mimetype": "text/x-python",
   "name": "python",
   "nbconvert_exporter": "python",
   "pygments_lexer": "ipython3",
   "version": "3.13.7"
  }
 },
 "nbformat": 4,
 "nbformat_minor": 5
}
