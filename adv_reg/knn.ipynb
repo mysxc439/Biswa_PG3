{
 "cells": [
  {
   "cell_type": "markdown",
   "id": "bd3ca90d",
   "metadata": {},
   "source": [
    "## User defined Knn"
   ]
  },
  {
   "cell_type": "markdown",
   "id": "52c36422",
   "metadata": {},
   "source": [
    "Import required libraries"
   ]
  },
  {
   "cell_type": "code",
   "execution_count": 1,
   "id": "4dc53efe",
   "metadata": {},
   "outputs": [],
   "source": [
    "import numpy as np, pandas as pd, matplotlib.pyplot as plt, seaborn as sns\n",
    "sns.set_style('whitegrid')\n",
    "\n",
    "from sklearn.model_selection import train_test_split\n",
    "from sklearn.metrics import mean_squared_error, r2_score"
   ]
  },
  {
   "cell_type": "markdown",
   "id": "d857e42a",
   "metadata": {},
   "source": [
    "Define regression function and generate random data"
   ]
  },
  {
   "cell_type": "code",
   "execution_count": 2,
   "id": "2693f80f",
   "metadata": {},
   "outputs": [
    {
     "data": {
      "text/plain": [
       "((100,), (100,), (100,))"
      ]
     },
     "execution_count": 2,
     "metadata": {},
     "output_type": "execute_result"
    }
   ],
   "source": [
    "def reg(x):\n",
    "    return 5*np.sin(x) +23*(np.cos(x)**2)\n",
    "\n",
    "np.random.seed(42)\n",
    "x = np.random.uniform(5,15,100)\n",
    "y = reg(x) + np.random.normal(0,5,100)\n",
    "\n",
    "x.shape, reg(x).shape, y.shape"
   ]
  },
  {
   "cell_type": "markdown",
   "id": "0bdf9ae7",
   "metadata": {},
   "source": [
    "Split the data into training and testing sets"
   ]
  },
  {
   "cell_type": "code",
   "execution_count": 3,
   "id": "d24a38a4",
   "metadata": {},
   "outputs": [],
   "source": [
    "X_train, X_test, y_train, y_test = train_test_split(x, y, test_size=0.2, random_state=42)"
   ]
  },
  {
   "cell_type": "markdown",
   "id": "e4adebf8",
   "metadata": {},
   "source": [
    "Define knn function"
   ]
  },
  {
   "cell_type": "code",
   "execution_count": 4,
   "id": "efaf4ce7",
   "metadata": {},
   "outputs": [],
   "source": [
    "def knnr(input, k, X_train, y_train):\n",
    "    distances = np.abs(X_train - input)\n",
    "    sorted_indices = np.argsort(distances)[:k]  # returning the incices of the sorted array\n",
    "    nearest_neighbors = y_train[sorted_indices]\n",
    "    return np.mean(nearest_neighbors)"
   ]
  },
  {
   "cell_type": "markdown",
   "id": "8f3eb03c",
   "metadata": {},
   "source": [
    "Training of the model"
   ]
  },
  {
   "cell_type": "code",
   "execution_count": 5,
   "id": "e6c69663",
   "metadata": {},
   "outputs": [
    {
     "data": {
      "text/plain": [
       "(20,)"
      ]
     },
     "execution_count": 5,
     "metadata": {},
     "output_type": "execute_result"
    }
   ],
   "source": [
    "k = 5\n",
    "y_pred = np.array([knnr(i, k, X_train, y_train) for i in X_test])\n",
    "y_pred.shape"
   ]
  },
  {
   "cell_type": "code",
   "execution_count": 6,
   "id": "7976b70d",
   "metadata": {},
   "outputs": [
    {
     "name": "stdout",
     "output_type": "stream",
     "text": [
      "Mean Squared Error: 26.88685038345269\n",
      "R^2 Score: 0.5514866726164888\n"
     ]
    }
   ],
   "source": [
    "print(\"Mean Squared Error:\", mean_squared_error(y_test, y_pred))\n",
    "print(\"R^2 Score:\", r2_score(y_test, y_pred))"
   ]
  },
  {
   "cell_type": "markdown",
   "id": "b06ab08f",
   "metadata": {},
   "source": [
    "Plot the actual and predicted values"
   ]
  },
  {
   "cell_type": "code",
   "execution_count": null,
   "id": "a06af6fe",
   "metadata": {},
   "outputs": [],
   "source": [
    "plt.figure(figsize=(10, 6))\n",
    "plt.scatter(X_test, y_test, color='blue', label='Actual Values')\n",
    "plt.scatter(X_test, y_pred, color='red', label='Predicted Values')\n",
    "\n",
    "x"
   ]
  },
  {
   "cell_type": "markdown",
   "id": "76741b33",
   "metadata": {},
   "source": [
    "Repeat the above steps for different values of k and analyze the results."
   ]
  },
  {
   "cell_type": "code",
   "execution_count": null,
   "id": "2b0eb024",
   "metadata": {},
   "outputs": [],
   "source": [
    "errors = []\n",
    "for k in range(1, 20):\n",
    "    "
   ]
  }
 ],
 "metadata": {
  "kernelspec": {
   "display_name": "Python 3",
   "language": "python",
   "name": "python3"
  },
  "language_info": {
   "codemirror_mode": {
    "name": "ipython",
    "version": 3
   },
   "file_extension": ".py",
   "mimetype": "text/x-python",
   "name": "python",
   "nbconvert_exporter": "python",
   "pygments_lexer": "ipython3",
   "version": "3.13.6"
  }
 },
 "nbformat": 4,
 "nbformat_minor": 5
}
