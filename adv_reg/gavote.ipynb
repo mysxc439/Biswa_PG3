{
 "cells": [
  {
   "cell_type": "markdown",
   "id": "f5509311",
   "metadata": {},
   "source": [
    "Import required libraries"
   ]
  },
  {
   "cell_type": "code",
   "execution_count": 1,
   "id": "e79a39fe",
   "metadata": {},
   "outputs": [],
   "source": [
    "import numpy as np, pandas as pd, os\n",
    "from sklearn.linear_model import LinearRegression\n",
    "from sklearn.model_selection import train_test_split\n",
    "from mlxtend.feature_selection import SequentialFeatureSelector as SFS, ExhaustiveFeatureSelector as EFS\n",
    "import matplotlib.pyplot as plt\n",
    "import statsmodels.api as sm"
   ]
  },
  {
   "cell_type": "markdown",
   "id": "90e409bc",
   "metadata": {},
   "source": [
    "Read the data and show the despcription"
   ]
  },
  {
   "cell_type": "code",
   "execution_count": 2,
   "id": "a1115155",
   "metadata": {},
   "outputs": [
    {
     "name": "stdout",
     "output_type": "stream",
     "text": [
      "<class 'pandas.core.frame.DataFrame'>\n",
      "RangeIndex: 159 entries, 0 to 158\n",
      "Data columns (total 10 columns):\n",
      " #   Column   Non-Null Count  Dtype  \n",
      "---  ------   --------------  -----  \n",
      " 0   equip    159 non-null    object \n",
      " 1   econ     159 non-null    object \n",
      " 2   perAA    159 non-null    float64\n",
      " 3   rural    159 non-null    object \n",
      " 4   atlanta  159 non-null    object \n",
      " 5   gore     159 non-null    int64  \n",
      " 6   bush     159 non-null    int64  \n",
      " 7   other    159 non-null    int64  \n",
      " 8   votes    159 non-null    int64  \n",
      " 9   ballots  159 non-null    int64  \n",
      "dtypes: float64(1), int64(5), object(4)\n",
      "memory usage: 12.6+ KB\n",
      "None\n"
     ]
    },
    {
     "data": {
      "text/html": [
       "<div>\n",
       "<style scoped>\n",
       "    .dataframe tbody tr th:only-of-type {\n",
       "        vertical-align: middle;\n",
       "    }\n",
       "\n",
       "    .dataframe tbody tr th {\n",
       "        vertical-align: top;\n",
       "    }\n",
       "\n",
       "    .dataframe thead th {\n",
       "        text-align: right;\n",
       "    }\n",
       "</style>\n",
       "<table border=\"1\" class=\"dataframe\">\n",
       "  <thead>\n",
       "    <tr style=\"text-align: right;\">\n",
       "      <th></th>\n",
       "      <th>equip</th>\n",
       "      <th>econ</th>\n",
       "      <th>perAA</th>\n",
       "      <th>rural</th>\n",
       "      <th>atlanta</th>\n",
       "      <th>gore</th>\n",
       "      <th>bush</th>\n",
       "      <th>other</th>\n",
       "      <th>votes</th>\n",
       "      <th>ballots</th>\n",
       "    </tr>\n",
       "  </thead>\n",
       "  <tbody>\n",
       "    <tr>\n",
       "      <th>0</th>\n",
       "      <td>LEVER</td>\n",
       "      <td>poor</td>\n",
       "      <td>0.182</td>\n",
       "      <td>rural</td>\n",
       "      <td>notAtlanta</td>\n",
       "      <td>2093</td>\n",
       "      <td>3940</td>\n",
       "      <td>66</td>\n",
       "      <td>6099</td>\n",
       "      <td>6617</td>\n",
       "    </tr>\n",
       "    <tr>\n",
       "      <th>1</th>\n",
       "      <td>LEVER</td>\n",
       "      <td>poor</td>\n",
       "      <td>0.230</td>\n",
       "      <td>rural</td>\n",
       "      <td>notAtlanta</td>\n",
       "      <td>821</td>\n",
       "      <td>1228</td>\n",
       "      <td>22</td>\n",
       "      <td>2071</td>\n",
       "      <td>2149</td>\n",
       "    </tr>\n",
       "    <tr>\n",
       "      <th>2</th>\n",
       "      <td>LEVER</td>\n",
       "      <td>poor</td>\n",
       "      <td>0.131</td>\n",
       "      <td>rural</td>\n",
       "      <td>notAtlanta</td>\n",
       "      <td>956</td>\n",
       "      <td>2010</td>\n",
       "      <td>29</td>\n",
       "      <td>2995</td>\n",
       "      <td>3347</td>\n",
       "    </tr>\n",
       "    <tr>\n",
       "      <th>3</th>\n",
       "      <td>OS-CC</td>\n",
       "      <td>poor</td>\n",
       "      <td>0.476</td>\n",
       "      <td>rural</td>\n",
       "      <td>notAtlanta</td>\n",
       "      <td>893</td>\n",
       "      <td>615</td>\n",
       "      <td>11</td>\n",
       "      <td>1519</td>\n",
       "      <td>1607</td>\n",
       "    </tr>\n",
       "    <tr>\n",
       "      <th>4</th>\n",
       "      <td>LEVER</td>\n",
       "      <td>middle</td>\n",
       "      <td>0.359</td>\n",
       "      <td>rural</td>\n",
       "      <td>notAtlanta</td>\n",
       "      <td>5893</td>\n",
       "      <td>6041</td>\n",
       "      <td>192</td>\n",
       "      <td>12126</td>\n",
       "      <td>12785</td>\n",
       "    </tr>\n",
       "  </tbody>\n",
       "</table>\n",
       "</div>"
      ],
      "text/plain": [
       "   equip    econ  perAA  rural     atlanta  gore  bush  other  votes  ballots\n",
       "0  LEVER    poor  0.182  rural  notAtlanta  2093  3940     66   6099     6617\n",
       "1  LEVER    poor  0.230  rural  notAtlanta   821  1228     22   2071     2149\n",
       "2  LEVER    poor  0.131  rural  notAtlanta   956  2010     29   2995     3347\n",
       "3  OS-CC    poor  0.476  rural  notAtlanta   893   615     11   1519     1607\n",
       "4  LEVER  middle  0.359  rural  notAtlanta  5893  6041    192  12126    12785"
      ]
     },
     "execution_count": 2,
     "metadata": {},
     "output_type": "execute_result"
    }
   ],
   "source": [
    "data = pd.read_csv(os.path.abspath('gavote.csv'))\n",
    "data.drop(columns=data.columns[0], inplace=True)  # Drop the first unnamed column\n",
    "print(data.info())\n",
    "data.head()"
   ]
  },
  {
   "cell_type": "markdown",
   "id": "0bb56e24",
   "metadata": {},
   "source": [
    "Plot pie chart and bar chart of the counts of equipments"
   ]
  },
  {
   "cell_type": "code",
   "execution_count": 3,
   "id": "49d43499",
   "metadata": {},
   "outputs": [
    {
     "name": "stdout",
     "output_type": "stream",
     "text": [
      "equip\n",
      "LEVER    74\n",
      "OS-CC    44\n",
      "OS-PC    22\n",
      "PUNCH    17\n",
      "PAPER     2\n",
      "Name: count, dtype: int64\n"
     ]
    },
    {
     "data": {
      "image/png": "[encoded data removed]",
      "text/plain": [
       "<Figure size 1000x500 with 2 Axes>"
      ]
     },
     "metadata": {},
     "output_type": "display_data"
    }
   ],
   "source": [
    "equipment_counts = data['equip'].value_counts()\n",
    "print(equipment_counts)\n",
    "fig, ax = plt.subplots(1, 2, figsize=(10, 5))\n",
    "\n",
    "# Pie chart\n",
    "ax[0].pie(equipment_counts, labels=equipment_counts.index, autopct='%1.1f%%')\n",
    "ax[0].set_title('Distribution of Voting Equipments (Pie)')\n",
    "\n",
    "# Bar chart\n",
    "ax[1].bar(equipment_counts.index, equipment_counts.values)\n",
    "ax[1].set_title('Distribution of Voting Equipments (Bar)')\n",
    "ax[1].set_xlabel('Equipment')\n",
    "ax[1].set_ylabel('Count')\n",
    "\n",
    "plt.tight_layout()\n",
    "plt.show()"
   ]
  },
  {
   "cell_type": "markdown",
   "id": "78581e40",
   "metadata": {},
   "source": [
    "Find the undercounts and normalized under count"
   ]
  },
  {
   "cell_type": "code",
   "execution_count": 4,
   "id": "d72e8eb3",
   "metadata": {},
   "outputs": [],
   "source": [
    "under_counts = data['ballots']-data['votes']\n",
    "data['under_count'] = under_counts\n",
    "normalized_under_counts = under_counts / data['ballots']\n",
    "data['normalized_under_count'] = normalized_under_counts"
   ]
  },
  {
   "cell_type": "markdown",
   "id": "47e53e38",
   "metadata": {},
   "source": [
    "Barplot"
   ]
  },
  {
   "cell_type": "code",
   "execution_count": 5,
   "id": "44ed674f",
   "metadata": {},
   "outputs": [
    {
     "data": {
      "image/png": "[encoded data removed]",
      "text/plain": [
       "<Figure size 1000x500 with 2 Axes>"
      ]
     },
     "metadata": {},
     "output_type": "display_data"
    }
   ],
   "source": [
    "fig, ax = plt.subplots(1, 2, figsize=(10, 5))\n",
    "\n",
    "# Bar chart\n",
    "ax[0].bar(under_counts.index, under_counts.values)\n",
    "ax[0].set_title('Distribution of Voting Equipments (Bar)')\n",
    "ax[0].set_xlabel('Index')\n",
    "ax[0].set_ylabel('Count')\n",
    "\n",
    "# Bar chart\n",
    "ax[1].bar(normalized_under_counts.index, normalized_under_counts.values)\n",
    "ax[1].set_title('Standardized Under Counts (Normalized)')\n",
    "ax[1].set_xlabel('Index')\n",
    "ax[1].set_ylabel('Normalized Value')\n",
    "\n",
    "plt.tight_layout()\n",
    "plt.show()"
   ]
  },
  {
   "cell_type": "markdown",
   "id": "07acfa08",
   "metadata": {},
   "source": [
    "Histogram"
   ]
  },
  {
   "cell_type": "code",
   "execution_count": 6,
   "id": "b15cdb9b",
   "metadata": {},
   "outputs": [
    {
     "data": {
      "image/png": "[encoded data removed]",
      "text/plain": [
       "<Figure size 1000x500 with 2 Axes>"
      ]
     },
     "metadata": {},
     "output_type": "display_data"
    }
   ],
   "source": [
    "fig, ax = plt.subplots(1, 2, figsize=(10, 5))\n",
    "\n",
    "# Histogram for under_counts\n",
    "ax[0].hist(under_counts.values, bins=30, color='skyblue', edgecolor='black')\n",
    "ax[0].set_title('Histogram of Under Counts')\n",
    "ax[0].set_xlabel('Under Count')\n",
    "ax[0].set_ylabel('Frequency')\n",
    "\n",
    "# Histogram for normalized_under_counts\n",
    "ax[1].hist(normalized_under_counts.values, bins=20, color='salmon', edgecolor='black')\n",
    "ax[1].set_title('Histogram of Normalized Under Counts')\n",
    "ax[1].set_xlabel('Normalized Under Count')\n",
    "ax[1].set_ylabel('Frequency')\n",
    "\n",
    "plt.tight_layout()\n",
    "plt.show()"
   ]
  },
  {
   "cell_type": "markdown",
   "id": "a6f6ecfb",
   "metadata": {},
   "source": [
    "Boxplot"
   ]
  },
  {
   "cell_type": "code",
   "execution_count": 7,
   "id": "9915996c",
   "metadata": {},
   "outputs": [
    {
     "data": {
      "text/plain": [
       "<Figure size 800x800 with 0 Axes>"
      ]
     },
     "metadata": {},
     "output_type": "display_data"
    },
    {
     "data": {
      "image/png": "[encoded data removed]",
      "text/plain": [
       "<Figure size 640x480 with 1 Axes>"
      ]
     },
     "metadata": {},
     "output_type": "display_data"
    }
   ],
   "source": [
    "plt.figure(figsize=(8, 8))\n",
    "data.boxplot(column='normalized_under_count', by='equip', grid=False)\n",
    "plt.title('Undercount by Equipment Type')\n",
    "plt.suptitle('')\n",
    "plt.xlabel('Equipment')\n",
    "plt.ylabel('Undercount')\n",
    "plt.show()"
   ]
  },
  {
   "cell_type": "markdown",
   "id": "9f7fa0d3",
   "metadata": {},
   "source": [
    "Do linear regression"
   ]
  },
  {
   "cell_type": "code",
   "execution_count": 8,
   "id": "abe258f3",
   "metadata": {},
   "outputs": [],
   "source": [
    "from statsmodels.formula.api import ols\n",
    "\n",
    "# Use a formula to include categorical variables automatically\n",
    "model = ols('votes ~ C(equip) + C(econ) + perAA + C(rural) + C(atlanta) + gore + bush + other + ballots', data=data).fit()\n",
    "model1 = ols('normalized_under_count ~ C(equip) + C(econ) + perAA + C(rural) + C(atlanta) + gore + bush + other + votes + ballots', data=data).fit()\n",
    "model2 = ols('normalized_under_count ~ C(equip)', data=data).fit()\n",
    "\n",
    "# print(model.summary())\n",
    "# print(model1.summary())\n",
    "# print(model2.summary())"
   ]
  },
  {
   "cell_type": "code",
   "execution_count": 9,
   "id": "c93cb3c3",
   "metadata": {},
   "outputs": [
    {
     "name": "stdout",
     "output_type": "stream",
     "text": [
      "Selected features by forward selection: ['const', 'equip_OS-PC']\n",
      "       feature       VIF\n",
      "0        const  2.148649\n",
      "1  equip_OS-CC  1.153323\n",
      "2  equip_OS-PC  1.117797\n",
      "3  equip_PAPER  1.014108\n",
      "4  equip_PUNCH  1.098249\n",
      "                              OLS Regression Results                              \n",
      "==================================================================================\n",
      "Dep. Variable:     normalized_under_count   R-squared:                       0.020\n",
      "Model:                                OLS   Adj. R-squared:                 -0.006\n",
      "Method:                     Least Squares   F-statistic:                    0.7776\n",
      "Date:                    Wed, 16 Jul 2025   Prob (F-statistic):              0.541\n",
      "Time:                            11:53:33   Log-Likelihood:                 363.23\n",
      "No. Observations:                     159   AIC:                            -716.5\n",
      "Df Residuals:                         154   BIC:                            -701.1\n",
      "Df Model:                               4                                         \n",
      "Covariance Type:                nonrobust                                         \n",
      "===============================================================================\n",
      "                  coef    std err          t      P>|t|      [0.025      0.975]\n",
      "-------------------------------------------------------------------------------\n",
      "const           0.0419      0.003     14.395      0.000       0.036       0.048\n",
      "equip_OS-CC  9.049e-05      0.005      0.019      0.985      -0.009       0.010\n",
      "equip_OS-PC     0.0097      0.006      1.591      0.114      -0.002       0.022\n",
      "equip_PAPER    -0.0016      0.018     -0.092      0.927      -0.037       0.034\n",
      "equip_PUNCH     0.0052      0.007      0.772      0.441      -0.008       0.019\n",
      "==============================================================================\n",
      "Omnibus:                       71.147   Durbin-Watson:                   1.955\n",
      "Prob(Omnibus):                  0.000   Jarque-Bera (JB):              317.781\n",
      "Skew:                           1.623   Prob(JB):                     9.88e-70\n",
      "Kurtosis:                       9.118   Cond. No.                         9.59\n",
      "==============================================================================\n",
      "\n",
      "Notes:\n",
      "[1] Standard Errors assume that the covariance matrix of the errors is correctly specified.\n"
     ]
    }
   ],
   "source": [
    "import statsmodels.api as sm\n",
    "from statsmodels.stats.outliers_influence import variance_inflation_factor\n",
    "\n",
    "# Prepare the design matrix for model2 (only 'equip' as categorical variable)\n",
    "# X is already defined in previous cells, but we need to ensure its dtype is float for OLS\n",
    "# Prepare X for model2: only 'equip' as categorical variable, with intercept\n",
    "X = pd.get_dummies(data['equip'], prefix='equip', drop_first=True)\n",
    "X = sm.add_constant(X)\n",
    "X = X.astype(float)\n",
    "\n",
    "# Calculate VIF for each feature\n",
    "vif_data = pd.DataFrame()\n",
    "vif_data[\"feature\"] = X.columns\n",
    "vif_data[\"VIF\"] = [variance_inflation_factor(X.values, i) for i in range(X.shape[1])]\n",
    "\n",
    "# Define y and model_fs before forward selection\n",
    "y = data['normalized_under_count']\n",
    "model_fs = sm.OLS(y, X).fit()\n",
    "\n",
    "# Forward selection for features based on p-values\n",
    "selected_features = ['const']\n",
    "remaining_features = list(X.columns)\n",
    "remaining_features.remove('const')\n",
    "current_score = float('inf')\n",
    "best_new_score = model_fs.aic\n",
    "\n",
    "while remaining_features and best_new_score < current_score:\n",
    "    scores_with_candidates = []\n",
    "    for candidate in remaining_features:\n",
    "        features_to_test = selected_features + [candidate]\n",
    "        model = sm.OLS(y, X[features_to_test]).fit()\n",
    "        scores_with_candidates.append((model.aic, candidate))\n",
    "    scores_with_candidates.sort()\n",
    "    best_new_score, best_candidate = scores_with_candidates[0]\n",
    "    if best_new_score < current_score:\n",
    "        selected_features.append(best_candidate)\n",
    "        remaining_features.remove(best_candidate)\n",
    "        current_score = best_new_score\n",
    "\n",
    "print(\"Selected features by forward selection:\", selected_features)\n",
    "print(vif_data)\n",
    "# Alternatively, use backward elimination based on p-values\n",
    "print(model_fs.summary())"
   ]
  },
  {
   "cell_type": "markdown",
   "id": "8ca5efe1",
   "metadata": {},
   "source": [
    "Redo"
   ]
  },
  {
   "cell_type": "code",
   "execution_count": 10,
   "id": "09002bb7",
   "metadata": {},
   "outputs": [
    {
     "data": {
      "text/plain": [
       "equip                        int8\n",
       "econ                         int8\n",
       "perAA                     float64\n",
       "rural                        int8\n",
       "atlanta                      int8\n",
       "gore                        int64\n",
       "bush                        int64\n",
       "other                       int64\n",
       "votes                       int64\n",
       "ballots                     int64\n",
       "under_count                 int64\n",
       "normalized_under_count    float64\n",
       "dtype: object"
      ]
     },
     "execution_count": 10,
     "metadata": {},
     "output_type": "execute_result"
    }
   ],
   "source": [
    "# Convert object columns to categorical dtype and then to codes\n",
    "for col in data.select_dtypes(include='object').columns:\n",
    "    data[col] = data[col].astype('category').cat.codes\n",
    "data.dtypes"
   ]
  },
  {
   "cell_type": "code",
   "execution_count": 11,
   "id": "253147fc",
   "metadata": {},
   "outputs": [
    {
     "name": "stderr",
     "output_type": "stream",
     "text": [
      "C:\\Users\\DS-31\\AppData\\Local\\Packages\\PythonSoftwareFoundation.Python.3.13_qbz5n2kfra8p0\\LocalCache\\local-packages\\Python313\\site-packages\\statsmodels\\stats\\outliers_influence.py:197: RuntimeWarning: divide by zero encountered in scalar divide\n",
      "  vif = 1. / (1. - r_squared_i)\n"
     ]
    },
    {
     "data": {
      "text/html": [
       "<div>\n",
       "<style scoped>\n",
       "    .dataframe tbody tr th:only-of-type {\n",
       "        vertical-align: middle;\n",
       "    }\n",
       "\n",
       "    .dataframe tbody tr th {\n",
       "        vertical-align: top;\n",
       "    }\n",
       "\n",
       "    .dataframe thead th {\n",
       "        text-align: right;\n",
       "    }\n",
       "</style>\n",
       "<table border=\"1\" class=\"dataframe\">\n",
       "  <thead>\n",
       "    <tr style=\"text-align: right;\">\n",
       "      <th></th>\n",
       "      <th>VIF</th>\n",
       "    </tr>\n",
       "  </thead>\n",
       "  <tbody>\n",
       "    <tr>\n",
       "      <th>equip</th>\n",
       "      <td>2.140812</td>\n",
       "    </tr>\n",
       "    <tr>\n",
       "      <th>econ</th>\n",
       "      <td>2.436732</td>\n",
       "    </tr>\n",
       "    <tr>\n",
       "      <th>perAA</th>\n",
       "      <td>4.326084</td>\n",
       "    </tr>\n",
       "    <tr>\n",
       "      <th>rural</th>\n",
       "      <td>1.926697</td>\n",
       "    </tr>\n",
       "    <tr>\n",
       "      <th>atlanta</th>\n",
       "      <td>5.696519</td>\n",
       "    </tr>\n",
       "    <tr>\n",
       "      <th>gore</th>\n",
       "      <td>inf</td>\n",
       "    </tr>\n",
       "    <tr>\n",
       "      <th>bush</th>\n",
       "      <td>inf</td>\n",
       "    </tr>\n",
       "    <tr>\n",
       "      <th>other</th>\n",
       "      <td>inf</td>\n",
       "    </tr>\n",
       "    <tr>\n",
       "      <th>votes</th>\n",
       "      <td>inf</td>\n",
       "    </tr>\n",
       "    <tr>\n",
       "      <th>ballots</th>\n",
       "      <td>inf</td>\n",
       "    </tr>\n",
       "    <tr>\n",
       "      <th>under_count</th>\n",
       "      <td>inf</td>\n",
       "    </tr>\n",
       "    <tr>\n",
       "      <th>normalized_under_count</th>\n",
       "      <td>5.333102</td>\n",
       "    </tr>\n",
       "  </tbody>\n",
       "</table>\n",
       "</div>"
      ],
      "text/plain": [
       "                             VIF\n",
       "equip                   2.140812\n",
       "econ                    2.436732\n",
       "perAA                   4.326084\n",
       "rural                   1.926697\n",
       "atlanta                 5.696519\n",
       "gore                         inf\n",
       "bush                         inf\n",
       "other                        inf\n",
       "votes                        inf\n",
       "ballots                      inf\n",
       "under_count                  inf\n",
       "normalized_under_count  5.333102"
      ]
     },
     "execution_count": 11,
     "metadata": {},
     "output_type": "execute_result"
    }
   ],
   "source": [
    "vif = [variance_inflation_factor(data.values, i) for i in range(data.shape[1])]\n",
    "pd.DataFrame({'VIF': vif}, index=data.columns)"
   ]
  },
  {
   "cell_type": "markdown",
   "id": "ae869634",
   "metadata": {},
   "source": [
    "Data spliting"
   ]
  },
  {
   "cell_type": "code",
   "execution_count": 12,
   "id": "6ee71319",
   "metadata": {},
   "outputs": [
    {
     "name": "stdout",
     "output_type": "stream",
     "text": [
      "Index(['equip', 'econ', 'perAA', 'rural', 'atlanta'], dtype='object')\n",
      "normalized_under_count\n"
     ]
    }
   ],
   "source": [
    "train,test=train_test_split(data, test_size=0.2, random_state=42)\n",
    "x_train = train.drop(columns=['under_count','normalized_under_count','other','gore','bush','votes','ballots'])\n",
    "x_test = test.drop(columns=['under_count','normalized_under_count','other','gore','bush', 'votes', 'ballots'])\n",
    "y_train = train['normalized_under_count']\n",
    "y_test = test['normalized_under_count']\n",
    "\n",
    "print(x_train.columns)\n",
    "print(y_train.name)"
   ]
  },
  {
   "cell_type": "markdown",
   "id": "34c7ef1f",
   "metadata": {},
   "source": [
    "Function definition"
   ]
  },
  {
   "cell_type": "code",
   "execution_count": 13,
   "id": "b37f2ee3",
   "metadata": {},
   "outputs": [],
   "source": [
    "def subset_selection(method, x, y):  # subset selection algorithm\n",
    "    if method == 'exhaustive':\n",
    "        selector = EFS(LinearRegression(),\n",
    "                       min_features=1,\n",
    "                       max_features=6,\n",
    "                       scoring='r2',\n",
    "                       cv=5, n_jobs=-1, print_progress=True)\n",
    "    elif method == 'forward':\n",
    "        selector = SFS(LinearRegression(),\n",
    "                       k_features='best', forward=True, cv=5,\n",
    "                       scoring='r2')\n",
    "    elif method == 'backward':\n",
    "        selector = SFS(LinearRegression(),\n",
    "                       k_features='best', forward=False, cv=5,\n",
    "                       scoring='r2')\n",
    "    return selector.fit(x.values, y.values).subsets_\n",
    "\n",
    "def feature(method):\n",
    "    subsets = subset_selection(method, x_train, y_train)\n",
    "    subsets = pd.DataFrame(subsets).T\n",
    "    model_id = subsets['avg_score'].idxmax().item()\n",
    "    feature_names = x_train.columns[list(subsets.loc[model_id, 'feature_idx'])]\n",
    "    return feature_names"
   ]
  },
  {
   "cell_type": "markdown",
   "id": "1ae92f3a",
   "metadata": {},
   "source": [
    "Fit the best subset and return the necessary results"
   ]
  },
  {
   "cell_type": "code",
   "execution_count": 14,
   "id": "16890266",
   "metadata": {},
   "outputs": [],
   "source": [
    "models = {}\n",
    "\n",
    "def func(method, label, x_train, y_train, x_test, y_test):\n",
    "    feature_cols = feature(method)\n",
    "    x_train_subset = x_train[feature_cols]\n",
    "    x_test_subset = x_test[feature_cols]\n",
    "\n",
    "    # Add constant (intercept) term\n",
    "    x_train_const = sm.add_constant(x_train_subset)\n",
    "    x_test_const = sm.add_constant(x_test_subset)\n",
    "\n",
    "    model = sm.OLS(y_train, x_train_const).fit()\n",
    "    models[label] = model\n",
    "\n",
    "    # Predictions\n",
    "    y_train_pred = model.predict(x_train_const)\n",
    "    y_test_pred = model.predict(x_test_const)\n",
    "\n",
    "    # MSE\n",
    "    train_mse = np.mean((y_train - y_train_pred)**2)\n",
    "    test_mse = np.mean((y_test - y_test_pred)**2)\n",
    "\n",
    "    # R-squared\n",
    "    train_r2 = model.rsquared\n",
    "    # test_r2 = 1 - np.sum((y_test - y_test_pred)**2) / np.sum((y_test - np.mean(y_test))**2)\n",
    "\n",
    "    return {\n",
    "        'train_mse': train_mse,\n",
    "        'test_mse': test_mse,\n",
    "        'train_r2': train_r2,\n",
    "        # 'test_r2': test_r2,\n",
    "        'intercept': np.round(model.params[0], 3),\n",
    "        'coefficients': np.round(model.params[1:].values, 3),\n",
    "        'model_number': len(feature_cols),\n",
    "        'feature_names': feature_cols\n",
    "    }\n"
   ]
  },
  {
   "cell_type": "code",
   "execution_count": 15,
   "id": "9a31fa15",
   "metadata": {},
   "outputs": [
    {
     "name": "stderr",
     "output_type": "stream",
     "text": [
      "C:\\Users\\DS-31\\AppData\\Local\\Temp\\ipykernel_10380\\18098111.py:32: FutureWarning: Series.__getitem__ treating keys as positions is deprecated. In a future version, integer keys will always be treated as labels (consistent with DataFrame behavior). To access a value by position, use `ser.iloc[pos]`\n",
      "  'intercept': np.round(model.params[0], 3),\n",
      "C:\\Users\\DS-31\\AppData\\Local\\Temp\\ipykernel_10380\\18098111.py:32: FutureWarning: Series.__getitem__ treating keys as positions is deprecated. In a future version, integer keys will always be treated as labels (consistent with DataFrame behavior). To access a value by position, use `ser.iloc[pos]`\n",
      "  'intercept': np.round(model.params[0], 3),\n"
     ]
    }
   ],
   "source": [
    "result_dict = {}\n",
    "naming = [(\"forward\", \"Forward\"), (\"backward\", \"Backward\")]\n",
    "for method, label in naming:\n",
    "    result_dict[method] = func(method, label, x_train, y_train, x_test, y_test)\n",
    "result = pd.DataFrame(result_dict)"
   ]
  },
  {
   "cell_type": "code",
   "execution_count": 16,
   "id": "693df771",
   "metadata": {},
   "outputs": [
    {
     "name": "stdout",
     "output_type": "stream",
     "text": [
      "Forward selection model\n",
      "                               OLS Regression Results                              \n",
      "==================================================================================\n",
      "Dep. Variable:     normalized_under_count   R-squared:                       0.163\n",
      "Model:                                OLS   Adj. R-squared:                  0.135\n",
      "Method:                     Least Squares   F-statistic:                     5.920\n",
      "Date:                    Wed, 16 Jul 2025   Prob (F-statistic):           0.000218\n",
      "Time:                            11:53:33   Log-Likelihood:                 297.50\n",
      "No. Observations:                     127   AIC:                            -585.0\n",
      "Df Residuals:                         122   BIC:                            -570.8\n",
      "Df Model:                               4                                         \n",
      "Covariance Type:                nonrobust                                         \n",
      "==============================================================================\n",
      "                 coef    std err          t      P>|t|      [0.025      0.975]\n",
      "------------------------------------------------------------------------------\n",
      "const          0.0279      0.009      3.041      0.003       0.010       0.046\n",
      "equip          0.0049      0.002      2.619      0.010       0.001       0.009\n",
      "perAA          0.0263      0.013      2.024      0.045       0.001       0.052\n",
      "rural         -0.0163      0.006     -2.902      0.004      -0.027      -0.005\n",
      "atlanta        0.0111      0.008      1.341      0.183      -0.005       0.027\n",
      "==============================================================================\n",
      "Omnibus:                       76.898   Durbin-Watson:                   1.976\n",
      "Prob(Omnibus):                  0.000   Jarque-Bera (JB):              446.198\n",
      "Skew:                           2.064   Prob(JB):                     1.29e-97\n",
      "Kurtosis:                      11.203   Cond. No.                         12.4\n",
      "==============================================================================\n",
      "\n",
      "Notes:\n",
      "[1] Standard Errors assume that the covariance matrix of the errors is correctly specified.\n"
     ]
    }
   ],
   "source": [
    "print(\"Forward selection model\\n\",models['Forward'].summary())"
   ]
  },
  {
   "cell_type": "code",
   "execution_count": 17,
   "id": "96ad87fc",
   "metadata": {},
   "outputs": [
    {
     "name": "stdout",
     "output_type": "stream",
     "text": [
      "train_mse                                                 0.000541\n",
      "test_mse                                                   0.00044\n",
      "train_r2                                                  0.162554\n",
      "intercept                                                    0.028\n",
      "coefficients                         [0.005, 0.026, -0.016, 0.011]\n",
      "model_number                                                     4\n",
      "feature_names    Index(['equip', 'perAA', 'rural', 'atlanta'], ...\n",
      "Name: forward, dtype: object\n"
     ]
    }
   ],
   "source": [
    "print(result.forward)"
   ]
  },
  {
   "cell_type": "code",
   "execution_count": 18,
   "id": "9ac1e60a",
   "metadata": {},
   "outputs": [
    {
     "name": "stdout",
     "output_type": "stream",
     "text": [
      "Backward selection model\n",
      "                               OLS Regression Results                              \n",
      "==================================================================================\n",
      "Dep. Variable:     normalized_under_count   R-squared:                       0.163\n",
      "Model:                                OLS   Adj. R-squared:                  0.135\n",
      "Method:                     Least Squares   F-statistic:                     5.920\n",
      "Date:                    Wed, 16 Jul 2025   Prob (F-statistic):           0.000218\n",
      "Time:                            11:53:33   Log-Likelihood:                 297.50\n",
      "No. Observations:                     127   AIC:                            -585.0\n",
      "Df Residuals:                         122   BIC:                            -570.8\n",
      "Df Model:                               4                                         \n",
      "Covariance Type:                nonrobust                                         \n",
      "==============================================================================\n",
      "                 coef    std err          t      P>|t|      [0.025      0.975]\n",
      "------------------------------------------------------------------------------\n",
      "const          0.0279      0.009      3.041      0.003       0.010       0.046\n",
      "equip          0.0049      0.002      2.619      0.010       0.001       0.009\n",
      "perAA          0.0263      0.013      2.024      0.045       0.001       0.052\n",
      "rural         -0.0163      0.006     -2.902      0.004      -0.027      -0.005\n",
      "atlanta        0.0111      0.008      1.341      0.183      -0.005       0.027\n",
      "==============================================================================\n",
      "Omnibus:                       76.898   Durbin-Watson:                   1.976\n",
      "Prob(Omnibus):                  0.000   Jarque-Bera (JB):              446.198\n",
      "Skew:                           2.064   Prob(JB):                     1.29e-97\n",
      "Kurtosis:                      11.203   Cond. No.                         12.4\n",
      "==============================================================================\n",
      "\n",
      "Notes:\n",
      "[1] Standard Errors assume that the covariance matrix of the errors is correctly specified.\n"
     ]
    }
   ],
   "source": [
    "print(\"Backward selection model\\n\",models['Backward'].summary())"
   ]
  },
  {
   "cell_type": "code",
   "execution_count": 19,
   "id": "f3bee077",
   "metadata": {},
   "outputs": [
    {
     "name": "stdout",
     "output_type": "stream",
     "text": [
      "train_mse                                                 0.000541\n",
      "test_mse                                                   0.00044\n",
      "train_r2                                                  0.162554\n",
      "intercept                                                    0.028\n",
      "coefficients                         [0.005, 0.026, -0.016, 0.011]\n",
      "model_number                                                     4\n",
      "feature_names    Index(['equip', 'perAA', 'rural', 'atlanta'], ...\n",
      "Name: backward, dtype: object\n"
     ]
    }
   ],
   "source": [
    "print(result.backward)"
   ]
  }
 ],
 "metadata": {
  "kernelspec": {
   "display_name": "Python 3",
   "language": "python",
   "name": "python3"
  },
  "language_info": {
   "codemirror_mode": {
    "name": "ipython",
    "version": 3
   },
   "file_extension": ".py",
   "mimetype": "text/x-python",
   "name": "python",
   "nbconvert_exporter": "python",
   "pygments_lexer": "ipython3",
   "version": "3.13.5"
  }
 },
 "nbformat": 4,
 "nbformat_minor": 5
}
