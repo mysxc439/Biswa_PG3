{
 "cells": [
  {
   "cell_type": "code",
   "execution_count": 1,
   "id": "d9cf914b",
   "metadata": {},
   "outputs": [],
   "source": [
    "import pandas as pd, numpy as np, matplotlib.pyplot as plt\n",
    "from statsmodels.formula.api import ols\n",
    "from sklearn.linear_model import LinearRegression"
   ]
  },
  {
   "cell_type": "code",
   "execution_count": 2,
   "id": "2349cf63",
   "metadata": {},
   "outputs": [
    {
     "data": {
      "text/html": [
       "<div>\n",
       "<style scoped>\n",
       "    .dataframe tbody tr th:only-of-type {\n",
       "        vertical-align: middle;\n",
       "    }\n",
       "\n",
       "    .dataframe tbody tr th {\n",
       "        vertical-align: top;\n",
       "    }\n",
       "\n",
       "    .dataframe thead th {\n",
       "        text-align: right;\n",
       "    }\n",
       "</style>\n",
       "<table border=\"1\" class=\"dataframe\">\n",
       "  <thead>\n",
       "    <tr style=\"text-align: right;\">\n",
       "      <th></th>\n",
       "      <th>X</th>\n",
       "      <th>Y</th>\n",
       "    </tr>\n",
       "  </thead>\n",
       "  <tbody>\n",
       "    <tr>\n",
       "      <th>0</th>\n",
       "      <td>37.454012</td>\n",
       "      <td>126.746701</td>\n",
       "    </tr>\n",
       "    <tr>\n",
       "      <th>1</th>\n",
       "      <td>95.071431</td>\n",
       "      <td>293.927975</td>\n",
       "    </tr>\n",
       "    <tr>\n",
       "      <th>2</th>\n",
       "      <td>73.199394</td>\n",
       "      <td>225.441700</td>\n",
       "    </tr>\n",
       "    <tr>\n",
       "      <th>3</th>\n",
       "      <td>59.865848</td>\n",
       "      <td>183.586508</td>\n",
       "    </tr>\n",
       "    <tr>\n",
       "      <th>4</th>\n",
       "      <td>15.601864</td>\n",
       "      <td>39.020372</td>\n",
       "    </tr>\n",
       "  </tbody>\n",
       "</table>\n",
       "</div>"
      ],
      "text/plain": [
       "           X           Y\n",
       "0  37.454012  126.746701\n",
       "1  95.071431  293.927975\n",
       "2  73.199394  225.441700\n",
       "3  59.865848  183.586508\n",
       "4  15.601864   39.020372"
      ]
     },
     "execution_count": 2,
     "metadata": {},
     "output_type": "execute_result"
    }
   ],
   "source": [
    "data = pd.read_csv('synthetic.csv')\n",
    "data.drop(columns=['Unnamed: 0'], inplace=True, errors='ignore')\n",
    "data.head()"
   ]
  },
  {
   "cell_type": "code",
   "execution_count": 3,
   "id": "2be59f0a",
   "metadata": {},
   "outputs": [
    {
     "data": {
      "image/png": "[encoded data removed]",
      "text/plain": [
       "<Figure size 600x400 with 1 Axes>"
      ]
     },
     "metadata": {},
     "output_type": "display_data"
    }
   ],
   "source": [
    "figure, ax = plt.subplots(figsize=(6, 4))\n",
    "ax.scatter(data['X'], data['Y'], color='blue', alpha=0.5)\n",
    "ax.set_xlabel('X')\n",
    "ax.set_ylabel('Y')\n",
    "ax.set_title('Scatter plot of X vs Y')\n",
    "plt.show()"
   ]
  },
  {
   "cell_type": "markdown",
   "id": "20231e39",
   "metadata": {},
   "source": [
    "OLS Method"
   ]
  },
  {
   "cell_type": "code",
   "execution_count": 4,
   "id": "4e5116ed",
   "metadata": {},
   "outputs": [
    {
     "name": "stdout",
     "output_type": "stream",
     "text": [
      "                            OLS Regression Results                            \n",
      "==============================================================================\n",
      "Dep. Variable:                      Y   R-squared:                       0.989\n",
      "Model:                            OLS   Adj. R-squared:                  0.989\n",
      "Method:                 Least Squares   F-statistic:                     4229.\n",
      "Date:                Mon, 04 Aug 2025   Prob (F-statistic):           1.84e-48\n",
      "Time:                        11:27:15   Log-Likelihood:                -181.21\n",
      "No. Observations:                  50   AIC:                             366.4\n",
      "Df Residuals:                      48   BIC:                             370.2\n",
      "Df Model:                           1                                         \n",
      "Covariance Type:            nonrobust                                         \n",
      "==============================================================================\n",
      "                 coef    std err          t      P>|t|      [0.025      0.975]\n",
      "------------------------------------------------------------------------------\n",
      "Intercept      7.9669      2.426      3.284      0.002       3.090      12.844\n",
      "X              2.9777      0.046     65.030      0.000       2.886       3.070\n",
      "==============================================================================\n",
      "Omnibus:                        2.171   Durbin-Watson:                   2.127\n",
      "Prob(Omnibus):                  0.338   Jarque-Bera (JB):                1.664\n",
      "Skew:                          -0.447   Prob(JB):                        0.435\n",
      "Kurtosis:                       3.036   Cond. No.                         98.2\n",
      "==============================================================================\n",
      "\n",
      "Notes:\n",
      "[1] Standard Errors assume that the covariance matrix of the errors is correctly specified.\n"
     ]
    }
   ],
   "source": [
    "# fit a linear model\n",
    "model = ols('Y~X',data=data).fit()\n",
    "print(model.summary())"
   ]
  },
  {
   "cell_type": "markdown",
   "id": "692f8ba0",
   "metadata": {},
   "source": [
    "LinearRegression from sklearn"
   ]
  },
  {
   "cell_type": "code",
   "execution_count": 5,
   "id": "b27a6fa4",
   "metadata": {},
   "outputs": [
    {
     "name": "stdout",
     "output_type": "stream",
     "text": [
      "Intercept: 7.966892744688863, \n",
      "Coefficient: 2.9776566003853104\n",
      "R^2: 0.988776823805174\n"
     ]
    }
   ],
   "source": [
    "X = data[['X']]\n",
    "y = data['Y']\n",
    "lin_reg = LinearRegression()\n",
    "lin_reg.fit(X, y)\n",
    "print(f\"Intercept: {lin_reg.intercept_}, \\nCoefficient: {lin_reg.coef_[0]}\")\n",
    "r2 = lin_reg.score(X, y)\n",
    "print(f\"R^2: {r2}\")"
   ]
  },
  {
   "cell_type": "markdown",
   "id": "9939b82a",
   "metadata": {},
   "source": [
    "Do linear regression from scrach"
   ]
  },
  {
   "cell_type": "code",
   "execution_count": 7,
   "id": "e9dc848d",
   "metadata": {},
   "outputs": [
    {
     "name": "stdout",
     "output_type": "stream",
     "text": [
      "Manual calculation:\n",
      "Intercept: 7.966892744688863\n",
      "Slope: 2.9776566003853104\n",
      "R^2: 0.988776823805174\n"
     ]
    }
   ],
   "source": [
    "# Manual linear regression (least squares) calculation\n",
    "x = data['X'].values   # Convert to numpy array\n",
    "y = data['Y'].values\n",
    "\n",
    "# Calculate means\n",
    "x_mean = np.mean(x)\n",
    "y_mean = np.mean(y)\n",
    "\n",
    "# Calculate coefficients\n",
    "n_cov = np.sum((x - x_mean) * (y - y_mean))\n",
    "n_var = np.sum((x - x_mean) ** 2)\n",
    "slope = n_cov / n_var   # it is the slope of the regression line\n",
    "intercept = y_mean - slope * x_mean  # it is the intercept of the regression line\n",
    "\n",
    "print(f\"Manual calculation:\\nIntercept: {intercept}\\nSlope: {slope}\")\n",
    "\n",
    "# Calculate R^2\n",
    "y_pred = intercept + slope * x\n",
    "ss_total = np.sum((y - y_mean) ** 2)\n",
    "ss_res = np.sum((y - y_pred) ** 2)\n",
    "r2_manual = 1 - (ss_res / ss_total)\n",
    "print(f\"R^2: {r2_manual}\")"
   ]
  }
 ],
 "metadata": {
  "kernelspec": {
   "display_name": "Python 3",
   "language": "python",
   "name": "python3"
  },
  "language_info": {
   "codemirror_mode": {
    "name": "ipython",
    "version": 3
   },
   "file_extension": ".py",
   "mimetype": "text/x-python",
   "name": "python",
   "nbconvert_exporter": "python",
   "pygments_lexer": "ipython3",
   "version": "3.13.5"
  }
 },
 "nbformat": 4,
 "nbformat_minor": 5
}
