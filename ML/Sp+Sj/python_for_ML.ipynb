{
  "cells": [
    {
      "cell_type": "code",
      "execution_count": 81,
      "id": "5a16f4f9",
      "metadata": {
        "id": "5a16f4f9",
        "outputId": "cd56a8ae-c47e-47af-f36c-111579dd0a75"
      },
      "outputs": [
        {
          "name": "stdout",
          "output_type": "stream",
          "text": [
            "The value of X is 100. The value of Y is 150. The value of Z is 178.\n"
          ]
        }
      ],
      "source": [
        "x, y, z = 100, 150, 178\n",
        "print(\"The value of X is {}. The value of Y is {}. The value of Z is {}.\".format(x,y,z))"
      ]
    },
    {
      "cell_type": "code",
      "execution_count": 82,
      "id": "35340fe2",
      "metadata": {
        "id": "35340fe2",
        "outputId": "cf9def8e-88b4-4642-8552-74756c0c0812"
      },
      "outputs": [
        {
          "name": "stdout",
          "output_type": "stream",
          "text": [
            "The value of X is 100. The value of Y is 150. The value of Z is 178.\n"
          ]
        }
      ],
      "source": [
        "print(f\"The value of X is {x}. The value of Y is {y}. The value of Z is {z}.\")"
      ]
    },
    {
      "cell_type": "code",
      "execution_count": 83,
      "id": "5093ea85",
      "metadata": {
        "id": "5093ea85",
        "outputId": "0d7d8001-5b60-4c97-c082-80c0b223cdae"
      },
      "outputs": [
        {
          "name": "stdout",
          "output_type": "stream",
          "text": [
            "[1, 2, 3, ['good', 'better', 'best']]\n"
          ]
        }
      ],
      "source": [
        "# Nesting of lists\n",
        "l_nesting = [1, 2, 3, [\"good\", \"better\", \"best\"]]\n",
        "print(l_nesting)"
      ]
    },
    {
      "cell_type": "code",
      "execution_count": 84,
      "id": "9c16897b",
      "metadata": {
        "id": "9c16897b",
        "outputId": "2daf1e2c-6b39-44b8-c23d-f3ae02c612ef"
      },
      "outputs": [
        {
          "name": "stdout",
          "output_type": "stream",
          "text": [
            "[1, 2, 3, ['good', 'better', 'best']]\n",
            "['good', 'better', 'best']\n",
            "best\n"
          ]
        }
      ],
      "source": [
        "# Indexing lists\n",
        "print(l_nesting)\n",
        "print(l_nesting[3])\n",
        "print(l_nesting[3][2])"
      ]
    },
    {
      "cell_type": "code",
      "execution_count": 85,
      "id": "abe61b8e",
      "metadata": {
        "id": "abe61b8e",
        "outputId": "76edf7b7-2e03-41c6-d255-644a60b0d6e4"
      },
      "outputs": [
        {
          "name": "stdout",
          "output_type": "stream",
          "text": [
            "10\n"
          ]
        }
      ],
      "source": [
        "# Length of lists\n",
        "l_new = [1,2,3,4,5,15,0,12,100,8]\n",
        "print(len(l_new))"
      ]
    },
    {
      "cell_type": "code",
      "execution_count": 86,
      "id": "18fde99d",
      "metadata": {
        "id": "18fde99d",
        "outputId": "8e615538-da12-4aa1-876e-25657265da84"
      },
      "outputs": [
        {
          "name": "stdout",
          "output_type": "stream",
          "text": [
            "[3, 4, 5, 15]\n"
          ]
        }
      ],
      "source": [
        "# Slicing of lists\n",
        "# list_name[start_index : end_index+1 : step_size]\n",
        "# start_index, end_index, step_size --> Optional\n",
        "print(l_new[2:6:1])"
      ]
    },
    {
      "cell_type": "code",
      "execution_count": 87,
      "id": "8fc45976",
      "metadata": {
        "id": "8fc45976",
        "outputId": "7fff5d16-e1ba-485a-bc80-f24dbc2da881"
      },
      "outputs": [
        {
          "name": "stdout",
          "output_type": "stream",
          "text": [
            "[1, 2, 3, 4, 5, 15, 0, 12, 100, 8]\n"
          ]
        }
      ],
      "source": [
        "# printing all the elements of a list\n",
        "print(l_new[::])"
      ]
    },
    {
      "cell_type": "code",
      "execution_count": 88,
      "id": "6e124e29",
      "metadata": {
        "id": "6e124e29",
        "outputId": "a1eac24e-f6b0-4c95-9100-b45716b3a597"
      },
      "outputs": [
        {
          "name": "stdout",
          "output_type": "stream",
          "text": [
            "[1, 3, 5, 0, 100]\n"
          ]
        }
      ],
      "source": [
        "# Slicing of lists\n",
        "# Require alternate elements from beginning of list\n",
        "print(l_new[0::2])"
      ]
    },
    {
      "cell_type": "code",
      "execution_count": 89,
      "id": "de274b59",
      "metadata": {
        "id": "de274b59",
        "outputId": "d11b5ad2-230e-4305-8935-fc50e279346e"
      },
      "outputs": [
        {
          "name": "stdout",
          "output_type": "stream",
          "text": [
            "[1, 2, 3, 4, 5, 15, 0, 12, 100, 8]\n"
          ]
        }
      ],
      "source": [
        "# Slicing of lists\n",
        "print(l_new[::1])"
      ]
    },
    {
      "cell_type": "code",
      "execution_count": 90,
      "id": "a0e45d8f",
      "metadata": {
        "id": "a0e45d8f",
        "outputId": "59d59075-7eee-44b2-bc10-99397c1211ef"
      },
      "outputs": [
        {
          "name": "stdout",
          "output_type": "stream",
          "text": [
            "[4, 0, 8]\n"
          ]
        }
      ],
      "source": [
        "# Slicing of lists\n",
        "print(l_new[3::3])"
      ]
    },
    {
      "cell_type": "code",
      "execution_count": 91,
      "id": "7fec2351",
      "metadata": {
        "id": "7fec2351",
        "outputId": "46165438-7559-4431-c62e-3f4c6c621c6a"
      },
      "outputs": [
        {
          "name": "stdout",
          "output_type": "stream",
          "text": [
            "[1, 2, 3, 4, 5, 15, 0, 12, 100, 8]\n",
            "8\n",
            "100\n",
            "12\n"
          ]
        }
      ],
      "source": [
        "# Negative indexing\n",
        "print(l_new)\n",
        "print(l_new[-1])\n",
        "print(l_new[-2])\n",
        "print(l_new[-3])"
      ]
    },
    {
      "cell_type": "code",
      "execution_count": 92,
      "id": "0dc1152f",
      "metadata": {
        "id": "0dc1152f",
        "outputId": "de46e28c-ffc4-452f-cd5b-753a9b5b78b4"
      },
      "outputs": [
        {
          "name": "stdout",
          "output_type": "stream",
          "text": [
            "8\n",
            "8\n"
          ]
        }
      ],
      "source": [
        "# Accessing the last element\n",
        "print(l_new[len(l_new)-1])\n",
        "print(l_new[-1])"
      ]
    },
    {
      "cell_type": "code",
      "execution_count": 93,
      "id": "d3f7dff2",
      "metadata": {
        "id": "d3f7dff2",
        "outputId": "0fb60b85-a629-4b02-e913-f22e047bcf6e"
      },
      "outputs": [
        {
          "name": "stdout",
          "output_type": "stream",
          "text": [
            "[8, 100, 12, 0, 15, 5, 4, 3, 2, 1]\n"
          ]
        }
      ],
      "source": [
        "# Reversing a list\n",
        "print(l_new[::-1])"
      ]
    },
    {
      "cell_type": "code",
      "execution_count": 94,
      "id": "23109f29",
      "metadata": {
        "id": "23109f29",
        "outputId": "51c80b59-869c-44e0-d81b-b77f7217ccbe"
      },
      "outputs": [
        {
          "name": "stdout",
          "output_type": "stream",
          "text": [
            "[1, 2, 3, 4, 5, 15, 0, 12, 100, 8]\n",
            "[1, 2, 3, 4, 5, 15, 1000, 12, 100, 8]\n"
          ]
        }
      ],
      "source": [
        "# Lists are mutable\n",
        "print(l_new)\n",
        "l_new[-4] = 1000\n",
        "print(l_new)"
      ]
    },
    {
      "cell_type": "code",
      "execution_count": 95,
      "id": "445304dd",
      "metadata": {
        "colab": {
          "base_uri": "https://localhost:8080/"
        },
        "id": "445304dd",
        "outputId": "9fee1cb5-124f-4bd7-a457-17e5a472b9e2"
      },
      "outputs": [
        {
          "name": "stdout",
          "output_type": "stream",
          "text": [
            "[16, 25, 1, 144, 25, 25]\n"
          ]
        }
      ],
      "source": [
        "# Using for loop\n",
        "\n",
        "x = [4, 5, 1, 12, 5, 5]\n",
        "new_list = []\n",
        "\n",
        "for item in x:\n",
        "    new_list.append(item**2)\n",
        "print(new_list)"
      ]
    },
    {
      "cell_type": "code",
      "execution_count": 96,
      "id": "ce4a4b2c",
      "metadata": {
        "id": "ce4a4b2c",
        "outputId": "c0e1604a-957e-4659-b2b4-aa0af110d4da"
      },
      "outputs": [
        {
          "name": "stdout",
          "output_type": "stream",
          "text": [
            "[16, 25, 1, 144, 25, 25]\n"
          ]
        }
      ],
      "source": [
        "# List Comprehension\n",
        "x = [4, 5, 1, 12, 5, 5]\n",
        "new_list = [item**2 for item in x]\n",
        "print(new_list)"
      ]
    },
    {
      "cell_type": "code",
      "execution_count": 97,
      "id": "Vi4ST_UXb9Ft",
      "metadata": {
        "id": "Vi4ST_UXb9Ft"
      },
      "outputs": [],
      "source": [
        "import time\n",
        "import random"
      ]
    },
    {
      "cell_type": "code",
      "execution_count": 98,
      "id": "gqyUU9C0cAnK",
      "metadata": {
        "id": "gqyUU9C0cAnK"
      },
      "outputs": [],
      "source": [
        "x2 = [random.randint(1, 100) for i in range(100000)]"
      ]
    },
    {
      "cell_type": "code",
      "execution_count": 99,
      "id": "hs6fFSM9cR6K",
      "metadata": {
        "colab": {
          "base_uri": "https://localhost:8080/"
        },
        "id": "hs6fFSM9cR6K",
        "outputId": "64ee8fde-e3ad-4ee8-bd38-f5a3c5fe11e3"
      },
      "outputs": [
        {
          "data": {
            "text/plain": [
              "100000"
            ]
          },
          "execution_count": 99,
          "metadata": {},
          "output_type": "execute_result"
        }
      ],
      "source": [
        "len(x2)"
      ]
    },
    {
      "cell_type": "code",
      "execution_count": 100,
      "id": "0EdyrjVfcV6i",
      "metadata": {
        "id": "0EdyrjVfcV6i"
      },
      "outputs": [],
      "source": [
        "# Using for loop\n",
        "\n",
        "new_list = []\n",
        "\n",
        "start_time = time.time()\n",
        "for item in x2:\n",
        "    new_list.append(item**2)\n",
        "end_time = time.time()"
      ]
    },
    {
      "cell_type": "code",
      "execution_count": 101,
      "id": "Yfuh0ZOvckq5",
      "metadata": {
        "colab": {
          "base_uri": "https://localhost:8080/"
        },
        "id": "Yfuh0ZOvckq5",
        "outputId": "3b8c8add-0cfb-4bdb-e202-e941e6f33665"
      },
      "outputs": [
        {
          "name": "stdout",
          "output_type": "stream",
          "text": [
            "0.004849672317504883\n"
          ]
        }
      ],
      "source": [
        "print(end_time-start_time)"
      ]
    },
    {
      "cell_type": "code",
      "execution_count": 102,
      "id": "ibo48SFPcr36",
      "metadata": {
        "id": "ibo48SFPcr36"
      },
      "outputs": [],
      "source": [
        "# List Comprehension\n",
        "start_time_2 = time.time()\n",
        "new_list_2 = [item**2 for item in x2]\n",
        "end_time_2 = time.time()"
      ]
    },
    {
      "cell_type": "code",
      "execution_count": 103,
      "id": "AnGcJnFHc3Wa",
      "metadata": {
        "colab": {
          "base_uri": "https://localhost:8080/"
        },
        "id": "AnGcJnFHc3Wa",
        "outputId": "13136164-8831-4e47-8b76-211c7cfb0ecc"
      },
      "outputs": [
        {
          "name": "stdout",
          "output_type": "stream",
          "text": [
            "0.0032813549041748047\n"
          ]
        }
      ],
      "source": [
        "print(end_time_2-start_time_2)"
      ]
    },
    {
      "cell_type": "code",
      "execution_count": 104,
      "id": "fe250651",
      "metadata": {
        "id": "fe250651",
        "outputId": "666c8bed-08f5-4cc1-b9b0-cd99a043f017"
      },
      "outputs": [
        {
          "name": "stdout",
          "output_type": "stream",
          "text": [
            "[16, 144]\n"
          ]
        }
      ],
      "source": [
        "# List Comprehension\n",
        "x = [4, 5, 1, 12, 5, 5]\n",
        "new_list = [item**2 for item in x if item % 2 == 0]\n",
        "print(new_list)"
      ]
    },
    {
      "cell_type": "code",
      "execution_count": 105,
      "id": "a87f6c1c",
      "metadata": {
        "id": "a87f6c1c",
        "outputId": "f4b310cf-da46-482c-a843-50f245334af5"
      },
      "outputs": [
        {
          "name": "stdout",
          "output_type": "stream",
          "text": [
            "[1, 14, 21, 12, 4, 14, 14]\n"
          ]
        }
      ],
      "source": [
        "age = [1, 14, 21, 12, 4, 14, 14]\n",
        "print(age)"
      ]
    },
    {
      "cell_type": "code",
      "execution_count": 106,
      "id": "ecb4641d",
      "metadata": {
        "id": "ecb4641d",
        "outputId": "59a983de-0f77-450a-9674-1a2f7721f7da"
      },
      "outputs": [
        {
          "name": "stdout",
          "output_type": "stream",
          "text": [
            "Deep copy: [1, 14, 21, 12, 4, 14, 14]\n",
            "Shallow copy: [1, 14, 21, 12, 4, 14, 14]\n"
          ]
        }
      ],
      "source": [
        "age_deep_copy = age.copy()\n",
        "age_shallow_copy = age\n",
        "print(\"Deep copy:\", age_deep_copy)\n",
        "print(\"Shallow copy:\", age_shallow_copy)"
      ]
    },
    {
      "cell_type": "code",
      "execution_count": 107,
      "id": "3b5eea59",
      "metadata": {
        "id": "3b5eea59",
        "outputId": "99676fee-983d-48a6-dfc3-41089573d7ac"
      },
      "outputs": [
        {
          "name": "stdout",
          "output_type": "stream",
          "text": [
            "Original age: [1, 14, 21, 12, 4, 14, 14, 1000]\n"
          ]
        }
      ],
      "source": [
        "age.append(1000)\n",
        "print(\"Original age:\", age)"
      ]
    },
    {
      "cell_type": "code",
      "execution_count": 108,
      "id": "c21608ee",
      "metadata": {
        "id": "c21608ee",
        "outputId": "196cbf93-f4eb-4a82-d785-57aace0605a6"
      },
      "outputs": [
        {
          "name": "stdout",
          "output_type": "stream",
          "text": [
            "Deep copy: [1, 14, 21, 12, 4, 14, 14]\n",
            "Shallow copy: [1, 14, 21, 12, 4, 14, 14, 1000]\n"
          ]
        }
      ],
      "source": [
        "print(\"Deep copy:\", age_deep_copy)\n",
        "print(\"Shallow copy:\", age_shallow_copy)"
      ]
    },
    {
      "cell_type": "code",
      "execution_count": 109,
      "id": "63fb7979",
      "metadata": {
        "id": "63fb7979"
      },
      "outputs": [],
      "source": [
        "age_deep_copy.append(\"Deep copy item\")\n",
        "age_shallow_copy.append(\"Shallow copy item\")"
      ]
    },
    {
      "cell_type": "code",
      "execution_count": 110,
      "id": "2041969c",
      "metadata": {
        "id": "2041969c",
        "outputId": "4bf13ba4-06d3-43a4-e36c-2360a22db59d"
      },
      "outputs": [
        {
          "name": "stdout",
          "output_type": "stream",
          "text": [
            "Original age: [1, 14, 21, 12, 4, 14, 14, 1000, 'Shallow copy item']\n",
            "Deep copy: [1, 14, 21, 12, 4, 14, 14, 'Deep copy item']\n",
            "Shallow copy: [1, 14, 21, 12, 4, 14, 14, 1000, 'Shallow copy item']\n"
          ]
        }
      ],
      "source": [
        "print(\"Original age:\", age)\n",
        "print(\"Deep copy:\", age_deep_copy)\n",
        "print(\"Shallow copy:\", age_shallow_copy)"
      ]
    },
    {
      "cell_type": "code",
      "execution_count": 111,
      "id": "e525d4f1",
      "metadata": {
        "id": "e525d4f1"
      },
      "outputs": [],
      "source": [
        "del age, age_deep_copy, age_shallow_copy"
      ]
    },
    {
      "cell_type": "code",
      "execution_count": 112,
      "id": "4f2eb9e7",
      "metadata": {
        "id": "4f2eb9e7"
      },
      "outputs": [],
      "source": [
        "my_first_tuple = (1, 3, 4, 7, 9)"
      ]
    },
    {
      "cell_type": "code",
      "execution_count": 113,
      "id": "a5ffd275",
      "metadata": {
        "id": "a5ffd275",
        "outputId": "f6b940cb-bc9d-449a-e16e-8b496fb98f4a"
      },
      "outputs": [],
      "source": [
        "# my_first_tuple[2] = 2000  # Tuples are immutable (cannot be changed)"
      ]
    },
    {
      "cell_type": "code",
      "execution_count": 114,
      "id": "cce381a6",
      "metadata": {
        "id": "cce381a6",
        "outputId": "9de5d0f4-a795-4ea6-f0e2-b91926dbb3bb"
      },
      "outputs": [
        {
          "name": "stdout",
          "output_type": "stream",
          "text": [
            "('Ronaldo', 'Messi', 'Beckham')\n",
            "<class 'tuple'>\n"
          ]
        }
      ],
      "source": [
        "football = tuple((\"Ronaldo\", \"Messi\", \"Beckham\"))  # tuple constructor\n",
        "print(football)\n",
        "print(type(football))"
      ]
    },
    {
      "cell_type": "code",
      "execution_count": 115,
      "id": "4a9c7c2e",
      "metadata": {
        "id": "4a9c7c2e",
        "outputId": "d3317ba7-0284-450f-d53d-8adc74e1ce39"
      },
      "outputs": [
        {
          "name": "stdout",
          "output_type": "stream",
          "text": [
            "a is absent\n"
          ]
        }
      ],
      "source": [
        "ip = input(\"Enter footballer: \")\n",
        "if ip in football:\n",
        "    print(ip,\"is present\")\n",
        "else:\n",
        "    print(ip,\"is absent\")"
      ]
    },
    {
      "cell_type": "code",
      "execution_count": 116,
      "id": "8259adac",
      "metadata": {
        "id": "8259adac",
        "outputId": "d18176a8-4545-40e5-a314-ee91d7ee280d"
      },
      "outputs": [
        {
          "name": "stdout",
          "output_type": "stream",
          "text": [
            "('Ronaldo', 'Messi', 'Beckham')\n",
            "['Ronaldo', 'Messi', 'Beckham']\n",
            "('Ronaldo', 'Messi', 'Rooney')\n"
          ]
        }
      ],
      "source": [
        "#Making changes to a tuple\n",
        "#Converting tuple to list, making changes, converting list back to tuple\n",
        "print(football)\n",
        "t = list(football)\n",
        "print(t)\n",
        "t[2] = \"Rooney\"\n",
        "football = tuple(t)\n",
        "print(football)"
      ]
    },
    {
      "cell_type": "code",
      "execution_count": 117,
      "id": "6823d420",
      "metadata": {
        "id": "6823d420",
        "outputId": "c604b054-5a2a-40e4-a685-32dea0deeeb4"
      },
      "outputs": [
        {
          "name": "stdout",
          "output_type": "stream",
          "text": [
            "('Ronaldo', 'Messi', 'Rooney', 'Sachin', 'Virat', 'Dhoni')\n",
            "('Sachin', 'Virat', 'Dhoni', 'Ronaldo', 'Messi', 'Rooney')\n"
          ]
        }
      ],
      "source": [
        "# Modifying tuple through concatenation\n",
        "cricket = (\"Sachin\", \"Virat\", \"Dhoni\")\n",
        "sports = football + cricket\n",
        "print(sports)\n",
        "cricket += football  # cricket = cricket + football\n",
        "print(cricket)"
      ]
    },
    {
      "cell_type": "code",
      "execution_count": 118,
      "id": "b4dce234",
      "metadata": {
        "id": "b4dce234"
      },
      "outputs": [],
      "source": [
        "my_demo_string = \"Hello\""
      ]
    },
    {
      "cell_type": "code",
      "execution_count": 119,
      "id": "17e3e96d",
      "metadata": {
        "id": "17e3e96d",
        "outputId": "4dfe9dc7-479e-4604-fb92-8802d172e4fb"
      },
      "outputs": [],
      "source": [
        "# my_demo_string[1] = 'i'   # strings are also immutable"
      ]
    },
    {
      "cell_type": "code",
      "execution_count": 120,
      "id": "97421278",
      "metadata": {
        "id": "97421278"
      },
      "outputs": [],
      "source": [
        "# choose keys which are immutable\n",
        "firstD = {\"employee_ID\":[1,2,3,4,5], \"employee_name\":[\"A\", \"B\", \"D\", \"E\"]}"
      ]
    },
    {
      "cell_type": "code",
      "execution_count": 121,
      "id": "a4ebf2c6",
      "metadata": {
        "id": "a4ebf2c6",
        "outputId": "70ef4e27-02bb-44bb-cffb-bb816c9ce5cf"
      },
      "outputs": [],
      "source": [
        "# firstD2 = {[\"employee_ID\"]:[1,2,3,4,5], [\"employee_name\"]:[\"A\", \"B\", \"D\", \"E\"]}"
      ]
    },
    {
      "cell_type": "code",
      "execution_count": 122,
      "id": "08fbe3e4",
      "metadata": {
        "id": "08fbe3e4"
      },
      "outputs": [],
      "source": [
        "firstD3 = {(\"employee_ID\"):[1,2,3,4,5], (\"employee_name\"):[\"A\", \"B\", \"D\", \"E\"]}"
      ]
    },
    {
      "cell_type": "code",
      "execution_count": 123,
      "id": "238f4b48",
      "metadata": {
        "id": "238f4b48",
        "outputId": "acfa68fa-3452-4c9f-9501-55f9f4deeb36"
      },
      "outputs": [
        {
          "name": "stdout",
          "output_type": "stream",
          "text": [
            "dict_keys(['employee_ID', 'employee_name'])\n"
          ]
        }
      ],
      "source": [
        "print(firstD.keys())"
      ]
    },
    {
      "cell_type": "code",
      "execution_count": 124,
      "id": "39384d88",
      "metadata": {
        "id": "39384d88",
        "outputId": "353d749e-6e42-480c-9039-02b5c51e84f0"
      },
      "outputs": [
        {
          "name": "stdout",
          "output_type": "stream",
          "text": [
            "dict_values([[1, 2, 3, 4, 5], ['A', 'B', 'D', 'E']])\n"
          ]
        }
      ],
      "source": [
        "print(firstD.values())"
      ]
    },
    {
      "cell_type": "code",
      "execution_count": 125,
      "id": "e466f8f2",
      "metadata": {
        "id": "e466f8f2",
        "outputId": "cd55c882-5b5b-43cd-9720-16ff0aea50a8"
      },
      "outputs": [
        {
          "name": "stdout",
          "output_type": "stream",
          "text": [
            "{'Name': 'Sachin Tendulkar', 'Country': ['India', 'MI', 'Yorkshire'], 'Colleagues': {'Name': ['Rahul', 'Dhoni'], 'Country': ['IN']}}\n"
          ]
        }
      ],
      "source": [
        "# Dictionary within a dictionary\n",
        "demoD = {\"Name\":\"Sachin Tendulkar\",\n",
        "         \"Country\":[\"India\", \"MI\", \"Yorkshire\"],\n",
        "         \"Colleagues\":{\"Name\":[\"Rahul\",\"Dhoni\"],\n",
        "                     \"Country\":[\"IN\"]}}\n",
        "\n",
        "print(demoD)"
      ]
    },
    {
      "cell_type": "code",
      "execution_count": 126,
      "id": "3ada131c",
      "metadata": {
        "id": "3ada131c"
      },
      "outputs": [],
      "source": [
        "# Function to add two numbers such that one of the numbers\n",
        "# is present by default if it is not provided by the user\n",
        "\n",
        "def add4(n1, n2=100):\n",
        "    return n1 + n2"
      ]
    },
    {
      "cell_type": "code",
      "execution_count": 127,
      "id": "e70c5828",
      "metadata": {
        "id": "e70c5828",
        "outputId": "e41e3179-bd4a-47c5-fe0c-4d3a28bd9c93"
      },
      "outputs": [
        {
          "name": "stdout",
          "output_type": "stream",
          "text": [
            "105\n"
          ]
        }
      ],
      "source": [
        "s1 = add4(5)\n",
        "print(s1)"
      ]
    },
    {
      "cell_type": "code",
      "execution_count": 128,
      "id": "f885e4c3",
      "metadata": {
        "id": "f885e4c3",
        "outputId": "5e95435f-a05b-449c-eb1e-dd4524ab7718"
      },
      "outputs": [
        {
          "name": "stdout",
          "output_type": "stream",
          "text": [
            "3000\n"
          ]
        }
      ],
      "source": [
        "s2 = add4(1000, 2000)\n",
        "print(s2)"
      ]
    },
    {
      "cell_type": "code",
      "execution_count": 129,
      "id": "5dc73347",
      "metadata": {
        "id": "5dc73347"
      },
      "outputs": [],
      "source": [
        "def mysteryFunction(s):\n",
        "    return True if s == s[::-1] else False"
      ]
    },
    {
      "cell_type": "code",
      "execution_count": 130,
      "id": "e5d88af4",
      "metadata": {
        "id": "e5d88af4",
        "outputId": "c3d5abbd-535b-4a0b-a70f-ff140d530e04"
      },
      "outputs": [
        {
          "name": "stdout",
          "output_type": "stream",
          "text": [
            "Mystery solved\n"
          ]
        }
      ],
      "source": [
        "print(\"Mystery solved\" if mysteryFunction(\"NITIN\") else \"Mystery unsolved\")"
      ]
    },
    {
      "cell_type": "code",
      "execution_count": 131,
      "id": "10c8ca25",
      "metadata": {
        "id": "10c8ca25",
        "outputId": "157ef337-0500-432a-c6f7-cc5f63932bd6"
      },
      "outputs": [
        {
          "name": "stdout",
          "output_type": "stream",
          "text": [
            "Mystery unsolved\n"
          ]
        }
      ],
      "source": [
        "print(\"Mystery solved\" if mysteryFunction(\"FRIEND\") else \"Mystery unsolved\")"
      ]
    },
    {
      "cell_type": "code",
      "execution_count": 132,
      "id": "c4353880",
      "metadata": {
        "id": "c4353880"
      },
      "outputs": [],
      "source": [
        "def squaredList(my_list):\n",
        "    return [item**2 for item in my_list]"
      ]
    },
    {
      "cell_type": "code",
      "execution_count": 133,
      "id": "d21861c9",
      "metadata": {
        "id": "d21861c9",
        "outputId": "f6890159-ca97-456e-92e2-8748dff028e7"
      },
      "outputs": [
        {
          "name": "stdout",
          "output_type": "stream",
          "text": [
            "[1, 9, 4, 16]\n"
          ]
        }
      ],
      "source": [
        "print(squaredList([1, 3, 2, 4]))"
      ]
    },
    {
      "cell_type": "code",
      "execution_count": 134,
      "id": "9e4010df",
      "metadata": {
        "id": "9e4010df"
      },
      "outputs": [],
      "source": [
        "def squaring(v):\n",
        "    return v**2"
      ]
    },
    {
      "cell_type": "code",
      "execution_count": 135,
      "id": "dfe66fec",
      "metadata": {
        "id": "dfe66fec",
        "outputId": "a63d355f-6297-4ecd-f224-5f63a6d58b5a"
      },
      "outputs": [
        {
          "data": {
            "text/plain": [
              "[1, 4, 9, 16]"
            ]
          },
          "execution_count": 135,
          "metadata": {},
          "output_type": "execute_result"
        }
      ],
      "source": [
        "list(map(squaring, [1,2,3,4]))"
      ]
    },
    {
      "cell_type": "code",
      "execution_count": 136,
      "id": "37817048",
      "metadata": {
        "id": "37817048",
        "outputId": "c1255114-cac3-4170-a845-27dad635e3fa"
      },
      "outputs": [
        {
          "data": {
            "text/plain": [
              "[1, 4, 9, 16]"
            ]
          },
          "execution_count": 136,
          "metadata": {},
          "output_type": "execute_result"
        }
      ],
      "source": [
        "list(map(lambda x: x**2, [1,2,3,4]))"
      ]
    },
    {
      "cell_type": "code",
      "execution_count": 137,
      "id": "aa05e2c2",
      "metadata": {
        "id": "aa05e2c2"
      },
      "outputs": [],
      "source": [
        "from functools import reduce"
      ]
    },
    {
      "cell_type": "code",
      "execution_count": 138,
      "id": "9dc273a5",
      "metadata": {
        "id": "9dc273a5",
        "outputId": "bea55e07-ce5d-4c4f-d7c2-32a93328d926"
      },
      "outputs": [
        {
          "data": {
            "text/plain": [
              "10"
            ]
          },
          "execution_count": 138,
          "metadata": {},
          "output_type": "execute_result"
        }
      ],
      "source": [
        "int(reduce(lambda x, y: x+y, (1,2,3,4)))"
      ]
    },
    {
      "cell_type": "code",
      "execution_count": 139,
      "id": "df9b3c31",
      "metadata": {
        "id": "df9b3c31",
        "outputId": "469c08a7-b87e-4f29-aa3f-130b2b5fb277"
      },
      "outputs": [
        {
          "name": "stdout",
          "output_type": "stream",
          "text": [
            "['I', 'have', 'to', 'complete', 'my', 'assignment', 'by', 'today']\n"
          ]
        }
      ],
      "source": [
        "# split() function\n",
        "my_str_1 = \"I have to complete my assignment by today\"\n",
        "print(my_str_1.split())"
      ]
    },
    {
      "cell_type": "code",
      "execution_count": 140,
      "id": "83d51d93",
      "metadata": {
        "id": "83d51d93",
        "outputId": "d611b12e-2ed8-40ae-b7f4-d7a3de716aa3"
      },
      "outputs": [
        {
          "name": "stdout",
          "output_type": "stream",
          "text": [
            "['Hello.Friends.Romans.Countrymen']\n"
          ]
        }
      ],
      "source": [
        "my_str_5 = \"Hello.Friends.Romans.Countrymen\"\n",
        "\n",
        "print(my_str_5.split())"
      ]
    },
    {
      "cell_type": "code",
      "execution_count": 141,
      "id": "281329c4",
      "metadata": {
        "id": "281329c4",
        "outputId": "91379740-9925-42df-ca81-a1d843ff7d04"
      },
      "outputs": [
        {
          "name": "stdout",
          "output_type": "stream",
          "text": [
            "['Hello', 'Friends', 'Romans', 'Countrymen']\n"
          ]
        }
      ],
      "source": [
        "print(my_str_5.split('.'))"
      ]
    },
    {
      "cell_type": "code",
      "execution_count": 142,
      "id": "2cb4c343",
      "metadata": {
        "id": "2cb4c343"
      },
      "outputs": [],
      "source": [
        "tweets = \"India won!!###VK scored a century! :)###Rohit is the best captain.###The PM congratulates the Indian Cricket Team###Go India\""
      ]
    },
    {
      "cell_type": "code",
      "execution_count": 143,
      "id": "5205ccd0",
      "metadata": {
        "id": "5205ccd0",
        "outputId": "f1b5e48e-0c97-4025-c438-e4e73925a5b4",
        "scrolled": true
      },
      "outputs": [
        {
          "name": "stdout",
          "output_type": "stream",
          "text": [
            "['India won!!', 'VK scored a century! :)', 'Rohit is the best captain.', 'The PM congratulates the Indian Cricket Team', 'Go India']\n"
          ]
        }
      ],
      "source": [
        "print(tweets.split(\"###\"))"
      ]
    },
    {
      "cell_type": "code",
      "execution_count": 144,
      "id": "1820412f",
      "metadata": {
        "id": "1820412f"
      },
      "outputs": [],
      "source": [
        "T = tweets.split(\"###\")"
      ]
    },
    {
      "cell_type": "code",
      "execution_count": 145,
      "id": "831a2958",
      "metadata": {
        "id": "831a2958"
      },
      "outputs": [],
      "source": [
        "import pandas as pd"
      ]
    },
    {
      "cell_type": "code",
      "execution_count": 146,
      "id": "d2e946bb",
      "metadata": {
        "id": "d2e946bb"
      },
      "outputs": [],
      "source": [
        "df = pd.DataFrame({\"Tweet Number\":[1,2,3,4,5], \"Tweets\":T})"
      ]
    },
    {
      "cell_type": "code",
      "execution_count": 147,
      "id": "a74ba256",
      "metadata": {
        "id": "a74ba256",
        "outputId": "100d6124-82c0-45f2-8865-3068d9e89a3e"
      },
      "outputs": [
        {
          "data": {
            "text/html": [
              "<div>\n",
              "<style scoped>\n",
              "    .dataframe tbody tr th:only-of-type {\n",
              "        vertical-align: middle;\n",
              "    }\n",
              "\n",
              "    .dataframe tbody tr th {\n",
              "        vertical-align: top;\n",
              "    }\n",
              "\n",
              "    .dataframe thead th {\n",
              "        text-align: right;\n",
              "    }\n",
              "</style>\n",
              "<table border=\"1\" class=\"dataframe\">\n",
              "  <thead>\n",
              "    <tr style=\"text-align: right;\">\n",
              "      <th></th>\n",
              "      <th>Tweet Number</th>\n",
              "      <th>Tweets</th>\n",
              "    </tr>\n",
              "  </thead>\n",
              "  <tbody>\n",
              "    <tr>\n",
              "      <th>0</th>\n",
              "      <td>1</td>\n",
              "      <td>India won!!</td>\n",
              "    </tr>\n",
              "    <tr>\n",
              "      <th>1</th>\n",
              "      <td>2</td>\n",
              "      <td>VK scored a century! :)</td>\n",
              "    </tr>\n",
              "    <tr>\n",
              "      <th>2</th>\n",
              "      <td>3</td>\n",
              "      <td>Rohit is the best captain.</td>\n",
              "    </tr>\n",
              "    <tr>\n",
              "      <th>3</th>\n",
              "      <td>4</td>\n",
              "      <td>The PM congratulates the Indian Cricket Team</td>\n",
              "    </tr>\n",
              "    <tr>\n",
              "      <th>4</th>\n",
              "      <td>5</td>\n",
              "      <td>Go India</td>\n",
              "    </tr>\n",
              "  </tbody>\n",
              "</table>\n",
              "</div>"
            ],
            "text/plain": [
              "   Tweet Number                                        Tweets\n",
              "0             1                                   India won!!\n",
              "1             2                       VK scored a century! :)\n",
              "2             3                    Rohit is the best captain.\n",
              "3             4  The PM congratulates the Indian Cricket Team\n",
              "4             5                                      Go India"
            ]
          },
          "execution_count": 147,
          "metadata": {},
          "output_type": "execute_result"
        }
      ],
      "source": [
        "df.head()"
      ]
    },
    {
      "cell_type": "code",
      "execution_count": 148,
      "id": "b4e75100",
      "metadata": {
        "id": "b4e75100"
      },
      "outputs": [],
      "source": [
        "my_delimiter_1 = \".\"\n",
        "my_delimiter_2 = \"#\""
      ]
    },
    {
      "cell_type": "markdown",
      "id": "a1e48761",
      "metadata": {
        "id": "a1e48761"
      },
      "source": [
        "- The join function is called on a string (delimiter) and it accepts an iterable such as tuple, list or string as an argument. It returns a resultant string where the items in the iterable are joined with each other separated by the delimiter."
      ]
    },
    {
      "cell_type": "code",
      "execution_count": 149,
      "id": "0dda2e4a",
      "metadata": {
        "id": "0dda2e4a",
        "outputId": "811d8dc6-103b-4acb-d703-2b15f7e08b5e"
      },
      "outputs": [
        {
          "name": "stdout",
          "output_type": "stream",
          "text": [
            "Hello.friends\n"
          ]
        }
      ],
      "source": [
        "print(my_delimiter_1.join([\"Hello\", \"friends\"]))"
      ]
    },
    {
      "cell_type": "code",
      "execution_count": 150,
      "id": "d25c2d77",
      "metadata": {
        "id": "d25c2d77",
        "outputId": "676d5eb6-bdf6-4330-ac8c-4adccbf03319"
      },
      "outputs": [
        {
          "name": "stdout",
          "output_type": "stream",
          "text": [
            "Hello#friends\n"
          ]
        }
      ],
      "source": [
        "print(my_delimiter_2.join((\"Hello\", \"friends\")))"
      ]
    },
    {
      "cell_type": "markdown",
      "id": "29c4cccd",
      "metadata": {
        "id": "29c4cccd"
      },
      "source": [
        "### Creating dictionary"
      ]
    },
    {
      "cell_type": "code",
      "execution_count": 13,
      "id": "1d0391af",
      "metadata": {
        "id": "1d0391af"
      },
      "outputs": [],
      "source": [
        "d1 = {\"ID\":[1,2,3,4], \"Name\":[\"ABD\", \"DEF\", \"DEF\", \"PQR\"], \"Salary\":[100, 125, 150, 110]}"
      ]
    },
    {
      "cell_type": "code",
      "execution_count": 14,
      "id": "1c570d82",
      "metadata": {
        "id": "1c570d82",
        "outputId": "de7ed4ab-061a-46ce-de55-b748c6a75bf8"
      },
      "outputs": [
        {
          "name": "stdout",
          "output_type": "stream",
          "text": [
            "{'ID': [1, 2, 3, 4], 'Name': ['ABD', 'DEF', 'DEF', 'PQR'], 'Salary': [100, 125, 150, 110]}\n"
          ]
        }
      ],
      "source": [
        "print(d1)"
      ]
    },
    {
      "cell_type": "code",
      "execution_count": 15,
      "id": "1061086c",
      "metadata": {
        "id": "1061086c",
        "outputId": "6c04fe33-e2c0-454d-99a6-7c7384edd26b"
      },
      "outputs": [
        {
          "name": "stdout",
          "output_type": "stream",
          "text": [
            "<class 'dict'>\n"
          ]
        }
      ],
      "source": [
        "print(type(d1))"
      ]
    },
    {
      "cell_type": "markdown",
      "id": "3fc793fa",
      "metadata": {
        "id": "3fc793fa"
      },
      "source": [
        "### fromkeys()"
      ]
    },
    {
      "cell_type": "code",
      "execution_count": 16,
      "id": "25ecc116",
      "metadata": {
        "id": "25ecc116"
      },
      "outputs": [],
      "source": [
        "new_dictionary = d1.fromkeys([\"ID\", \"Name\"])"
      ]
    },
    {
      "cell_type": "code",
      "execution_count": 17,
      "id": "7a6212b6",
      "metadata": {
        "id": "7a6212b6",
        "outputId": "78a11dfe-434a-4d8d-e500-d9cce5d9d213"
      },
      "outputs": [
        {
          "name": "stdout",
          "output_type": "stream",
          "text": [
            "{'ID': None, 'Name': None}\n"
          ]
        }
      ],
      "source": [
        "print(new_dictionary)"
      ]
    },
    {
      "cell_type": "code",
      "execution_count": 18,
      "id": "34bde72c",
      "metadata": {
        "id": "34bde72c"
      },
      "outputs": [],
      "source": [
        "new_dictionary[\"ID\"] = [1,2,3,4,5,6]"
      ]
    },
    {
      "cell_type": "code",
      "execution_count": 19,
      "id": "d1710f5e",
      "metadata": {
        "id": "d1710f5e"
      },
      "outputs": [],
      "source": [
        "new_dictionary[\"Name\"] = [\"A\", \"B\", \"B\", \"C\", \"A\", \"D\"]"
      ]
    },
    {
      "cell_type": "code",
      "execution_count": 20,
      "id": "42f826bf",
      "metadata": {
        "id": "42f826bf",
        "outputId": "0f672895-77f5-462b-d2d5-8006b4a7c697"
      },
      "outputs": [
        {
          "name": "stdout",
          "output_type": "stream",
          "text": [
            "{'ID': [1, 2, 3, 4, 5, 6], 'Name': ['A', 'B', 'B', 'C', 'A', 'D']}\n"
          ]
        }
      ],
      "source": [
        "print(new_dictionary)"
      ]
    },
    {
      "cell_type": "code",
      "execution_count": 21,
      "id": "ca95ef38",
      "metadata": {
        "id": "ca95ef38"
      },
      "outputs": [],
      "source": [
        "v = [[1,2,3], [4,5,6]]"
      ]
    },
    {
      "cell_type": "code",
      "execution_count": 22,
      "id": "5bf92b84",
      "metadata": {
        "id": "5bf92b84"
      },
      "outputs": [],
      "source": [
        "new_dictionary_2 = d1.fromkeys([\"ID\", \"Name\"], v)"
      ]
    },
    {
      "cell_type": "code",
      "execution_count": 23,
      "id": "b4a10f80",
      "metadata": {
        "id": "b4a10f80",
        "outputId": "9df83fed-8fbe-4358-e318-4dfacd0ddd64"
      },
      "outputs": [
        {
          "name": "stdout",
          "output_type": "stream",
          "text": [
            "{'ID': [[1, 2, 3], [4, 5, 6]], 'Name': [[1, 2, 3], [4, 5, 6]]}\n"
          ]
        }
      ],
      "source": [
        "print(new_dictionary_2)"
      ]
    },
    {
      "cell_type": "markdown",
      "id": "ce1f2aaf",
      "metadata": {
        "id": "ce1f2aaf"
      },
      "source": [
        "### clear()"
      ]
    },
    {
      "cell_type": "code",
      "execution_count": 24,
      "id": "38a649bf",
      "metadata": {
        "id": "38a649bf"
      },
      "outputs": [],
      "source": [
        "new_dictionary_2.clear()"
      ]
    },
    {
      "cell_type": "code",
      "execution_count": 25,
      "id": "5c87022f",
      "metadata": {
        "id": "5c87022f",
        "outputId": "009d7bfb-fb56-46f1-dd07-b71148b3c2b0"
      },
      "outputs": [
        {
          "name": "stdout",
          "output_type": "stream",
          "text": [
            "{}\n"
          ]
        }
      ],
      "source": [
        "print(new_dictionary_2)"
      ]
    },
    {
      "cell_type": "code",
      "execution_count": 26,
      "id": "5f2586a4",
      "metadata": {
        "id": "5f2586a4",
        "outputId": "8c5ccf47-6621-49f5-be83-49b127e8f969",
        "scrolled": true
      },
      "outputs": [
        {
          "name": "stdout",
          "output_type": "stream",
          "text": [
            "<class 'dict'>\n"
          ]
        }
      ],
      "source": [
        "print(type(new_dictionary_2))"
      ]
    },
    {
      "cell_type": "code",
      "execution_count": 27,
      "id": "b0da987a",
      "metadata": {
        "id": "b0da987a"
      },
      "outputs": [],
      "source": [
        "import random"
      ]
    },
    {
      "cell_type": "code",
      "execution_count": 28,
      "id": "f37f303d",
      "metadata": {
        "id": "f37f303d"
      },
      "outputs": [],
      "source": [
        "new_dictionary_2[\"Age\"] = [random.randint(22, 65) for i in range(10)]"
      ]
    },
    {
      "cell_type": "code",
      "execution_count": 29,
      "id": "960ce4aa",
      "metadata": {
        "id": "960ce4aa",
        "outputId": "3286eb45-d3eb-4dd4-d8d1-bcb17ca04655"
      },
      "outputs": [
        {
          "name": "stdout",
          "output_type": "stream",
          "text": [
            "{'Age': [30, 26, 41, 45, 26, 50, 49, 51, 28, 38]}\n"
          ]
        }
      ],
      "source": [
        "print(new_dictionary_2)"
      ]
    },
    {
      "cell_type": "markdown",
      "id": "ce50ca82",
      "metadata": {
        "id": "ce50ca82"
      },
      "source": [
        "### get()"
      ]
    },
    {
      "cell_type": "markdown",
      "id": "2545948a",
      "metadata": {
        "id": "2545948a"
      },
      "source": [
        "- Get the value of an item indexed with a specific key"
      ]
    },
    {
      "cell_type": "code",
      "execution_count": 30,
      "id": "30262346",
      "metadata": {
        "id": "30262346",
        "outputId": "e6a35133-74ab-4f73-af87-d2866285fc35"
      },
      "outputs": [
        {
          "name": "stdout",
          "output_type": "stream",
          "text": [
            "{'ID': [1, 2, 3, 4], 'Name': ['ABD', 'DEF', 'DEF', 'PQR'], 'Salary': [100, 125, 150, 110]}\n"
          ]
        }
      ],
      "source": [
        "print(d1)"
      ]
    },
    {
      "cell_type": "code",
      "execution_count": 31,
      "id": "ae036fab",
      "metadata": {
        "id": "ae036fab",
        "outputId": "4ae53da8-b49b-43b0-b63f-c98b5f37cd9e"
      },
      "outputs": [
        {
          "data": {
            "text/plain": [
              "[1, 2, 3, 4]"
            ]
          },
          "execution_count": 31,
          "metadata": {},
          "output_type": "execute_result"
        }
      ],
      "source": [
        "d1.get(\"ID\")"
      ]
    },
    {
      "cell_type": "code",
      "execution_count": 32,
      "id": "fa0379bd",
      "metadata": {
        "id": "fa0379bd",
        "outputId": "980cc285-f572-4ed0-cff3-29f26f1ed6ad"
      },
      "outputs": [
        {
          "data": {
            "text/plain": [
              "'THE KEY DOES NOT EXIST'"
            ]
          },
          "execution_count": 32,
          "metadata": {},
          "output_type": "execute_result"
        }
      ],
      "source": [
        "d1.get(\"Age\", \"THE KEY DOES NOT EXIST\")"
      ]
    },
    {
      "cell_type": "markdown",
      "id": "f8ab61b9",
      "metadata": {
        "id": "f8ab61b9"
      },
      "source": [
        "### items()"
      ]
    },
    {
      "cell_type": "markdown",
      "id": "13c7932e",
      "metadata": {
        "id": "13c7932e"
      },
      "source": [
        "- Returns a tuple of values for each key-value pair"
      ]
    },
    {
      "cell_type": "code",
      "execution_count": 33,
      "id": "8d67ad18",
      "metadata": {
        "id": "8d67ad18",
        "outputId": "786b837b-18ad-4e7a-e33a-a2520df691f8"
      },
      "outputs": [
        {
          "name": "stdout",
          "output_type": "stream",
          "text": [
            "{'ID': [1, 2, 3, 4], 'Name': ['ABD', 'DEF', 'DEF', 'PQR'], 'Salary': [100, 125, 150, 110]}\n"
          ]
        }
      ],
      "source": [
        "print(d1)"
      ]
    },
    {
      "cell_type": "code",
      "execution_count": 34,
      "id": "f5e54892",
      "metadata": {
        "id": "f5e54892"
      },
      "outputs": [],
      "source": [
        "tmp = d1.items()"
      ]
    },
    {
      "cell_type": "code",
      "execution_count": 35,
      "id": "65a01529",
      "metadata": {
        "id": "65a01529",
        "outputId": "649310c0-395f-45d0-98f9-9ccb05f6333b"
      },
      "outputs": [
        {
          "name": "stdout",
          "output_type": "stream",
          "text": [
            "dict_items([('ID', [1, 2, 3, 4]), ('Name', ['ABD', 'DEF', 'DEF', 'PQR']), ('Salary', [100, 125, 150, 110])])\n"
          ]
        }
      ],
      "source": [
        "print(tmp)"
      ]
    },
    {
      "cell_type": "markdown",
      "id": "f9a9ffc3",
      "metadata": {
        "id": "f9a9ffc3"
      },
      "source": [
        "### keys()"
      ]
    },
    {
      "cell_type": "code",
      "execution_count": 36,
      "id": "44d6175f",
      "metadata": {
        "id": "44d6175f",
        "outputId": "d0baa2e0-c519-4cd9-a8c5-c7af6c1ff0d2"
      },
      "outputs": [
        {
          "name": "stdout",
          "output_type": "stream",
          "text": [
            "{'ID': [1, 2, 3, 4], 'Name': ['ABD', 'DEF', 'DEF', 'PQR'], 'Salary': [100, 125, 150, 110]}\n"
          ]
        }
      ],
      "source": [
        "print(d1)"
      ]
    },
    {
      "cell_type": "code",
      "execution_count": 37,
      "id": "0db5e475",
      "metadata": {
        "id": "0db5e475",
        "outputId": "7ce3cc5b-9726-4153-c6da-f648a98be06c"
      },
      "outputs": [
        {
          "name": "stdout",
          "output_type": "stream",
          "text": [
            "dict_keys(['ID', 'Name', 'Salary'])\n"
          ]
        }
      ],
      "source": [
        "print(d1.keys())"
      ]
    },
    {
      "cell_type": "markdown",
      "id": "41223fe5",
      "metadata": {
        "id": "41223fe5"
      },
      "source": [
        "### pop()"
      ]
    },
    {
      "cell_type": "markdown",
      "id": "890840c2",
      "metadata": {
        "id": "890840c2"
      },
      "source": [
        "- Removes an item from the dictionary"
      ]
    },
    {
      "cell_type": "code",
      "execution_count": 38,
      "id": "0a9f36e2",
      "metadata": {
        "id": "0a9f36e2",
        "outputId": "54843d86-03f2-4bc0-b4b3-803d6ef27ef0"
      },
      "outputs": [
        {
          "name": "stdout",
          "output_type": "stream",
          "text": [
            "{'ID': [1, 2, 3, 4, 5, 6], 'Name': ['A', 'B', 'B', 'C', 'A', 'D']}\n"
          ]
        }
      ],
      "source": [
        "print(new_dictionary)"
      ]
    },
    {
      "cell_type": "code",
      "execution_count": 39,
      "id": "ee6695bf",
      "metadata": {
        "id": "ee6695bf",
        "outputId": "c06e97dd-6589-4281-8738-0230f406f210"
      },
      "outputs": [
        {
          "name": "stdout",
          "output_type": "stream",
          "text": [
            "['A', 'B', 'B', 'C', 'A', 'D']\n"
          ]
        }
      ],
      "source": [
        "print(new_dictionary.pop(\"Name\"))"
      ]
    },
    {
      "cell_type": "code",
      "execution_count": 40,
      "id": "fcc48996",
      "metadata": {
        "id": "fcc48996",
        "outputId": "35d9e10d-7c7c-4583-ab84-6994be831af7"
      },
      "outputs": [
        {
          "name": "stdout",
          "output_type": "stream",
          "text": [
            "{'ID': [1, 2, 3, 4, 5, 6]}\n"
          ]
        }
      ],
      "source": [
        "print(new_dictionary)"
      ]
    },
    {
      "cell_type": "code",
      "execution_count": 41,
      "id": "c5930251",
      "metadata": {
        "id": "c5930251",
        "outputId": "a0de43f8-2a4e-447e-ded1-49decccc19bc"
      },
      "outputs": [
        {
          "data": {
            "text/plain": [
              "'THIS KEY IS NOT AVAILABLE'"
            ]
          },
          "execution_count": 41,
          "metadata": {},
          "output_type": "execute_result"
        }
      ],
      "source": [
        "new_dictionary.pop(\"Age\", \"THIS KEY IS NOT AVAILABLE\")"
      ]
    },
    {
      "cell_type": "markdown",
      "id": "a2473da4",
      "metadata": {
        "id": "a2473da4"
      },
      "source": [
        "### values()"
      ]
    },
    {
      "cell_type": "code",
      "execution_count": 42,
      "id": "41605916",
      "metadata": {
        "id": "41605916",
        "outputId": "0b36a74c-58cf-43f5-a424-bcd755d93cf5"
      },
      "outputs": [
        {
          "name": "stdout",
          "output_type": "stream",
          "text": [
            "{'ID': [1, 2, 3, 4], 'Name': ['ABD', 'DEF', 'DEF', 'PQR'], 'Salary': [100, 125, 150, 110]}\n"
          ]
        }
      ],
      "source": [
        "print(d1)"
      ]
    },
    {
      "cell_type": "code",
      "execution_count": 43,
      "id": "5ed47e1c",
      "metadata": {
        "id": "5ed47e1c",
        "outputId": "6f5802d0-bf92-4267-81c8-1b62258f622d"
      },
      "outputs": [
        {
          "name": "stdout",
          "output_type": "stream",
          "text": [
            "dict_values([[1, 2, 3, 4], ['ABD', 'DEF', 'DEF', 'PQR'], [100, 125, 150, 110]])\n"
          ]
        }
      ],
      "source": [
        "print(d1.values())"
      ]
    },
    {
      "cell_type": "markdown",
      "id": "bb6a5dee",
      "metadata": {
        "id": "bb6a5dee"
      },
      "source": [
        "### update()"
      ]
    },
    {
      "cell_type": "markdown",
      "id": "477d0cd0",
      "metadata": {
        "id": "477d0cd0"
      },
      "source": [
        "- Inserts the specified items to the dictionary"
      ]
    },
    {
      "cell_type": "code",
      "execution_count": 44,
      "id": "29da6cd9",
      "metadata": {
        "id": "29da6cd9",
        "outputId": "2c15d6d8-6f88-418d-aade-d5608d173640"
      },
      "outputs": [
        {
          "data": {
            "text/plain": [
              "{'ID': [1, 2, 3, 4],\n",
              " 'Name': ['ABD', 'DEF', 'DEF', 'PQR'],\n",
              " 'Salary': [100, 125, 150, 110]}"
            ]
          },
          "execution_count": 44,
          "metadata": {},
          "output_type": "execute_result"
        }
      ],
      "source": [
        "d1"
      ]
    },
    {
      "cell_type": "code",
      "execution_count": 45,
      "id": "1771346f",
      "metadata": {
        "id": "1771346f",
        "outputId": "b89b4f3c-a3c5-42e9-d4f7-7a291151dfb9"
      },
      "outputs": [
        {
          "data": {
            "text/plain": [
              "{'Age': [30, 26, 41, 45, 26, 50, 49, 51, 28, 38]}"
            ]
          },
          "execution_count": 45,
          "metadata": {},
          "output_type": "execute_result"
        }
      ],
      "source": [
        "new_dictionary_2"
      ]
    },
    {
      "cell_type": "code",
      "execution_count": 46,
      "id": "ac778a1f",
      "metadata": {
        "id": "ac778a1f"
      },
      "outputs": [],
      "source": [
        "d1.update(new_dictionary_2)"
      ]
    },
    {
      "cell_type": "code",
      "execution_count": 47,
      "id": "5d0e03d3",
      "metadata": {
        "id": "5d0e03d3",
        "outputId": "1c74dfab-4742-45f3-cfcc-c99bc449d094"
      },
      "outputs": [
        {
          "name": "stdout",
          "output_type": "stream",
          "text": [
            "{'ID': [1, 2, 3, 4], 'Name': ['ABD', 'DEF', 'DEF', 'PQR'], 'Salary': [100, 125, 150, 110], 'Age': [30, 26, 41, 45, 26, 50, 49, 51, 28, 38]}\n"
          ]
        }
      ],
      "source": [
        "print(d1)"
      ]
    },
    {
      "cell_type": "code",
      "execution_count": 48,
      "id": "c31d4b81",
      "metadata": {
        "id": "c31d4b81",
        "outputId": "c7959e65-df53-4518-a7ae-00d2dd8a73bd"
      },
      "outputs": [
        {
          "data": {
            "text/plain": [
              "{'ID': [1, 2, 3, 4, 5, 6]}"
            ]
          },
          "execution_count": 48,
          "metadata": {},
          "output_type": "execute_result"
        }
      ],
      "source": [
        "new_dictionary"
      ]
    },
    {
      "cell_type": "code",
      "execution_count": 49,
      "id": "1a725afe",
      "metadata": {
        "id": "1a725afe"
      },
      "outputs": [],
      "source": [
        "new_dictionary_3 = {\"AADHAAR\":[123, 456, 789, 119], \"Location\":[\"DEL\", \"MUM\", \"KOL\", \"HYD\"]}"
      ]
    },
    {
      "cell_type": "code",
      "execution_count": 50,
      "id": "91febe44",
      "metadata": {
        "id": "91febe44",
        "outputId": "cafc21d7-158e-4403-e9a6-a91ac8e6942f"
      },
      "outputs": [
        {
          "name": "stdout",
          "output_type": "stream",
          "text": [
            "{'AADHAAR': [123, 456, 789, 119], 'Location': ['DEL', 'MUM', 'KOL', 'HYD']}\n"
          ]
        }
      ],
      "source": [
        "print(new_dictionary_3)"
      ]
    },
    {
      "cell_type": "code",
      "execution_count": 51,
      "id": "4bac5ada",
      "metadata": {
        "id": "4bac5ada",
        "outputId": "1c9e7236-635c-409f-f641-a205d8d811e6"
      },
      "outputs": [
        {
          "name": "stdout",
          "output_type": "stream",
          "text": [
            "{'ID': [1, 2, 3, 4], 'Name': ['ABD', 'DEF', 'DEF', 'PQR'], 'Salary': [100, 125, 150, 110], 'Age': [30, 26, 41, 45, 26, 50, 49, 51, 28, 38]}\n"
          ]
        }
      ],
      "source": [
        "print(d1)"
      ]
    },
    {
      "cell_type": "markdown",
      "id": "3f38b7ed",
      "metadata": {
        "id": "3f38b7ed"
      },
      "source": [
        "### dictionary comprehension"
      ]
    },
    {
      "cell_type": "code",
      "execution_count": 52,
      "id": "0f954324",
      "metadata": {
        "id": "0f954324",
        "outputId": "d488efd2-b08a-478a-d6b0-d6281a618562"
      },
      "outputs": [
        {
          "data": {
            "text/plain": [
              "{'ID': [1, 2, 3, 4],\n",
              " 'Name': ['ABD', 'DEF', 'DEF', 'PQR'],\n",
              " 'Salary': [100, 125, 150, 110],\n",
              " 'Age': [30, 26, 41, 45, 26, 50, 49, 51, 28, 38]}"
            ]
          },
          "execution_count": 52,
          "metadata": {},
          "output_type": "execute_result"
        }
      ],
      "source": [
        "d1"
      ]
    },
    {
      "cell_type": "code",
      "execution_count": 53,
      "id": "96a57ed0",
      "metadata": {
        "id": "96a57ed0"
      },
      "outputs": [],
      "source": [
        "d2 = {k:d1[k] for k in d1.keys() if k==\"ID\" or k==\"Age\"}"
      ]
    },
    {
      "cell_type": "code",
      "execution_count": 54,
      "id": "da4e3033",
      "metadata": {
        "id": "da4e3033",
        "outputId": "77206e07-863b-4262-ed41-fe82f73b8307"
      },
      "outputs": [
        {
          "name": "stdout",
          "output_type": "stream",
          "text": [
            "{'ID': [1, 2, 3, 4], 'Age': [30, 26, 41, 45, 26, 50, 49, 51, 28, 38]}\n"
          ]
        }
      ],
      "source": [
        "print(d2)"
      ]
    },
    {
      "cell_type": "code",
      "execution_count": 55,
      "id": "75e898ec",
      "metadata": {
        "id": "75e898ec",
        "outputId": "4c627207-f304-41ad-9fbe-8d0e659ef688"
      },
      "outputs": [
        {
          "data": {
            "text/plain": [
              "{'ID': [1, 2, 3, 4],\n",
              " 'Name': ['ABD', 'DEF', 'DEF', 'PQR'],\n",
              " 'Salary': [100, 125, 150, 110],\n",
              " 'Age': [30, 26, 41, 45, 26, 50, 49, 51, 28, 38]}"
            ]
          },
          "execution_count": 55,
          "metadata": {},
          "output_type": "execute_result"
        }
      ],
      "source": [
        "d1"
      ]
    },
    {
      "cell_type": "code",
      "execution_count": 56,
      "id": "880bbcb2",
      "metadata": {
        "id": "880bbcb2",
        "outputId": "15bac7d4-6684-42d0-fe02-ba78cc4789d7"
      },
      "outputs": [
        {
          "data": {
            "text/plain": [
              "{'AADHAAR': [123, 456, 789, 119], 'Location': ['DEL', 'MUM', 'KOL', 'HYD']}"
            ]
          },
          "execution_count": 56,
          "metadata": {},
          "output_type": "execute_result"
        }
      ],
      "source": [
        "new_dictionary_3"
      ]
    },
    {
      "cell_type": "code",
      "execution_count": 57,
      "id": "8d14053e",
      "metadata": {
        "id": "8d14053e"
      },
      "outputs": [],
      "source": [
        "d1.update({k:new_dictionary_3[k] for k in new_dictionary_3.keys() if k==\"AADHAAR\"})"
      ]
    },
    {
      "cell_type": "code",
      "execution_count": 58,
      "id": "01f8c338",
      "metadata": {
        "id": "01f8c338",
        "outputId": "1fd7db2d-7c71-429f-8369-a080f478c78e"
      },
      "outputs": [
        {
          "name": "stdout",
          "output_type": "stream",
          "text": [
            "{'ID': [1, 2, 3, 4], 'Name': ['ABD', 'DEF', 'DEF', 'PQR'], 'Salary': [100, 125, 150, 110], 'Age': [30, 26, 41, 45, 26, 50, 49, 51, 28, 38], 'AADHAAR': [123, 456, 789, 119]}\n"
          ]
        }
      ],
      "source": [
        "print(d1)"
      ]
    },
    {
      "cell_type": "markdown",
      "id": "a6578ea0",
      "metadata": {
        "id": "a6578ea0"
      },
      "source": [
        "### DataFrame"
      ]
    },
    {
      "cell_type": "code",
      "execution_count": 59,
      "id": "546dd3ef",
      "metadata": {
        "id": "546dd3ef"
      },
      "outputs": [],
      "source": [
        "import pandas as pd"
      ]
    },
    {
      "cell_type": "code",
      "execution_count": 60,
      "id": "52248d17",
      "metadata": {
        "id": "52248d17",
        "outputId": "12e04ee2-fbe6-481a-c991-298a25b21c64"
      },
      "outputs": [
        {
          "data": {
            "text/plain": [
              "[30, 26, 41, 45, 26, 50, 49, 51, 28, 38]"
            ]
          },
          "execution_count": 60,
          "metadata": {},
          "output_type": "execute_result"
        }
      ],
      "source": [
        "d1.pop(\"Age\")"
      ]
    },
    {
      "cell_type": "code",
      "execution_count": 61,
      "id": "cfaa4c04",
      "metadata": {
        "id": "cfaa4c04"
      },
      "outputs": [],
      "source": [
        "df = pd.DataFrame(d1)"
      ]
    },
    {
      "cell_type": "code",
      "execution_count": 62,
      "id": "9d92c0e8",
      "metadata": {
        "id": "9d92c0e8",
        "outputId": "3ae6d022-b89a-41ad-c326-1fdba1bdc175"
      },
      "outputs": [
        {
          "data": {
            "text/html": [
              "<div>\n",
              "<style scoped>\n",
              "    .dataframe tbody tr th:only-of-type {\n",
              "        vertical-align: middle;\n",
              "    }\n",
              "\n",
              "    .dataframe tbody tr th {\n",
              "        vertical-align: top;\n",
              "    }\n",
              "\n",
              "    .dataframe thead th {\n",
              "        text-align: right;\n",
              "    }\n",
              "</style>\n",
              "<table border=\"1\" class=\"dataframe\">\n",
              "  <thead>\n",
              "    <tr style=\"text-align: right;\">\n",
              "      <th></th>\n",
              "      <th>ID</th>\n",
              "      <th>Name</th>\n",
              "      <th>Salary</th>\n",
              "      <th>AADHAAR</th>\n",
              "    </tr>\n",
              "  </thead>\n",
              "  <tbody>\n",
              "    <tr>\n",
              "      <th>0</th>\n",
              "      <td>1</td>\n",
              "      <td>ABD</td>\n",
              "      <td>100</td>\n",
              "      <td>123</td>\n",
              "    </tr>\n",
              "    <tr>\n",
              "      <th>1</th>\n",
              "      <td>2</td>\n",
              "      <td>DEF</td>\n",
              "      <td>125</td>\n",
              "      <td>456</td>\n",
              "    </tr>\n",
              "    <tr>\n",
              "      <th>2</th>\n",
              "      <td>3</td>\n",
              "      <td>DEF</td>\n",
              "      <td>150</td>\n",
              "      <td>789</td>\n",
              "    </tr>\n",
              "    <tr>\n",
              "      <th>3</th>\n",
              "      <td>4</td>\n",
              "      <td>PQR</td>\n",
              "      <td>110</td>\n",
              "      <td>119</td>\n",
              "    </tr>\n",
              "  </tbody>\n",
              "</table>\n",
              "</div>"
            ],
            "text/plain": [
              "   ID Name  Salary  AADHAAR\n",
              "0   1  ABD     100      123\n",
              "1   2  DEF     125      456\n",
              "2   3  DEF     150      789\n",
              "3   4  PQR     110      119"
            ]
          },
          "execution_count": 62,
          "metadata": {},
          "output_type": "execute_result"
        }
      ],
      "source": [
        "df"
      ]
    },
    {
      "cell_type": "code",
      "execution_count": 63,
      "id": "2964ef03",
      "metadata": {
        "id": "2964ef03"
      },
      "outputs": [],
      "source": [
        "df[\"Age\"] = (23, 24, 29, 27)"
      ]
    },
    {
      "cell_type": "code",
      "execution_count": 64,
      "id": "f8bf7e13",
      "metadata": {
        "id": "f8bf7e13",
        "outputId": "3697ee66-35dc-4f5c-f62a-a4ac71051160"
      },
      "outputs": [
        {
          "data": {
            "text/html": [
              "<div>\n",
              "<style scoped>\n",
              "    .dataframe tbody tr th:only-of-type {\n",
              "        vertical-align: middle;\n",
              "    }\n",
              "\n",
              "    .dataframe tbody tr th {\n",
              "        vertical-align: top;\n",
              "    }\n",
              "\n",
              "    .dataframe thead th {\n",
              "        text-align: right;\n",
              "    }\n",
              "</style>\n",
              "<table border=\"1\" class=\"dataframe\">\n",
              "  <thead>\n",
              "    <tr style=\"text-align: right;\">\n",
              "      <th></th>\n",
              "      <th>ID</th>\n",
              "      <th>Name</th>\n",
              "      <th>Salary</th>\n",
              "      <th>AADHAAR</th>\n",
              "      <th>Age</th>\n",
              "    </tr>\n",
              "  </thead>\n",
              "  <tbody>\n",
              "    <tr>\n",
              "      <th>0</th>\n",
              "      <td>1</td>\n",
              "      <td>ABD</td>\n",
              "      <td>100</td>\n",
              "      <td>123</td>\n",
              "      <td>23</td>\n",
              "    </tr>\n",
              "    <tr>\n",
              "      <th>1</th>\n",
              "      <td>2</td>\n",
              "      <td>DEF</td>\n",
              "      <td>125</td>\n",
              "      <td>456</td>\n",
              "      <td>24</td>\n",
              "    </tr>\n",
              "    <tr>\n",
              "      <th>2</th>\n",
              "      <td>3</td>\n",
              "      <td>DEF</td>\n",
              "      <td>150</td>\n",
              "      <td>789</td>\n",
              "      <td>29</td>\n",
              "    </tr>\n",
              "    <tr>\n",
              "      <th>3</th>\n",
              "      <td>4</td>\n",
              "      <td>PQR</td>\n",
              "      <td>110</td>\n",
              "      <td>119</td>\n",
              "      <td>27</td>\n",
              "    </tr>\n",
              "  </tbody>\n",
              "</table>\n",
              "</div>"
            ],
            "text/plain": [
              "   ID Name  Salary  AADHAAR  Age\n",
              "0   1  ABD     100      123   23\n",
              "1   2  DEF     125      456   24\n",
              "2   3  DEF     150      789   29\n",
              "3   4  PQR     110      119   27"
            ]
          },
          "execution_count": 64,
          "metadata": {},
          "output_type": "execute_result"
        }
      ],
      "source": [
        "df"
      ]
    },
    {
      "cell_type": "code",
      "execution_count": 65,
      "id": "f0554876",
      "metadata": {
        "id": "f0554876",
        "outputId": "d96ae8e3-87ec-42a1-ccfc-9129d02d3abc"
      },
      "outputs": [
        {
          "data": {
            "text/plain": [
              "np.int64(456)"
            ]
          },
          "execution_count": 65,
          "metadata": {},
          "output_type": "execute_result"
        }
      ],
      "source": [
        "df[\"AADHAAR\"][1]"
      ]
    },
    {
      "cell_type": "code",
      "execution_count": 66,
      "id": "590abdbe",
      "metadata": {
        "id": "590abdbe",
        "outputId": "5bad8e58-5088-4541-b155-ea3a387aeb18"
      },
      "outputs": [
        {
          "data": {
            "text/html": [
              "<div>\n",
              "<style scoped>\n",
              "    .dataframe tbody tr th:only-of-type {\n",
              "        vertical-align: middle;\n",
              "    }\n",
              "\n",
              "    .dataframe tbody tr th {\n",
              "        vertical-align: top;\n",
              "    }\n",
              "\n",
              "    .dataframe thead th {\n",
              "        text-align: right;\n",
              "    }\n",
              "</style>\n",
              "<table border=\"1\" class=\"dataframe\">\n",
              "  <thead>\n",
              "    <tr style=\"text-align: right;\">\n",
              "      <th></th>\n",
              "      <th>ID</th>\n",
              "      <th>Name</th>\n",
              "      <th>Salary</th>\n",
              "      <th>AADHAAR</th>\n",
              "      <th>Age</th>\n",
              "    </tr>\n",
              "  </thead>\n",
              "  <tbody>\n",
              "    <tr>\n",
              "      <th>0</th>\n",
              "      <td>1</td>\n",
              "      <td>ABD</td>\n",
              "      <td>100</td>\n",
              "      <td>123</td>\n",
              "      <td>23</td>\n",
              "    </tr>\n",
              "    <tr>\n",
              "      <th>1</th>\n",
              "      <td>2</td>\n",
              "      <td>DEF</td>\n",
              "      <td>125</td>\n",
              "      <td>456</td>\n",
              "      <td>24</td>\n",
              "    </tr>\n",
              "    <tr>\n",
              "      <th>2</th>\n",
              "      <td>3</td>\n",
              "      <td>DEF</td>\n",
              "      <td>150</td>\n",
              "      <td>789</td>\n",
              "      <td>29</td>\n",
              "    </tr>\n",
              "    <tr>\n",
              "      <th>3</th>\n",
              "      <td>4</td>\n",
              "      <td>PQR</td>\n",
              "      <td>110</td>\n",
              "      <td>119</td>\n",
              "      <td>27</td>\n",
              "    </tr>\n",
              "  </tbody>\n",
              "</table>\n",
              "</div>"
            ],
            "text/plain": [
              "   ID Name  Salary  AADHAAR  Age\n",
              "0   1  ABD     100      123   23\n",
              "1   2  DEF     125      456   24\n",
              "2   3  DEF     150      789   29\n",
              "3   4  PQR     110      119   27"
            ]
          },
          "execution_count": 66,
          "metadata": {},
          "output_type": "execute_result"
        }
      ],
      "source": [
        "df"
      ]
    },
    {
      "cell_type": "code",
      "execution_count": 67,
      "id": "uhzpC5q6yDiY",
      "metadata": {
        "id": "uhzpC5q6yDiY"
      },
      "outputs": [],
      "source": [
        "df[\"Department\"] = [\"DS\", \"DE\", \"DA\", \"QT\"]"
      ]
    },
    {
      "cell_type": "code",
      "execution_count": null,
      "id": "1EIqis6yyl87",
      "metadata": {
        "colab": {
          "base_uri": "https://localhost:8080/"
        },
        "id": "1EIqis6yyl87",
        "outputId": "d0bb760e-fd38-4cdf-b3fa-6aa28028d972"
      },
      "outputs": [
        {
          "ename": "ModuleNotFoundError",
          "evalue": "No module named 'google'",
          "output_type": "error",
          "traceback": [
            "\u001b[31m---------------------------------------------------------------------------\u001b[39m",
            "\u001b[31mModuleNotFoundError\u001b[39m                       Traceback (most recent call last)",
            "\u001b[36mCell\u001b[39m\u001b[36m \u001b[39m\u001b[32mIn[68]\u001b[39m\u001b[32m, line 1\u001b[39m\n\u001b[32m----> \u001b[39m\u001b[32m1\u001b[39m \u001b[38;5;28;01mfrom\u001b[39;00m\u001b[38;5;250m \u001b[39m\u001b[34;01mgoogle\u001b[39;00m\u001b[34;01m.\u001b[39;00m\u001b[34;01mcolab\u001b[39;00m\u001b[38;5;250m \u001b[39m\u001b[38;5;28;01mimport\u001b[39;00m drive\n\u001b[32m      2\u001b[39m drive.mount(\u001b[33m'\u001b[39m\u001b[33m/content/drive\u001b[39m\u001b[33m'\u001b[39m)\n",
            "\u001b[31mModuleNotFoundError\u001b[39m: No module named 'google'"
          ]
        }
      ],
      "source": [
        "# from google.colab import drive\n",
        "# drive.mount('/content/drive')"
      ]
    },
    {
      "cell_type": "code",
      "execution_count": null,
      "id": "Zx9Y7_x-yP-P",
      "metadata": {
        "id": "Zx9Y7_x-yP-P"
      },
      "outputs": [],
      "source": [
        "# Create a dataframe\n",
        "df = pd.read_csv(\"/content/drive/MyDrive/ML DL @ SP for MSc DS 2023-2025/gapminder.csv\")"
      ]
    },
    {
      "cell_type": "code",
      "execution_count": null,
      "id": "PDkjo8Wuzl3v",
      "metadata": {
        "colab": {
          "base_uri": "https://localhost:8080/",
          "height": 112
        },
        "id": "PDkjo8Wuzl3v",
        "outputId": "bd92930d-ec34-4fbb-af62-9573819c3414"
      },
      "outputs": [],
      "source": [
        "df.head(2)"
      ]
    },
    {
      "cell_type": "code",
      "execution_count": null,
      "id": "vgoDI2M_zphn",
      "metadata": {
        "colab": {
          "base_uri": "https://localhost:8080/",
          "height": 143
        },
        "id": "vgoDI2M_zphn",
        "outputId": "b4ea3e83-3696-470e-cf21-4a454403876f"
      },
      "outputs": [],
      "source": [
        "df.tail(3)"
      ]
    },
    {
      "cell_type": "code",
      "execution_count": null,
      "id": "DDUUJapdzrL4",
      "metadata": {
        "colab": {
          "base_uri": "https://localhost:8080/",
          "height": 363
        },
        "id": "DDUUJapdzrL4",
        "outputId": "0bfe7320-4585-4d18-d878-bc06c3227364"
      },
      "outputs": [],
      "source": [
        "# View last 10 records\n",
        "df.tail(10)"
      ]
    },
    {
      "cell_type": "code",
      "execution_count": null,
      "id": "lviyuuVr0H_Y",
      "metadata": {
        "colab": {
          "base_uri": "https://localhost:8080/",
          "height": 203
        },
        "id": "lviyuuVr0H_Y",
        "outputId": "ee7ce689-5f5c-4be7-e56b-16a25b6754df"
      },
      "outputs": [],
      "source": [
        "# We can use the built-in type function to check whether we are working with a pandas dataframe\n",
        "\n",
        "type(df)"
      ]
    },
    {
      "cell_type": "code",
      "execution_count": null,
      "id": "SjNZq2gV0fpf",
      "metadata": {
        "colab": {
          "base_uri": "https://localhost:8080/"
        },
        "id": "SjNZq2gV0fpf",
        "outputId": "b32277c5-742f-4adc-d17c-300cf297b873"
      },
      "outputs": [],
      "source": [
        "# getting the number of rows and columns using the shape `attribute`\n",
        "\n",
        "df.shape"
      ]
    },
    {
      "cell_type": "code",
      "execution_count": null,
      "id": "qlOzbH1R0hQQ",
      "metadata": {
        "colab": {
          "base_uri": "https://localhost:8080/"
        },
        "id": "qlOzbH1R0hQQ",
        "outputId": "435d17fa-5caf-4267-db7d-54f28bc00ac0"
      },
      "outputs": [],
      "source": [
        "df.columns"
      ]
    },
    {
      "cell_type": "code",
      "execution_count": null,
      "id": "DOO5bd2L0KT3",
      "metadata": {
        "colab": {
          "base_uri": "https://localhost:8080/"
        },
        "id": "DOO5bd2L0KT3",
        "outputId": "abb39630-4084-46c2-8153-a61f216a8b90"
      },
      "outputs": [],
      "source": [
        "df.dtypes"
      ]
    },
    {
      "cell_type": "code",
      "execution_count": null,
      "id": "LrjkniZ40jr2",
      "metadata": {
        "colab": {
          "base_uri": "https://localhost:8080/"
        },
        "id": "LrjkniZ40jr2",
        "outputId": "6a1bf5bd-55ec-4651-ac92-e32d0dc454de"
      },
      "outputs": [],
      "source": [
        "# getting more info from our dataset\n",
        "\n",
        "df.info()"
      ]
    },
    {
      "cell_type": "code",
      "execution_count": null,
      "id": "QwaDMCdvNqwA",
      "metadata": {
        "colab": {
          "base_uri": "https://localhost:8080/"
        },
        "id": "QwaDMCdvNqwA",
        "outputId": "c69ef9d5-03be-40f2-84b9-8e7acd25d9a1"
      },
      "outputs": [],
      "source": [
        "# Subsetting columns\n",
        "\n",
        "country_df = df['country']\n",
        "\n",
        "country_df.head()"
      ]
    },
    {
      "cell_type": "code",
      "execution_count": null,
      "id": "UkXnRDaNdQpv",
      "metadata": {
        "colab": {
          "base_uri": "https://localhost:8080/",
          "height": 203
        },
        "id": "UkXnRDaNdQpv",
        "outputId": "5c949fb1-0411-4e31-85f0-92b51bc7b32d"
      },
      "outputs": [],
      "source": [
        "type(country_df)"
      ]
    },
    {
      "cell_type": "code",
      "execution_count": null,
      "id": "SmII5W71Ntp9",
      "metadata": {
        "id": "SmII5W71Ntp9"
      },
      "outputs": [],
      "source": [
        "# Subsetting country, continent and year\n",
        "\n",
        "sub = df[['country', 'continent', 'year']]"
      ]
    },
    {
      "cell_type": "code",
      "execution_count": null,
      "id": "KUJZEJOzdmzT",
      "metadata": {
        "colab": {
          "base_uri": "https://localhost:8080/",
          "height": 203
        },
        "id": "KUJZEJOzdmzT",
        "outputId": "9ba62cd7-304d-4cba-d45f-618a26e56c42"
      },
      "outputs": [],
      "source": [
        "type(sub)"
      ]
    },
    {
      "cell_type": "code",
      "execution_count": null,
      "id": "AuoKV4mzNzX1",
      "metadata": {
        "colab": {
          "base_uri": "https://localhost:8080/"
        },
        "id": "AuoKV4mzNzX1",
        "outputId": "b25fbdad-5c96-4c0e-9a42-b60d644d10df"
      },
      "outputs": [],
      "source": [
        "# Subset rows\n",
        "\n",
        "df.loc[0]"
      ]
    },
    {
      "cell_type": "code",
      "execution_count": null,
      "id": "Lb81FR31d1NA",
      "metadata": {
        "colab": {
          "base_uri": "https://localhost:8080/"
        },
        "id": "Lb81FR31d1NA",
        "outputId": "dabdf78b-a2a0-4242-9744-05ffc510a918"
      },
      "outputs": [],
      "source": [
        "df.loc[100]"
      ]
    },
    {
      "cell_type": "code",
      "execution_count": null,
      "id": "47QkfqnBN0Tt",
      "metadata": {
        "colab": {
          "base_uri": "https://localhost:8080/",
          "height": 143
        },
        "id": "47QkfqnBN0Tt",
        "outputId": "1d30932a-c083-43da-de24-f091e7813138"
      },
      "outputs": [],
      "source": [
        "# subsetting multiple rows\n",
        "\n",
        "df.loc[[0, 99, 999]]"
      ]
    },
    {
      "cell_type": "code",
      "execution_count": null,
      "id": "XGxxPu7fN5Hl",
      "metadata": {
        "colab": {
          "base_uri": "https://localhost:8080/"
        },
        "id": "XGxxPu7fN5Hl",
        "outputId": "e14c5177-94b8-4f95-d83e-06ef3b52fbb4"
      },
      "outputs": [],
      "source": [
        "# get the last row\n",
        "\n",
        "df.iloc[-1]"
      ]
    },
    {
      "cell_type": "code",
      "execution_count": null,
      "id": "Q4qdXVeCeIkC",
      "metadata": {
        "colab": {
          "base_uri": "https://localhost:8080/",
          "height": 408
        },
        "id": "Q4qdXVeCeIkC",
        "outputId": "cdcee4ab-54a1-4bfe-b180-952f9e4e06f9"
      },
      "outputs": [],
      "source": [
        "df.loc[-1]"
      ]
    },
    {
      "cell_type": "code",
      "execution_count": null,
      "id": "CNM_e5cUN571",
      "metadata": {
        "colab": {
          "base_uri": "https://localhost:8080/",
          "height": 143
        },
        "id": "CNM_e5cUN571",
        "outputId": "3ac71029-b241-4349-b0b2-d72a421ea128"
      },
      "outputs": [],
      "source": [
        "# getting multiple rows using iloc\n",
        "\n",
        "df.iloc[[0, 99, 999]]"
      ]
    },
    {
      "cell_type": "markdown",
      "id": "szAgrDG-OBru",
      "metadata": {
        "id": "szAgrDG-OBru"
      },
      "source": [
        "The loc and iloc attributes can be used to obtain subsets of columns, rows or both. The general syntax for loc and iloc uses square brackets with a comma. The part to the left of the comma is the row values to subset; the part to the right of the comma is the column values to subset. That is, <br> df.loc[[rows], [columns]] <br>\n",
        "df.iloc[[rows], [columns]]"
      ]
    },
    {
      "cell_type": "code",
      "execution_count": null,
      "id": "vV1VuA96TGlu",
      "metadata": {
        "id": "vV1VuA96TGlu"
      },
      "outputs": [],
      "source": [
        "def demo_fun_1(x):\n",
        "  if x % 2 == 0:\n",
        "    return True\n",
        "  else:\n",
        "    return False"
      ]
    },
    {
      "cell_type": "code",
      "execution_count": null,
      "id": "5pCGjSf9Tzvr",
      "metadata": {
        "colab": {
          "base_uri": "https://localhost:8080/"
        },
        "id": "5pCGjSf9Tzvr",
        "outputId": "b693b0a9-8db2-4b56-e8e6-d2eaa17a05af"
      },
      "outputs": [],
      "source": [
        "list(filter(demo_fun_1, [1,2,3,4,5,6,7,8,9]))"
      ]
    },
    {
      "cell_type": "code",
      "execution_count": null,
      "id": "lCcXclBRT7bF",
      "metadata": {
        "colab": {
          "base_uri": "https://localhost:8080/"
        },
        "id": "lCcXclBRT7bF",
        "outputId": "a6739df9-556d-4311-a934-cdbd76c20eb8"
      },
      "outputs": [],
      "source": [
        "list(filter((lambda x: x % 2 == 0), [1,2,3,4,5,6,7,8,9]))"
      ]
    },
    {
      "cell_type": "code",
      "execution_count": null,
      "id": "-4LYWZcpgExH",
      "metadata": {
        "id": "-4LYWZcpgExH"
      },
      "outputs": [],
      "source": [
        "# loc[first_arg, second_arg]"
      ]
    },
    {
      "cell_type": "code",
      "execution_count": null,
      "id": "JqyQUHh-N-2c",
      "metadata": {
        "id": "JqyQUHh-N-2c"
      },
      "outputs": [],
      "source": [
        "subset2 = df.loc[: , [\"year\", \"population\"]]"
      ]
    },
    {
      "cell_type": "code",
      "execution_count": null,
      "id": "8ksDq8i2OJNd",
      "metadata": {
        "colab": {
          "base_uri": "https://localhost:8080/",
          "height": 206
        },
        "id": "8ksDq8i2OJNd",
        "outputId": "2bbaa7d4-a15a-4828-afbf-3c94ed737490"
      },
      "outputs": [],
      "source": [
        "subset2.head()"
      ]
    },
    {
      "cell_type": "code",
      "execution_count": null,
      "id": "ldoeRvc3OLc9",
      "metadata": {
        "id": "ldoeRvc3OLc9"
      },
      "outputs": [],
      "source": [
        "subset3 = df.iloc[:, [2, 4, -1]]"
      ]
    },
    {
      "cell_type": "code",
      "execution_count": null,
      "id": "Ueygg22SONgE",
      "metadata": {
        "colab": {
          "base_uri": "https://localhost:8080/",
          "height": 206
        },
        "id": "Ueygg22SONgE",
        "outputId": "3aa0b4e5-7b54-4cf9-be25-777336d6ddcc"
      },
      "outputs": [],
      "source": [
        "subset3.head()"
      ]
    },
    {
      "cell_type": "code",
      "execution_count": null,
      "id": "V8X5hyAsOPRc",
      "metadata": {
        "colab": {
          "base_uri": "https://localhost:8080/"
        },
        "id": "V8X5hyAsOPRc",
        "outputId": "9571aa3c-4138-4a30-c964-a32978bcbf40"
      },
      "outputs": [],
      "source": [
        "small_range = list(range(5))\n",
        "print(small_range)"
      ]
    },
    {
      "cell_type": "code",
      "execution_count": null,
      "id": "MZbMZc5AORVc",
      "metadata": {
        "id": "MZbMZc5AORVc"
      },
      "outputs": [],
      "source": [
        "subset4 = df.iloc[:, small_range]"
      ]
    },
    {
      "cell_type": "code",
      "execution_count": null,
      "id": "RLEc_yM7OTXA",
      "metadata": {
        "colab": {
          "base_uri": "https://localhost:8080/",
          "height": 206
        },
        "id": "RLEc_yM7OTXA",
        "outputId": "e4ae412d-8f5d-4bfb-ed84-233118696adf"
      },
      "outputs": [],
      "source": [
        "subset4.head()"
      ]
    },
    {
      "cell_type": "code",
      "execution_count": null,
      "id": "npxGLYU1OWuH",
      "metadata": {
        "id": "npxGLYU1OWuH"
      },
      "outputs": [],
      "source": [
        "small_range5 = list(range(3))\n",
        "subset5 = df.iloc[:, small_range5]"
      ]
    },
    {
      "cell_type": "code",
      "execution_count": null,
      "id": "yGs9TCBNOYdZ",
      "metadata": {
        "colab": {
          "base_uri": "https://localhost:8080/",
          "height": 206
        },
        "id": "yGs9TCBNOYdZ",
        "outputId": "c9dd3fd6-aeeb-4401-f4f5-287f2a996f17"
      },
      "outputs": [],
      "source": [
        "subset5.head()"
      ]
    },
    {
      "cell_type": "code",
      "execution_count": null,
      "id": "FH1oGfIeOa8v",
      "metadata": {
        "id": "FH1oGfIeOa8v"
      },
      "outputs": [],
      "source": [
        "subset6 = df.iloc[:, :3]"
      ]
    },
    {
      "cell_type": "code",
      "execution_count": null,
      "id": "Ys4rE70POclf",
      "metadata": {
        "colab": {
          "base_uri": "https://localhost:8080/"
        },
        "id": "Ys4rE70POclf",
        "outputId": "f57ea914-27d6-4320-a181-8c79894950e3"
      },
      "outputs": [],
      "source": [
        "print(subset6.head())"
      ]
    },
    {
      "cell_type": "code",
      "execution_count": null,
      "id": "GrcgSmpyOexP",
      "metadata": {
        "id": "GrcgSmpyOexP"
      },
      "outputs": [],
      "source": [
        "subset7 = df.iloc[:, 0:6:2]"
      ]
    },
    {
      "cell_type": "code",
      "execution_count": null,
      "id": "yZ6sXe4yOhJI",
      "metadata": {
        "colab": {
          "base_uri": "https://localhost:8080/"
        },
        "id": "yZ6sXe4yOhJI",
        "outputId": "ad6751a6-e557-4dd6-ac4d-70c36e9a9de1"
      },
      "outputs": [],
      "source": [
        "print(subset7.head())"
      ]
    },
    {
      "cell_type": "code",
      "execution_count": null,
      "id": "8jyAdVt2OjqM",
      "metadata": {
        "colab": {
          "base_uri": "https://localhost:8080/",
          "height": 35
        },
        "id": "8jyAdVt2OjqM",
        "outputId": "ff451bf9-a9be-4843-c491-31a10e9a417b"
      },
      "outputs": [],
      "source": [
        "# Specific rows and specific columns using loc\n",
        "\n",
        "df.loc[42, \"country\"]"
      ]
    },
    {
      "cell_type": "code",
      "execution_count": null,
      "id": "0nxlWz6yOlXU",
      "metadata": {
        "colab": {
          "base_uri": "https://localhost:8080/",
          "height": 35
        },
        "id": "0nxlWz6yOlXU",
        "outputId": "9a3a04e2-5526-42b2-d7eb-5a8a371f4f47"
      },
      "outputs": [],
      "source": [
        "# Specific rows and specific columns using iloc\n",
        "\n",
        "df.iloc[42, 0]"
      ]
    },
    {
      "cell_type": "code",
      "execution_count": null,
      "id": "25Vw0rREOoxm",
      "metadata": {
        "colab": {
          "base_uri": "https://localhost:8080/",
          "height": 143
        },
        "id": "25Vw0rREOoxm",
        "outputId": "5b9b30e3-7937-49c3-83c6-d94855cbae88"
      },
      "outputs": [],
      "source": [
        "# Subset multiple rows and columns\n",
        "\n",
        "df.iloc[[0, 99, 999], [0, 3, 5]]"
      ]
    },
    {
      "cell_type": "code",
      "execution_count": null,
      "id": "7060c539",
      "metadata": {
        "colab": {
          "base_uri": "https://localhost:8080/",
          "height": 143
        },
        "id": "7060c539",
        "outputId": "3716b149-b9be-481a-8d08-7795fcf1b6f5"
      },
      "outputs": [],
      "source": [
        "df.loc[[0, 9, 99], ['country', 'life_exp', 'gdp_cap']]"
      ]
    },
    {
      "cell_type": "code",
      "execution_count": null,
      "id": "6ca7a00b",
      "metadata": {
        "id": "6ca7a00b",
        "outputId": "0fab0d37-12a3-4157-b6ba-1e345480fcf9"
      },
      "outputs": [],
      "source": [
        "df"
      ]
    },
    {
      "cell_type": "code",
      "execution_count": null,
      "id": "7b7577e7",
      "metadata": {
        "id": "7b7577e7"
      },
      "outputs": [],
      "source": [
        "# Create a dataframe\n",
        "\n",
        "df = pd.read_csv(r\"D:\\ML_DL\\datasets\\gapminder.csv\")"
      ]
    },
    {
      "cell_type": "code",
      "execution_count": null,
      "id": "79400189",
      "metadata": {
        "id": "79400189",
        "outputId": "5ec2b660-0289-47fe-aa74-dfa69e7f7481"
      },
      "outputs": [],
      "source": [
        "df.head()"
      ]
    },
    {
      "cell_type": "code",
      "execution_count": null,
      "id": "e30b5616",
      "metadata": {
        "id": "e30b5616",
        "outputId": "b61a4e31-57e4-4c9d-b683-9db025071786"
      },
      "outputs": [],
      "source": [
        "df.tail()"
      ]
    },
    {
      "cell_type": "code",
      "execution_count": null,
      "id": "08afd557",
      "metadata": {
        "id": "08afd557",
        "outputId": "af104789-a01f-48cd-c63c-583991c06636"
      },
      "outputs": [],
      "source": [
        "# View last 10 records\n",
        "df.tail(10)"
      ]
    },
    {
      "cell_type": "code",
      "execution_count": null,
      "id": "7bc35e2f",
      "metadata": {
        "id": "7bc35e2f",
        "outputId": "dc4c7314-d7f0-4bf9-b782-edbf16a10211"
      },
      "outputs": [],
      "source": [
        "# We can use the built-in type function to check whether we are working with a pandas dataframe\n",
        "\n",
        "type(df)"
      ]
    },
    {
      "cell_type": "code",
      "execution_count": null,
      "id": "90861dff",
      "metadata": {
        "id": "90861dff",
        "outputId": "f200ad76-c586-4dea-ada2-996636d704d0"
      },
      "outputs": [],
      "source": [
        "# getting the number of rows and columns using the shape `attribute`\n",
        "\n",
        "df.shape"
      ]
    },
    {
      "cell_type": "code",
      "execution_count": null,
      "id": "987b692a",
      "metadata": {
        "id": "987b692a",
        "outputId": "27acc6bd-5b50-48ea-dab3-1375e9cc50ad"
      },
      "outputs": [],
      "source": [
        "df.columns"
      ]
    },
    {
      "cell_type": "code",
      "execution_count": null,
      "id": "0654db29",
      "metadata": {
        "id": "0654db29",
        "outputId": "8e5fd55d-5328-4aac-ad91-3c6e17db1cf0"
      },
      "outputs": [],
      "source": [
        "# getting information about our dataset\n",
        "\n",
        "df.info()"
      ]
    },
    {
      "cell_type": "code",
      "execution_count": null,
      "id": "76b762f0",
      "metadata": {
        "id": "76b762f0"
      },
      "outputs": [],
      "source": [
        "# Subsetting columns\n",
        "\n",
        "country_df = df['country']"
      ]
    },
    {
      "cell_type": "code",
      "execution_count": null,
      "id": "9e3a6b58",
      "metadata": {
        "id": "9e3a6b58",
        "outputId": "49b2def4-2590-4d7c-a9a6-a20e452238c7"
      },
      "outputs": [],
      "source": [
        "type(country_df)"
      ]
    },
    {
      "cell_type": "code",
      "execution_count": null,
      "id": "bc4a6e5d",
      "metadata": {
        "id": "bc4a6e5d",
        "outputId": "422ab0b7-8902-48b3-df83-e86435878a7b"
      },
      "outputs": [],
      "source": [
        "country_df.head()"
      ]
    },
    {
      "cell_type": "code",
      "execution_count": null,
      "id": "7d7bca19",
      "metadata": {
        "id": "7d7bca19"
      },
      "outputs": [],
      "source": [
        "# Subsetting country, continent and year\n",
        "\n",
        "sub = df[['country', 'continent', 'year']]"
      ]
    },
    {
      "cell_type": "code",
      "execution_count": null,
      "id": "0350b169",
      "metadata": {
        "id": "0350b169",
        "outputId": "d1e2e8d8-953b-4bda-a1e3-f363c811bce4"
      },
      "outputs": [],
      "source": [
        "type(sub)"
      ]
    },
    {
      "cell_type": "code",
      "execution_count": null,
      "id": "eb24be74",
      "metadata": {
        "id": "eb24be74",
        "outputId": "1d36a713-85c7-4af7-b1f3-2fc98cbeb258"
      },
      "outputs": [],
      "source": [
        "df.loc[0]"
      ]
    },
    {
      "cell_type": "code",
      "execution_count": null,
      "id": "313cd5a4",
      "metadata": {
        "id": "313cd5a4",
        "outputId": "9c96c615-ae51-40a3-a782-696c326acd6d"
      },
      "outputs": [],
      "source": [
        "df.loc[100]"
      ]
    },
    {
      "cell_type": "code",
      "execution_count": null,
      "id": "1cffc615",
      "metadata": {
        "id": "1cffc615",
        "outputId": "f273b9b3-39f4-4053-a1de-655f8ae77930"
      },
      "outputs": [],
      "source": [
        "# subsetting multiple rows\n",
        "\n",
        "df.loc[[0, 99, 999]]"
      ]
    },
    {
      "cell_type": "code",
      "execution_count": null,
      "id": "538fb656",
      "metadata": {
        "id": "538fb656",
        "outputId": "6ed9da0b-a69d-43a7-e6b6-5592e2529d04"
      },
      "outputs": [],
      "source": [
        "# get the last row\n",
        "\n",
        "df.iloc[-1]"
      ]
    },
    {
      "cell_type": "code",
      "execution_count": null,
      "id": "061aacd0",
      "metadata": {
        "id": "061aacd0",
        "outputId": "2a24ee07-786f-4b16-a0fa-012ecb5e3639"
      },
      "outputs": [],
      "source": [
        "# getting multiple rows using iloc\n",
        "\n",
        "df.iloc[[0, 99, 999]]"
      ]
    },
    {
      "cell_type": "markdown",
      "id": "97de460b",
      "metadata": {
        "id": "97de460b"
      },
      "source": [
        "The loc and iloc attributes can be used to obtain subsets of columns, rows or both. The general syntax for loc and iloc uses square brackets with a comma. The part to the left of the comma is the row values to subset; the part to the right of the comma is the column values to subset. That is, <br> df.loc[[rows], [columns]] <br>\n",
        "df.iloc[[rows], [columns]]"
      ]
    },
    {
      "cell_type": "code",
      "execution_count": null,
      "id": "7d34b43e",
      "metadata": {
        "id": "7d34b43e"
      },
      "outputs": [],
      "source": [
        "subset2 = df.loc[:, [\"year\", \"population\"]]"
      ]
    },
    {
      "cell_type": "code",
      "execution_count": null,
      "id": "5fc04bad",
      "metadata": {
        "id": "5fc04bad",
        "outputId": "81f6362f-99d5-4764-8d81-c282ac5a27cc"
      },
      "outputs": [],
      "source": [
        "subset2.head()"
      ]
    },
    {
      "cell_type": "code",
      "execution_count": null,
      "id": "e5290b22",
      "metadata": {
        "id": "e5290b22"
      },
      "outputs": [],
      "source": [
        "subset3 = df.iloc[:, [2, 4, -1]]"
      ]
    },
    {
      "cell_type": "code",
      "execution_count": null,
      "id": "608edd8f",
      "metadata": {
        "id": "608edd8f",
        "outputId": "c0616d5c-855c-41dd-8fbf-554d5bb67136"
      },
      "outputs": [],
      "source": [
        "subset3.head()"
      ]
    },
    {
      "cell_type": "code",
      "execution_count": null,
      "id": "90930a26",
      "metadata": {
        "id": "90930a26",
        "outputId": "47f3888e-cf12-4d8e-cded-a4718b47d967"
      },
      "outputs": [],
      "source": [
        "small_range = list(range(5))\n",
        "print(small_range)"
      ]
    },
    {
      "cell_type": "code",
      "execution_count": null,
      "id": "82d8b132",
      "metadata": {
        "id": "82d8b132"
      },
      "outputs": [],
      "source": [
        "subset4 = df.iloc[:, small_range]"
      ]
    },
    {
      "cell_type": "code",
      "execution_count": null,
      "id": "44492163",
      "metadata": {
        "id": "44492163",
        "outputId": "4ec91b98-8922-4cc9-c400-4bdc61ad501f"
      },
      "outputs": [],
      "source": [
        "subset4.head()"
      ]
    },
    {
      "cell_type": "code",
      "execution_count": null,
      "id": "ced8b7aa",
      "metadata": {
        "id": "ced8b7aa",
        "outputId": "5eb4272a-5354-41bf-c72a-e79286b0bfdc"
      },
      "outputs": [],
      "source": [
        "small_range5 = list(range(3))\n",
        "subset5 = df.iloc[:, small_range5]\n",
        "subset5.head()"
      ]
    },
    {
      "cell_type": "code",
      "execution_count": null,
      "id": "56962f97",
      "metadata": {
        "id": "56962f97",
        "outputId": "7faf5691-7f7a-46f5-dbfd-f01d0d2ba054"
      },
      "outputs": [],
      "source": [
        "subset6 = df.iloc[:, :3]\n",
        "print(subset6.head())"
      ]
    },
    {
      "cell_type": "code",
      "execution_count": null,
      "id": "d1d9ee05",
      "metadata": {
        "id": "d1d9ee05",
        "outputId": "f0fe1c61-068f-4ab2-fbe0-78be3c63e486"
      },
      "outputs": [],
      "source": [
        "subset7 = df.iloc[:, 0:6:2]\n",
        "print(subset7.head())"
      ]
    },
    {
      "cell_type": "code",
      "execution_count": null,
      "id": "1ace9cec",
      "metadata": {
        "id": "1ace9cec",
        "outputId": "51844588-5305-44c1-cd5f-9ac286bd7b4b"
      },
      "outputs": [],
      "source": [
        "# Specific rows and specific columns using loc\n",
        "\n",
        "df.loc[42, \"country\"]"
      ]
    },
    {
      "cell_type": "code",
      "execution_count": null,
      "id": "dcb8f078",
      "metadata": {
        "id": "dcb8f078",
        "outputId": "23b41aa4-0095-4959-ad9d-017efa656cab"
      },
      "outputs": [],
      "source": [
        "# Specific rows and specific columns using iloc\n",
        "\n",
        "df.iloc[42, 0]"
      ]
    },
    {
      "cell_type": "code",
      "execution_count": null,
      "id": "ab9c0a8b",
      "metadata": {
        "id": "ab9c0a8b",
        "outputId": "45f71298-fe80-4a69-dbc4-e2989e69565e"
      },
      "outputs": [],
      "source": [
        "# Subset multiple rows and columns\n",
        "\n",
        "df.iloc[[0, 99, 999], [0, 3, 5]]"
      ]
    },
    {
      "cell_type": "code",
      "execution_count": null,
      "id": "7a1ad317",
      "metadata": {
        "id": "7a1ad317",
        "outputId": "1c00259f-eafd-4c78-d30a-6e5ce0f0143c"
      },
      "outputs": [],
      "source": [
        "df.loc[[0, 9, 99], ['country', 'life_exp', 'gdp_cap']]"
      ]
    },
    {
      "cell_type": "markdown",
      "id": "f1584c47",
      "metadata": {
        "id": "f1584c47"
      },
      "source": [
        "- For each year in the dataset, what was the average life expectancy?\n",
        "- What is the average life average expectancy?\n",
        "- What is the average life population?\n",
        "- What is the average GDP?\n",
        "- What if we stratify the data by continent and perform the same calculations?\n",
        "- How many countries are listed in each continent?"
      ]
    },
    {
      "cell_type": "code",
      "execution_count": null,
      "id": "f3f2c1da",
      "metadata": {
        "id": "f3f2c1da",
        "outputId": "cf78e2d2-700b-4092-b595-f98eb2d21237"
      },
      "outputs": [],
      "source": [
        "# Question: For each year in our data, what was the average life expectancy?\n",
        "\n",
        "# Steps to follow\n",
        "\n",
        "# 1. Split the data into groups w.r.t. year using the groupby() method\n",
        "# 2. Extract the lifeExp\n",
        "# 3. Calculate the mean\n",
        "\n",
        "print(df.groupby('year')['life_exp'].mean())"
      ]
    },
    {
      "cell_type": "code",
      "execution_count": null,
      "id": "cac168b0",
      "metadata": {
        "id": "cac168b0"
      },
      "outputs": [],
      "source": [
        "# Question: What is the average life expectancy and average GDP per capita in every continent for each year?\n",
        "\n",
        "multi_group_var = df.groupby(['year', 'continent'])[['life_exp', 'gdp_cap']].mean()"
      ]
    },
    {
      "cell_type": "code",
      "execution_count": null,
      "id": "9adbb764",
      "metadata": {
        "id": "9adbb764",
        "outputId": "e11b5c3b-4398-4194-8e1c-1717f5e6ce08"
      },
      "outputs": [],
      "source": [
        "print(multi_group_var)"
      ]
    },
    {
      "cell_type": "code",
      "execution_count": null,
      "id": "cc174626",
      "metadata": {
        "id": "cc174626"
      },
      "outputs": [],
      "source": [
        "# Alternative representation\n",
        "\n",
        "flattened_result = multi_group_var.reset_index()"
      ]
    },
    {
      "cell_type": "code",
      "execution_count": null,
      "id": "accc4f34",
      "metadata": {
        "id": "accc4f34",
        "outputId": "58a5af0e-3274-40a6-92a7-cb8903461c49",
        "scrolled": true
      },
      "outputs": [],
      "source": [
        "print(flattened_result)"
      ]
    },
    {
      "cell_type": "code",
      "execution_count": null,
      "id": "0f083fd7",
      "metadata": {
        "id": "0f083fd7",
        "outputId": "5b2338b7-6323-4be1-922b-d0b554066159"
      },
      "outputs": [],
      "source": [
        "# Question: Find the total number of countries in every continent\n",
        "\n",
        "# use the nunique() method (number unique method)\n",
        "# to calculate the number of unqiue values in a Series\n",
        "\n",
        "print(df.groupby('continent')['country'].nunique())"
      ]
    },
    {
      "cell_type": "code",
      "execution_count": null,
      "id": "07f945e6",
      "metadata": {
        "id": "07f945e6"
      },
      "outputs": [],
      "source": [
        "# Question: What is the average life expectancy?\n",
        "\n",
        "global_yearly_life_expectancy = df.groupby('year')['life_exp'].mean()"
      ]
    },
    {
      "cell_type": "code",
      "execution_count": null,
      "id": "5c7720f7",
      "metadata": {
        "id": "5c7720f7",
        "outputId": "20a5a97a-949b-4ba5-84b9-2c7f73ab0d49"
      },
      "outputs": [],
      "source": [
        "print(global_yearly_life_expectancy)"
      ]
    },
    {
      "cell_type": "code",
      "execution_count": null,
      "id": "8af99ba8",
      "metadata": {
        "id": "8af99ba8",
        "outputId": "21aa91cd-6fde-4a50-fade-6570328ff9d4"
      },
      "outputs": [],
      "source": [
        "global_yearly_life_expectancy.plot()"
      ]
    },
    {
      "cell_type": "code",
      "execution_count": null,
      "id": "8fd22105",
      "metadata": {
        "id": "8fd22105",
        "outputId": "67093206-425a-4991-98c7-f595e62fdc9e"
      },
      "outputs": [],
      "source": [
        "df.head(10)"
      ]
    },
    {
      "cell_type": "code",
      "execution_count": null,
      "id": "d6161f18",
      "metadata": {
        "id": "d6161f18",
        "outputId": "edc0fa4c-6ff1-41e5-f261-d621575f3f0c"
      },
      "outputs": [],
      "source": [
        "# Question: What is the average GDP per capita?\n",
        "\n",
        "df['gdp_cap'].mean()"
      ]
    },
    {
      "cell_type": "code",
      "execution_count": null,
      "id": "9687d1e7",
      "metadata": {
        "id": "9687d1e7",
        "outputId": "7a3bd141-f427-4141-94e6-512ed6b3cd35"
      },
      "outputs": [],
      "source": [
        "# Question: What is the minimum GDP per capita?\n",
        "\n",
        "df['gdp_cap'].min()"
      ]
    },
    {
      "cell_type": "code",
      "execution_count": null,
      "id": "b935f95b",
      "metadata": {
        "id": "b935f95b",
        "outputId": "dcc136f6-efd2-4e44-c7b3-3af1de0b9891"
      },
      "outputs": [],
      "source": [
        "# Question: What is the maximum GDP per capita?\n",
        "\n",
        "df['gdp_cap'].max()"
      ]
    },
    {
      "cell_type": "code",
      "execution_count": null,
      "id": "4f920145",
      "metadata": {
        "id": "4f920145",
        "outputId": "07aa144a-8a6f-4b19-d8b9-882fc40f34c2"
      },
      "outputs": [],
      "source": [
        "# Question: What is the average deviation in the GDP per capita?\n",
        "\n",
        "df['gdp_cap'].std()"
      ]
    },
    {
      "cell_type": "code",
      "execution_count": null,
      "id": "45d8f4da",
      "metadata": {
        "id": "45d8f4da",
        "outputId": "38c8cd3a-5f4a-4dcb-cac7-6f62c9a7590b"
      },
      "outputs": [],
      "source": [
        "# Question: Find the median GDP per capita\n",
        "\n",
        "df['gdp_cap'].median()"
      ]
    },
    {
      "cell_type": "code",
      "execution_count": null,
      "id": "49abf015",
      "metadata": {
        "id": "49abf015",
        "outputId": "06d8665e-a9d6-4fcf-b824-b7c83a0cdb5e"
      },
      "outputs": [],
      "source": [
        "df[\"gdp_cap\"].describe()"
      ]
    },
    {
      "cell_type": "code",
      "execution_count": null,
      "id": "551ab1ee",
      "metadata": {
        "id": "551ab1ee",
        "outputId": "a758e496-805a-4d66-ea8e-703aa9aae3e1"
      },
      "outputs": [],
      "source": [
        "df.describe()"
      ]
    },
    {
      "cell_type": "code",
      "execution_count": null,
      "id": "fcccebbb",
      "metadata": {
        "id": "fcccebbb"
      },
      "outputs": [],
      "source": []
    },
    {
      "cell_type": "code",
      "execution_count": null,
      "id": "6ccb1f30",
      "metadata": {
        "id": "6ccb1f30",
        "outputId": "f33c3e27-6a84-47af-b6cf-893a3beede84",
        "scrolled": true
      },
      "outputs": [],
      "source": [
        "s3 = pd.Series([\"Rosenblatt\", \"Perceptron\"], index=[\"Inventor\", \"Invention\"])\n",
        "print(s3)"
      ]
    },
    {
      "cell_type": "code",
      "execution_count": null,
      "id": "fffc6b12",
      "metadata": {
        "id": "fffc6b12",
        "outputId": "54dca5f6-fb4b-46a1-fa1d-96f9b0d3c82a"
      },
      "outputs": [],
      "source": [
        "s3.iloc[0]"
      ]
    },
    {
      "cell_type": "code",
      "execution_count": null,
      "id": "c5359e08",
      "metadata": {
        "id": "c5359e08",
        "outputId": "c0706a8d-d681-4182-c651-13dba539b4d5",
        "scrolled": true
      },
      "outputs": [],
      "source": [
        "s3.loc['Invention']"
      ]
    },
    {
      "cell_type": "code",
      "execution_count": null,
      "id": "d07e858c",
      "metadata": {
        "id": "d07e858c"
      },
      "outputs": [],
      "source": [
        "dict1 = {\n",
        "    \"Name\":[\"Hinton\", \"Minsky\"],\n",
        "         \"Occupation\":[\"Mathematician\", \"Logician\"],\n",
        "         \"Invention\":[\"UAT\", \"MP Neuron\"]\n",
        "}"
      ]
    },
    {
      "cell_type": "code",
      "execution_count": null,
      "id": "a8aed2ad",
      "metadata": {
        "id": "a8aed2ad"
      },
      "outputs": [],
      "source": [
        "df1 = pd.DataFrame(dict1)"
      ]
    },
    {
      "cell_type": "code",
      "execution_count": null,
      "id": "f0e4b838",
      "metadata": {
        "colab": {
          "base_uri": "https://localhost:8080/"
        },
        "id": "f0e4b838",
        "outputId": "3b99e0e8-7422-4a2c-e44c-0ab45396eb98"
      },
      "outputs": [],
      "source": [
        "print(df1)"
      ]
    },
    {
      "cell_type": "code",
      "execution_count": null,
      "id": "26b1e11e",
      "metadata": {
        "id": "26b1e11e"
      },
      "outputs": [],
      "source": [
        "dict2 = dict(df1)"
      ]
    },
    {
      "cell_type": "code",
      "execution_count": null,
      "id": "eba9a3eb",
      "metadata": {
        "colab": {
          "base_uri": "https://localhost:8080/"
        },
        "id": "eba9a3eb",
        "outputId": "acbb60d5-fe71-451e-ceaa-2eebe7b7facc"
      },
      "outputs": [],
      "source": [
        "print(dict2)"
      ]
    },
    {
      "cell_type": "code",
      "execution_count": null,
      "id": "c701033b",
      "metadata": {
        "id": "c701033b"
      },
      "outputs": [],
      "source": [
        "cricketers = pd.DataFrame({\n",
        "    \"Name\":[\"MS Dhoni\", \"Kapil Dev\", \"Alan Border\"],\n",
        "    \"Nationality\":[\"Indian\", \"Indian\", \"Australian\"],\n",
        "    \"Born\":[\"1980-04-05\", \"1953-06-13\", \"1956-07-23\"],\n",
        "    \"Matches Played\":[350, 210, 110],\n",
        "    \"Runs Scored\":[10000, 4500, 6700]\n",
        "})"
      ]
    },
    {
      "cell_type": "code",
      "execution_count": null,
      "id": "7b378abc",
      "metadata": {
        "colab": {
          "base_uri": "https://localhost:8080/"
        },
        "id": "7b378abc",
        "outputId": "cf159e52-2869-4afc-d12e-34f6c4d6ffd9"
      },
      "outputs": [],
      "source": [
        "print(cricketers)"
      ]
    },
    {
      "cell_type": "code",
      "execution_count": null,
      "id": "fb076f70",
      "metadata": {
        "id": "fb076f70"
      },
      "outputs": [],
      "source": [
        "cricketers2 = pd.DataFrame({\n",
        "    \"Name\":[\"MS Dhoni\", \"Kapil Dev\", \"Alan Border\"],\n",
        "    \"Nationality\":[\"Indian\", \"Indian\", \"Australian\"],\n",
        "    \"Born\":[\"1980-04-05\", \"1953-06-13\", \"1956-07-23\"],\n",
        "    \"Matches Played\":[350, 210, 110],\n",
        "    \"Runs Scored\":[10000, 4500, 6700]},\n",
        "    columns=[\"Nationality\", \"Born\", \"Name\", \"Matches Played\", \"Runs Scored\"]\n",
        ")"
      ]
    },
    {
      "cell_type": "code",
      "execution_count": null,
      "id": "1d9a905e",
      "metadata": {
        "colab": {
          "base_uri": "https://localhost:8080/",
          "height": 143
        },
        "id": "1d9a905e",
        "outputId": "4ee5d5a4-62b5-4e75-c551-443fdac3fbbf"
      },
      "outputs": [],
      "source": [
        "cricketers2"
      ]
    },
    {
      "cell_type": "code",
      "execution_count": null,
      "id": "fe9cb84e",
      "metadata": {
        "id": "fe9cb84e"
      },
      "outputs": [],
      "source": [
        "cricketers3 = pd.DataFrame({\n",
        "    \"Name\":[\"MS Dhoni\", \"Kapil Dev\", \"Alan Border\"],\n",
        "    \"Nationality\":[\"Indian\", \"Indian\", \"Australian\"],\n",
        "    \"Born\":[\"1980-04-05\", \"1953-06-13\", \"1956-07-23\"],\n",
        "    \"Matches Played\":[350, 210, 110],\n",
        "    \"Runs Scored\":[10000, 4500, 6700]},\n",
        "    columns=[\"Nationality\", \"Born\", \"Name\", \"Matches Played\", \"Runs Scored\"],\n",
        "    index = [\"MS Dhoni\", \"Kapil Dev\", \"Alan Border\"]\n",
        ")"
      ]
    },
    {
      "cell_type": "code",
      "execution_count": null,
      "id": "c3f3e90f",
      "metadata": {
        "colab": {
          "base_uri": "https://localhost:8080/",
          "height": 143
        },
        "id": "c3f3e90f",
        "outputId": "a684d12f-eef6-496d-c8f6-d23a90d21403"
      },
      "outputs": [],
      "source": [
        "cricketers3"
      ]
    },
    {
      "cell_type": "code",
      "execution_count": null,
      "id": "603addc5",
      "metadata": {
        "id": "603addc5"
      },
      "outputs": [],
      "source": [
        "cricketers3.drop(columns=[\"Name\"], inplace=True)"
      ]
    },
    {
      "cell_type": "code",
      "execution_count": null,
      "id": "1b78f3de",
      "metadata": {
        "colab": {
          "base_uri": "https://localhost:8080/",
          "height": 143
        },
        "id": "1b78f3de",
        "outputId": "32236050-59c4-4ea2-d840-a83cfa87cde6"
      },
      "outputs": [],
      "source": [
        "cricketers3"
      ]
    },
    {
      "cell_type": "code",
      "execution_count": null,
      "id": "649a857e",
      "metadata": {
        "colab": {
          "base_uri": "https://localhost:8080/"
        },
        "id": "649a857e",
        "outputId": "4dca2318-74df-4597-ab3d-31d959503e99"
      },
      "outputs": [],
      "source": [
        "cricketers3.loc['Kapil Dev']"
      ]
    },
    {
      "cell_type": "code",
      "execution_count": null,
      "id": "28fa1695",
      "metadata": {
        "colab": {
          "base_uri": "https://localhost:8080/"
        },
        "id": "28fa1695",
        "outputId": "05c31931-c065-4466-9823-287e743e1949"
      },
      "outputs": [],
      "source": [
        "cricketers3.loc['Kapil Dev'].index"
      ]
    },
    {
      "cell_type": "code",
      "execution_count": null,
      "id": "806d41f4",
      "metadata": {
        "colab": {
          "base_uri": "https://localhost:8080/"
        },
        "id": "806d41f4",
        "outputId": "43b8481f-42f9-4f75-f3d3-6a729265b1da"
      },
      "outputs": [],
      "source": [
        "cricketers3.loc['Kapil Dev'].values"
      ]
    },
    {
      "cell_type": "code",
      "execution_count": null,
      "id": "168e9d15",
      "metadata": {
        "colab": {
          "base_uri": "https://localhost:8080/"
        },
        "id": "168e9d15",
        "outputId": "84144c36-4ffc-4b37-f376-b24d0ef67655"
      },
      "outputs": [],
      "source": [
        "cricketers3.loc['Kapil Dev'].keys()"
      ]
    }
  ],
  "metadata": {
    "colab": {
      "provenance": []
    },
    "kernelspec": {
      "display_name": "Python 3",
      "language": "python",
      "name": "python3"
    },
    "language_info": {
      "codemirror_mode": {
        "name": "ipython",
        "version": 3
      },
      "file_extension": ".py",
      "mimetype": "text/x-python",
      "name": "python",
      "nbconvert_exporter": "python",
      "pygments_lexer": "ipython3",
      "version": "3.13.5"
    }
  },
  "nbformat": 4,
  "nbformat_minor": 5
}
