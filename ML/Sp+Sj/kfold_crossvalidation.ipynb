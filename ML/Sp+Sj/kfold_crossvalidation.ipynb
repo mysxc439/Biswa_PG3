{
 "cells": [
  {
   "cell_type": "markdown",
   "id": "f43a94dd",
   "metadata": {},
   "source": [
    "# problem set 1"
   ]
  },
  {
   "cell_type": "markdown",
   "id": "899a8ab7",
   "metadata": {},
   "source": [
    "Load modules"
   ]
  },
  {
   "cell_type": "code",
   "execution_count": 1,
   "id": "8bb51cf7",
   "metadata": {},
   "outputs": [],
   "source": [
    "import numpy as np, pandas as pd, matplotlib.pyplot as plt\n",
    "np.random.seed(42) # set seed for reproducibility\n",
    "\n",
    "from sklearn.linear_model import LogisticRegression\n",
    "from sklearn.ensemble import RandomForestClassifier\n",
    "from sklearn.svm import SVC\n",
    "\n",
    "from sklearn.datasets import load_breast_cancer, load_wine\n",
    "from sklearn.model_selection import StratifiedKFold, KFold\n",
    "from sklearn.neighbors import KNeighborsClassifier\n",
    "from sklearn.naive_bayes import GaussianNB\n",
    "\n",
    "import warnings\n",
    "warnings.filterwarnings('ignore')"
   ]
  },
  {
   "cell_type": "markdown",
   "id": "3ae43107",
   "metadata": {},
   "source": [
    "Spliting and defined functions"
   ]
  },
  {
   "cell_type": "code",
   "execution_count": 2,
   "id": "4d824264",
   "metadata": {},
   "outputs": [],
   "source": [
    "def get_score(model, X_train, X_test, y_train, y_test):\n",
    "    model.fit(X_train, y_train)\n",
    "    return model.score(X_test, y_test)\n",
    "\n",
    "# 1. Load the dataset from sklearn.\n",
    "cancer_data = load_breast_cancer()\n",
    "wine_data = load_wine()\n",
    "# X_train_cancer, X_test_cancer, y_train_cancer, y_test_cancer = train_test_split(cancer_data.data, cancer_data.target, test_size=0.3)\n",
    "# X_train_wine, X_test_wine, y_train_wine, y_test_wine = train_test_split(wine_data.data, wine_data.target, test_size=0.3)"
   ]
  },
  {
   "cell_type": "code",
   "execution_count": 5,
   "id": "086715c6",
   "metadata": {},
   "outputs": [
    {
     "name": "stdout",
     "output_type": "stream",
     "text": [
      "Number of classes in breast cancer dataset: 2\n",
      "Number of classes in wine dataset: 3\n"
     ]
    }
   ],
   "source": [
    "# 2. Find the number of classes in the dataset.\n",
    "print(f\"Number of classes in breast cancer dataset: {len(np.unique(cancer_data.target))}\")\n",
    "print(f\"Number of classes in wine dataset: {len(np.unique(wine_data.target))}\")"
   ]
  },
  {
   "cell_type": "markdown",
   "id": "63e0c11c",
   "metadata": {},
   "source": [
    "3. Apply K-fold cross validation after choosing an appropriate value of K."
   ]
  },
  {
   "cell_type": "code",
   "execution_count": 6,
   "id": "d2fc616b",
   "metadata": {},
   "outputs": [],
   "source": [
    "def cv_scores(models, X, y, folds):\n",
    "    scores = {name: [] for name in models}\n",
    "    for train_index, test_index in folds.split(X, y):\n",
    "        X_train, X_test = X[train_index], X[test_index]\n",
    "        y_train, y_test = y[train_index], y[test_index]\n",
    "        for name, model in models.items():\n",
    "            scores[name].append(get_score(model, X_train, X_test, y_train, y_test))\n",
    "    return scores\n",
    "\n",
    "models = {\n",
    "    'logistic': LogisticRegression(solver='liblinear', multi_class='ovr'),\n",
    "    'svm': SVC(gamma='auto'),\n",
    "    'randomforest': RandomForestClassifier(n_estimators=40),\n",
    "    'knn': KNeighborsClassifier(),\n",
    "    'naive_bayes': GaussianNB()\n",
    "}"
   ]
  },
  {
   "cell_type": "markdown",
   "id": "3fa7c704",
   "metadata": {},
   "source": [
    "KFold"
   ]
  },
  {
   "cell_type": "code",
   "execution_count": 7,
   "id": "d55937a7",
   "metadata": {},
   "outputs": [
    {
     "data": {
      "text/html": [
       "<div>\n",
       "<style scoped>\n",
       "    .dataframe tbody tr th:only-of-type {\n",
       "        vertical-align: middle;\n",
       "    }\n",
       "\n",
       "    .dataframe tbody tr th {\n",
       "        vertical-align: top;\n",
       "    }\n",
       "\n",
       "    .dataframe thead th {\n",
       "        text-align: right;\n",
       "    }\n",
       "</style>\n",
       "<table border=\"1\" class=\"dataframe\">\n",
       "  <thead>\n",
       "    <tr style=\"text-align: right;\">\n",
       "      <th></th>\n",
       "      <th>0</th>\n",
       "      <th>1</th>\n",
       "      <th>2</th>\n",
       "      <th>3</th>\n",
       "      <th>4</th>\n",
       "      <th>average</th>\n",
       "    </tr>\n",
       "  </thead>\n",
       "  <tbody>\n",
       "    <tr>\n",
       "      <th>logistic</th>\n",
       "      <td>0.912281</td>\n",
       "      <td>0.947368</td>\n",
       "      <td>0.973684</td>\n",
       "      <td>0.973684</td>\n",
       "      <td>0.955752</td>\n",
       "      <td>0.952554</td>\n",
       "    </tr>\n",
       "    <tr>\n",
       "      <th>svm</th>\n",
       "      <td>0.403509</td>\n",
       "      <td>0.570175</td>\n",
       "      <td>0.649123</td>\n",
       "      <td>0.745614</td>\n",
       "      <td>0.769912</td>\n",
       "      <td>0.627667</td>\n",
       "    </tr>\n",
       "    <tr>\n",
       "      <th>randomforest</th>\n",
       "      <td>0.912281</td>\n",
       "      <td>0.956140</td>\n",
       "      <td>0.982456</td>\n",
       "      <td>0.964912</td>\n",
       "      <td>0.964602</td>\n",
       "      <td>0.956078</td>\n",
       "    </tr>\n",
       "    <tr>\n",
       "      <th>knn</th>\n",
       "      <td>0.859649</td>\n",
       "      <td>0.921053</td>\n",
       "      <td>0.964912</td>\n",
       "      <td>0.947368</td>\n",
       "      <td>0.938053</td>\n",
       "      <td>0.926207</td>\n",
       "    </tr>\n",
       "    <tr>\n",
       "      <th>naive_bayes</th>\n",
       "      <td>0.877193</td>\n",
       "      <td>0.921053</td>\n",
       "      <td>0.956140</td>\n",
       "      <td>0.973684</td>\n",
       "      <td>0.955752</td>\n",
       "      <td>0.936764</td>\n",
       "    </tr>\n",
       "  </tbody>\n",
       "</table>\n",
       "</div>"
      ],
      "text/plain": [
       "                     0         1         2         3         4   average\n",
       "logistic      0.912281  0.947368  0.973684  0.973684  0.955752  0.952554\n",
       "svm           0.403509  0.570175  0.649123  0.745614  0.769912  0.627667\n",
       "randomforest  0.912281  0.956140  0.982456  0.964912  0.964602  0.956078\n",
       "knn           0.859649  0.921053  0.964912  0.947368  0.938053  0.926207\n",
       "naive_bayes   0.877193  0.921053  0.956140  0.973684  0.955752  0.936764"
      ]
     },
     "metadata": {},
     "output_type": "display_data"
    }
   ],
   "source": [
    "kf_cancer= KFold(n_splits=5)\n",
    "cancer_scores = cv_scores(models, cancer_data.data, cancer_data.target, kf_cancer)\n",
    "result_cancer= pd.DataFrame(cancer_scores).T\n",
    "result_cancer[\"average\"] = result_cancer.mean(axis=1)\n",
    "display(result_cancer)"
   ]
  },
  {
   "cell_type": "code",
   "execution_count": 8,
   "id": "deffea12",
   "metadata": {},
   "outputs": [
    {
     "data": {
      "text/html": [
       "<div>\n",
       "<style scoped>\n",
       "    .dataframe tbody tr th:only-of-type {\n",
       "        vertical-align: middle;\n",
       "    }\n",
       "\n",
       "    .dataframe tbody tr th {\n",
       "        vertical-align: top;\n",
       "    }\n",
       "\n",
       "    .dataframe thead th {\n",
       "        text-align: right;\n",
       "    }\n",
       "</style>\n",
       "<table border=\"1\" class=\"dataframe\">\n",
       "  <thead>\n",
       "    <tr style=\"text-align: right;\">\n",
       "      <th></th>\n",
       "      <th>0</th>\n",
       "      <th>1</th>\n",
       "      <th>2</th>\n",
       "      <th>3</th>\n",
       "      <th>4</th>\n",
       "      <th>average</th>\n",
       "    </tr>\n",
       "  </thead>\n",
       "  <tbody>\n",
       "    <tr>\n",
       "      <th>logistic</th>\n",
       "      <td>0.916667</td>\n",
       "      <td>0.916667</td>\n",
       "      <td>0.888889</td>\n",
       "      <td>0.942857</td>\n",
       "      <td>1.000000</td>\n",
       "      <td>0.933016</td>\n",
       "    </tr>\n",
       "    <tr>\n",
       "      <th>svm</th>\n",
       "      <td>0.000000</td>\n",
       "      <td>0.388889</td>\n",
       "      <td>0.055556</td>\n",
       "      <td>0.085714</td>\n",
       "      <td>0.000000</td>\n",
       "      <td>0.106032</td>\n",
       "    </tr>\n",
       "    <tr>\n",
       "      <th>randomforest</th>\n",
       "      <td>0.944444</td>\n",
       "      <td>0.916667</td>\n",
       "      <td>0.916667</td>\n",
       "      <td>0.971429</td>\n",
       "      <td>1.000000</td>\n",
       "      <td>0.949841</td>\n",
       "    </tr>\n",
       "    <tr>\n",
       "      <th>knn</th>\n",
       "      <td>0.861111</td>\n",
       "      <td>0.833333</td>\n",
       "      <td>0.555556</td>\n",
       "      <td>0.771429</td>\n",
       "      <td>0.028571</td>\n",
       "      <td>0.610000</td>\n",
       "    </tr>\n",
       "    <tr>\n",
       "      <th>naive_bayes</th>\n",
       "      <td>0.944444</td>\n",
       "      <td>0.888889</td>\n",
       "      <td>0.944444</td>\n",
       "      <td>0.971429</td>\n",
       "      <td>0.914286</td>\n",
       "      <td>0.932698</td>\n",
       "    </tr>\n",
       "  </tbody>\n",
       "</table>\n",
       "</div>"
      ],
      "text/plain": [
       "                     0         1         2         3         4   average\n",
       "logistic      0.916667  0.916667  0.888889  0.942857  1.000000  0.933016\n",
       "svm           0.000000  0.388889  0.055556  0.085714  0.000000  0.106032\n",
       "randomforest  0.944444  0.916667  0.916667  0.971429  1.000000  0.949841\n",
       "knn           0.861111  0.833333  0.555556  0.771429  0.028571  0.610000\n",
       "naive_bayes   0.944444  0.888889  0.944444  0.971429  0.914286  0.932698"
      ]
     },
     "metadata": {},
     "output_type": "display_data"
    }
   ],
   "source": [
    "kf_wine= KFold(n_splits=5)\n",
    "wine_scores = cv_scores(models, wine_data.data, wine_data.target, kf_wine)\n",
    "result_wine= pd.DataFrame(wine_scores).T\n",
    "result_wine[\"average\"] = result_wine.mean(axis=1)\n",
    "display(result_wine)"
   ]
  },
  {
   "cell_type": "markdown",
   "id": "c6a90c49",
   "metadata": {},
   "source": [
    "Stratified KFold"
   ]
  },
  {
   "cell_type": "code",
   "execution_count": 9,
   "id": "059146b5",
   "metadata": {},
   "outputs": [
    {
     "data": {
      "text/html": [
       "<div>\n",
       "<style scoped>\n",
       "    .dataframe tbody tr th:only-of-type {\n",
       "        vertical-align: middle;\n",
       "    }\n",
       "\n",
       "    .dataframe tbody tr th {\n",
       "        vertical-align: top;\n",
       "    }\n",
       "\n",
       "    .dataframe thead th {\n",
       "        text-align: right;\n",
       "    }\n",
       "</style>\n",
       "<table border=\"1\" class=\"dataframe\">\n",
       "  <thead>\n",
       "    <tr style=\"text-align: right;\">\n",
       "      <th></th>\n",
       "      <th>0</th>\n",
       "      <th>1</th>\n",
       "      <th>2</th>\n",
       "      <th>3</th>\n",
       "      <th>4</th>\n",
       "      <th>average</th>\n",
       "    </tr>\n",
       "  </thead>\n",
       "  <tbody>\n",
       "    <tr>\n",
       "      <th>logistic</th>\n",
       "      <td>0.929825</td>\n",
       "      <td>0.938596</td>\n",
       "      <td>0.973684</td>\n",
       "      <td>0.947368</td>\n",
       "      <td>0.964602</td>\n",
       "      <td>0.950815</td>\n",
       "    </tr>\n",
       "    <tr>\n",
       "      <th>svm</th>\n",
       "      <td>0.622807</td>\n",
       "      <td>0.622807</td>\n",
       "      <td>0.631579</td>\n",
       "      <td>0.631579</td>\n",
       "      <td>0.628319</td>\n",
       "      <td>0.627418</td>\n",
       "    </tr>\n",
       "    <tr>\n",
       "      <th>randomforest</th>\n",
       "      <td>0.929825</td>\n",
       "      <td>0.947368</td>\n",
       "      <td>0.991228</td>\n",
       "      <td>0.964912</td>\n",
       "      <td>0.973451</td>\n",
       "      <td>0.961357</td>\n",
       "    </tr>\n",
       "    <tr>\n",
       "      <th>knn</th>\n",
       "      <td>0.885965</td>\n",
       "      <td>0.938596</td>\n",
       "      <td>0.938596</td>\n",
       "      <td>0.947368</td>\n",
       "      <td>0.929204</td>\n",
       "      <td>0.927946</td>\n",
       "    </tr>\n",
       "    <tr>\n",
       "      <th>naive_bayes</th>\n",
       "      <td>0.921053</td>\n",
       "      <td>0.921053</td>\n",
       "      <td>0.947368</td>\n",
       "      <td>0.947368</td>\n",
       "      <td>0.955752</td>\n",
       "      <td>0.938519</td>\n",
       "    </tr>\n",
       "  </tbody>\n",
       "</table>\n",
       "</div>"
      ],
      "text/plain": [
       "                     0         1         2         3         4   average\n",
       "logistic      0.929825  0.938596  0.973684  0.947368  0.964602  0.950815\n",
       "svm           0.622807  0.622807  0.631579  0.631579  0.628319  0.627418\n",
       "randomforest  0.929825  0.947368  0.991228  0.964912  0.973451  0.961357\n",
       "knn           0.885965  0.938596  0.938596  0.947368  0.929204  0.927946\n",
       "naive_bayes   0.921053  0.921053  0.947368  0.947368  0.955752  0.938519"
      ]
     },
     "metadata": {},
     "output_type": "display_data"
    }
   ],
   "source": [
    "skf_cancer = StratifiedKFold(n_splits=5)\n",
    "cancer_scores = cv_scores(models, cancer_data.data, cancer_data.target, skf_cancer)\n",
    "result_cancer= pd.DataFrame(cancer_scores).T\n",
    "result_cancer[\"average\"] = result_cancer.mean(axis=1)\n",
    "display(result_cancer)"
   ]
  },
  {
   "cell_type": "code",
   "execution_count": 10,
   "id": "207169aa",
   "metadata": {},
   "outputs": [
    {
     "data": {
      "text/plain": [
       "{'bootstrap': True,\n",
       " 'ccp_alpha': 0.0,\n",
       " 'class_weight': None,\n",
       " 'criterion': 'gini',\n",
       " 'max_depth': None,\n",
       " 'max_features': 'sqrt',\n",
       " 'max_leaf_nodes': None,\n",
       " 'max_samples': None,\n",
       " 'min_impurity_decrease': 0.0,\n",
       " 'min_samples_leaf': 1,\n",
       " 'min_samples_split': 2,\n",
       " 'min_weight_fraction_leaf': 0.0,\n",
       " 'monotonic_cst': None,\n",
       " 'n_estimators': 40,\n",
       " 'n_jobs': None,\n",
       " 'oob_score': False,\n",
       " 'random_state': None,\n",
       " 'verbose': 0,\n",
       " 'warm_start': False}"
      ]
     },
     "metadata": {},
     "output_type": "display_data"
    }
   ],
   "source": [
    "for train_index, test_index in skf_cancer.split(cancer_data.data, cancer_data.target):\n",
    "    X_train, X_test = cancer_data.data[train_index], cancer_data.data[test_index]\n",
    "    y_train, y_test = cancer_data.target[train_index], cancer_data.target[test_index]\n",
    "    result = RandomForestClassifier(n_estimators=40).fit(X_train, y_train)\n",
    "display(result.get_params())"
   ]
  },
  {
   "cell_type": "code",
   "execution_count": 11,
   "id": "0fadb125",
   "metadata": {},
   "outputs": [
    {
     "data": {
      "text/plain": [
       "0.9734513274336283"
      ]
     },
     "execution_count": 11,
     "metadata": {},
     "output_type": "execute_result"
    }
   ],
   "source": [
    "result.score(X_test, y_test)"
   ]
  },
  {
   "cell_type": "code",
   "execution_count": 12,
   "id": "8cf4da19",
   "metadata": {},
   "outputs": [
    {
     "data": {
      "text/html": [
       "<div>\n",
       "<style scoped>\n",
       "    .dataframe tbody tr th:only-of-type {\n",
       "        vertical-align: middle;\n",
       "    }\n",
       "\n",
       "    .dataframe tbody tr th {\n",
       "        vertical-align: top;\n",
       "    }\n",
       "\n",
       "    .dataframe thead th {\n",
       "        text-align: right;\n",
       "    }\n",
       "</style>\n",
       "<table border=\"1\" class=\"dataframe\">\n",
       "  <thead>\n",
       "    <tr style=\"text-align: right;\">\n",
       "      <th></th>\n",
       "      <th>0</th>\n",
       "      <th>1</th>\n",
       "      <th>2</th>\n",
       "      <th>3</th>\n",
       "      <th>4</th>\n",
       "      <th>average</th>\n",
       "    </tr>\n",
       "  </thead>\n",
       "  <tbody>\n",
       "    <tr>\n",
       "      <th>logistic</th>\n",
       "      <td>0.916667</td>\n",
       "      <td>0.944444</td>\n",
       "      <td>0.944444</td>\n",
       "      <td>1.000000</td>\n",
       "      <td>1.000000</td>\n",
       "      <td>0.961111</td>\n",
       "    </tr>\n",
       "    <tr>\n",
       "      <th>svm</th>\n",
       "      <td>0.361111</td>\n",
       "      <td>0.416667</td>\n",
       "      <td>0.444444</td>\n",
       "      <td>0.428571</td>\n",
       "      <td>0.485714</td>\n",
       "      <td>0.427302</td>\n",
       "    </tr>\n",
       "    <tr>\n",
       "      <th>randomforest</th>\n",
       "      <td>0.944444</td>\n",
       "      <td>0.944444</td>\n",
       "      <td>0.916667</td>\n",
       "      <td>1.000000</td>\n",
       "      <td>1.000000</td>\n",
       "      <td>0.961111</td>\n",
       "    </tr>\n",
       "    <tr>\n",
       "      <th>knn</th>\n",
       "      <td>0.722222</td>\n",
       "      <td>0.666667</td>\n",
       "      <td>0.638889</td>\n",
       "      <td>0.657143</td>\n",
       "      <td>0.771429</td>\n",
       "      <td>0.691270</td>\n",
       "    </tr>\n",
       "    <tr>\n",
       "      <th>naive_bayes</th>\n",
       "      <td>0.944444</td>\n",
       "      <td>0.972222</td>\n",
       "      <td>0.972222</td>\n",
       "      <td>0.942857</td>\n",
       "      <td>1.000000</td>\n",
       "      <td>0.966349</td>\n",
       "    </tr>\n",
       "  </tbody>\n",
       "</table>\n",
       "</div>"
      ],
      "text/plain": [
       "                     0         1         2         3         4   average\n",
       "logistic      0.916667  0.944444  0.944444  1.000000  1.000000  0.961111\n",
       "svm           0.361111  0.416667  0.444444  0.428571  0.485714  0.427302\n",
       "randomforest  0.944444  0.944444  0.916667  1.000000  1.000000  0.961111\n",
       "knn           0.722222  0.666667  0.638889  0.657143  0.771429  0.691270\n",
       "naive_bayes   0.944444  0.972222  0.972222  0.942857  1.000000  0.966349"
      ]
     },
     "metadata": {},
     "output_type": "display_data"
    }
   ],
   "source": [
    "skf_wine = StratifiedKFold(n_splits=5)\n",
    "wine_scores = cv_scores(models, wine_data.data, wine_data.target, skf_wine)\n",
    "result_wine= pd.DataFrame(wine_scores).T\n",
    "result_wine[\"average\"] = result_wine.mean(axis=1)\n",
    "display(result_wine)"
   ]
  }
 ],
 "metadata": {
  "kernelspec": {
   "display_name": "Python 3",
   "language": "python",
   "name": "python3"
  },
  "language_info": {
   "codemirror_mode": {
    "name": "ipython",
    "version": 3
   },
   "file_extension": ".py",
   "mimetype": "text/x-python",
   "name": "python",
   "nbconvert_exporter": "python",
   "pygments_lexer": "ipython3",
   "version": "3.13.7"
  }
 },
 "nbformat": 4,
 "nbformat_minor": 5
}
