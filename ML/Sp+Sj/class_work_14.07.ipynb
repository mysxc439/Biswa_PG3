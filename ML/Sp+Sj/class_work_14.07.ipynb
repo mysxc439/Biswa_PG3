{
 "cells": [
  {
   "cell_type": "markdown",
   "id": "77f90f16",
   "metadata": {},
   "source": [
    "Roughly written problems"
   ]
  },
  {
   "cell_type": "markdown",
   "id": "610af54e",
   "metadata": {},
   "source": [
    "arr1 = [[1,2,3,4],[5,6,7,8]]\n",
    "arr1.shape = (2,4)\n",
    "r=1,c=8\n",
    "\n",
    "arr2 = arr1.reshape(1,8);arr2\n",
    "\n",
    "---------------------------------------\n",
    "arr1 = [3,0,1]\n",
    "n = 3\n",
    "arr1_t = [0,1,2,3]\n",
    "\n",
    "arr1 = list(input(\"enter the elements: \"))\n",
    "[x for x in arr1_t if x not in arr1]"
   ]
  },
  {
   "cell_type": "markdown",
   "id": "d0a50ed0",
   "metadata": {},
   "source": [
    "Problem 1"
   ]
  },
  {
   "cell_type": "code",
   "execution_count": 26,
   "id": "a8c3852e",
   "metadata": {},
   "outputs": [
    {
     "name": "stdout",
     "output_type": "stream",
     "text": [
      "The shape of the array is: (2, 4)\n",
      "The array can be reshaped to the given dimensions.\n",
      "Returning the original array : \n",
      " [[1 2 3 4]\n",
      " [5 6 7 8]]\n"
     ]
    }
   ],
   "source": [
    "import numpy as np\n",
    "arr = np.array([[1,2,3,4],[5,6,7,8]])\n",
    "print(\"The shape of the array is:\", arr.shape)\n",
    "\n",
    "r, c = input(\"Enter the row, column (separated by space): \").split()\n",
    "r, c = int(r), int(c)\n",
    "if r*c != (arr.shape[0] * arr.shape[1]):\n",
    "    print(\"The array can be reshaped to the given dimensions.\")\n",
    "    print(\"Returning the original array : \\n\",arr)\n",
    "else:\n",
    "    print(\"new array is:\", arr.reshape(r, c))"
   ]
  },
  {
   "cell_type": "markdown",
   "id": "a7c77248",
   "metadata": {},
   "source": [
    "Problem 2"
   ]
  },
  {
   "cell_type": "code",
   "execution_count": null,
   "id": "77727bf4",
   "metadata": {},
   "outputs": [
    {
     "name": "stdout",
     "output_type": "stream",
     "text": [
      "The true array is: [0, 1, 2, 3, 4]\n",
      "The entered array is: [3, 5, 3, 2]\n",
      "missing elements are:  [0, 1, 4]\n"
     ]
    }
   ],
   "source": [
    "n = int(input(\"enter the number of elements: \"))\n",
    "arr_true = list(range(0,n+1))\n",
    "print(\"The true array is:\", arr_true)\n",
    "\n",
    "arr = [int(input(f\"enter the element {i+1}: \")) for i in range(n)]\n",
    "print(\"The entered array is:\", arr)\n",
    "print(\"missing elements are: \", [x for x in arr_true if x not in arr])"
   ]
  },
  {
   "cell_type": "code",
   "execution_count": null,
   "id": "93555dd1",
   "metadata": {},
   "outputs": [
    {
     "data": {
      "text/plain": [
       "[2, 3]"
      ]
     },
     "execution_count": 34,
     "metadata": {},
     "output_type": "execute_result"
    }
   ],
   "source": [
    "# two different methods to take user input array\n",
    "a = input(\"Enter the row, column (separated by comma): \").split(',')\n",
    "a = [int(i) for i in a]\n",
    "arr = [int(input(f\"enter the element {i+1}: \")) for i in range(n)]"
   ]
  }
 ],
 "metadata": {
  "kernelspec": {
   "display_name": "Python 3",
   "language": "python",
   "name": "python3"
  },
  "language_info": {
   "codemirror_mode": {
    "name": "ipython",
    "version": 3
   },
   "file_extension": ".py",
   "mimetype": "text/x-python",
   "name": "python",
   "nbconvert_exporter": "python",
   "pygments_lexer": "ipython3",
   "version": "3.13.5"
  }
 },
 "nbformat": 4,
 "nbformat_minor": 5
}
